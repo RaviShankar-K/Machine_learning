{
 "cells": [
  {
   "cell_type": "markdown",
   "metadata": {},
   "source": [
    "# Amazon Fine Food Reviews Analysis\n",
    "\n",
    "\n",
    "Data Source: https://www.kaggle.com/snap/amazon-fine-food-reviews <br>\n",
    "\n",
    "EDA: https://nycdatascience.com/blog/student-works/amazon-fine-foods-visualization/\n",
    "\n",
    "\n",
    "The Amazon Fine Food Reviews dataset consists of reviews of fine foods from Amazon.<br>\n",
    "\n",
    "Number of reviews: 568,454<br>\n",
    "Number of users: 256,059<br>\n",
    "Number of products: 74,258<br>\n",
    "Timespan: Oct 1999 - Oct 2012<br>\n",
    "Number of Attributes/Columns in data: 10 \n",
    "\n",
    "Attribute Information:\n",
    "\n",
    "1. Id\n",
    "2. ProductId - unique identifier for the product\n",
    "3. UserId - unqiue identifier for the user\n",
    "4. ProfileName\n",
    "5. HelpfulnessNumerator - number of users who found the review helpful\n",
    "6. HelpfulnessDenominator - number of users who indicated whether they found the review helpful or not\n",
    "7. Score - rating between 1 and 5\n",
    "8. Time - timestamp for the review\n",
    "9. Summary - brief summary of the review\n",
    "10. Text - text of the review\n",
    "\n",
    "\n",
    "#### Objective:\n",
    "Given a review, determine whether the review is positive (rating of 4 or 5) or negative (rating of 1 or 2).\n",
    "\n",
    "<br>\n",
    "[Q] How to determine if a review is positive or negative?<br>\n",
    "<br> \n",
    "[Ans] We could use Score/Rating. A rating of 4 or 5 can be cosnidered as a positive review. A rating of 1 or 2 can be considered as negative one. A review of rating 3 is considered nuetral and such reviews are ignored from our analysis. This is an approximate and proxy way of determining the polarity (positivity/negativity) of a review.\n",
    "\n",
    "\n"
   ]
  },
  {
   "cell_type": "markdown",
   "metadata": {},
   "source": [
    "# [1]. Reading Data"
   ]
  },
  {
   "cell_type": "markdown",
   "metadata": {},
   "source": [
    "## [1.1] Loading the data\n",
    "\n",
    "The dataset is available in two forms\n",
    "1. .csv file\n",
    "2. SQLite Database\n",
    "\n",
    "In order to load the data, We have used the SQLITE dataset as it is easier to query the data and visualise the data efficiently.\n",
    "<br> \n",
    "\n",
    "Here as we only want to get the global sentiment of the recommendations (positive or negative), we will purposefully ignore all Scores equal to 3. If the score is above 3, then the recommendation wil be set to \"positive\". Otherwise, it will be set to \"negative\"."
   ]
  },
  {
   "cell_type": "code",
   "execution_count": 1,
   "metadata": {},
   "outputs": [],
   "source": [
    "%matplotlib inline\n",
    "import warnings\n",
    "warnings.filterwarnings(\"ignore\")\n",
    "\n",
    "\n",
    "import sqlite3\n",
    "import pandas as pd\n",
    "import numpy as np\n",
    "import nltk\n",
    "import string\n",
    "import matplotlib.pyplot as plt\n",
    "import seaborn as sns\n",
    "from sklearn.feature_extraction.text import TfidfTransformer\n",
    "from sklearn.feature_extraction.text import TfidfVectorizer\n",
    "\n",
    "from sklearn.feature_extraction.text import CountVectorizer\n",
    "from sklearn.metrics import confusion_matrix\n",
    "from sklearn import metrics\n",
    "from sklearn.metrics import roc_curve, auc\n",
    "from nltk.stem.porter import PorterStemmer\n",
    "from sklearn.calibration import CalibratedClassifierCV\n",
    "from sklearn.svm import SVC\n",
    "from sklearn.linear_model import SGDClassifier\n",
    "\n",
    "import re\n",
    "# Tutorial about Python regular expressions: https://pymotw.com/2/re/\n",
    "import string\n",
    "from nltk.corpus import stopwords\n",
    "from nltk.stem import PorterStemmer\n",
    "from nltk.stem.wordnet import WordNetLemmatizer\n",
    "\n",
    "from gensim.models import Word2Vec\n",
    "from gensim.models import KeyedVectors\n",
    "import pickle\n",
    "\n",
    "from tqdm import tqdm\n",
    "import os"
   ]
  },
  {
   "cell_type": "code",
   "execution_count": 2,
   "metadata": {},
   "outputs": [
    {
     "name": "stdout",
     "output_type": "stream",
     "text": [
      "Number of data points in our data (30000, 10)\n"
     ]
    },
    {
     "data": {
      "text/html": [
       "<div>\n",
       "<style scoped>\n",
       "    .dataframe tbody tr th:only-of-type {\n",
       "        vertical-align: middle;\n",
       "    }\n",
       "\n",
       "    .dataframe tbody tr th {\n",
       "        vertical-align: top;\n",
       "    }\n",
       "\n",
       "    .dataframe thead th {\n",
       "        text-align: right;\n",
       "    }\n",
       "</style>\n",
       "<table border=\"1\" class=\"dataframe\">\n",
       "  <thead>\n",
       "    <tr style=\"text-align: right;\">\n",
       "      <th></th>\n",
       "      <th>Id</th>\n",
       "      <th>ProductId</th>\n",
       "      <th>UserId</th>\n",
       "      <th>ProfileName</th>\n",
       "      <th>HelpfulnessNumerator</th>\n",
       "      <th>HelpfulnessDenominator</th>\n",
       "      <th>Score</th>\n",
       "      <th>Time</th>\n",
       "      <th>Summary</th>\n",
       "      <th>Text</th>\n",
       "    </tr>\n",
       "  </thead>\n",
       "  <tbody>\n",
       "    <tr>\n",
       "      <th>0</th>\n",
       "      <td>1</td>\n",
       "      <td>B001E4KFG0</td>\n",
       "      <td>A3SGXH7AUHU8GW</td>\n",
       "      <td>delmartian</td>\n",
       "      <td>1</td>\n",
       "      <td>1</td>\n",
       "      <td>1</td>\n",
       "      <td>1303862400</td>\n",
       "      <td>Good Quality Dog Food</td>\n",
       "      <td>I have bought several of the Vitality canned d...</td>\n",
       "    </tr>\n",
       "    <tr>\n",
       "      <th>1</th>\n",
       "      <td>2</td>\n",
       "      <td>B00813GRG4</td>\n",
       "      <td>A1D87F6ZCVE5NK</td>\n",
       "      <td>dll pa</td>\n",
       "      <td>0</td>\n",
       "      <td>0</td>\n",
       "      <td>0</td>\n",
       "      <td>1346976000</td>\n",
       "      <td>Not as Advertised</td>\n",
       "      <td>Product arrived labeled as Jumbo Salted Peanut...</td>\n",
       "    </tr>\n",
       "    <tr>\n",
       "      <th>2</th>\n",
       "      <td>3</td>\n",
       "      <td>B000LQOCH0</td>\n",
       "      <td>ABXLMWJIXXAIN</td>\n",
       "      <td>Natalia Corres \"Natalia Corres\"</td>\n",
       "      <td>1</td>\n",
       "      <td>1</td>\n",
       "      <td>1</td>\n",
       "      <td>1219017600</td>\n",
       "      <td>\"Delight\" says it all</td>\n",
       "      <td>This is a confection that has been around a fe...</td>\n",
       "    </tr>\n",
       "  </tbody>\n",
       "</table>\n",
       "</div>"
      ],
      "text/plain": [
       "   Id   ProductId          UserId                      ProfileName  \\\n",
       "0   1  B001E4KFG0  A3SGXH7AUHU8GW                       delmartian   \n",
       "1   2  B00813GRG4  A1D87F6ZCVE5NK                           dll pa   \n",
       "2   3  B000LQOCH0   ABXLMWJIXXAIN  Natalia Corres \"Natalia Corres\"   \n",
       "\n",
       "   HelpfulnessNumerator  HelpfulnessDenominator  Score        Time  \\\n",
       "0                     1                       1      1  1303862400   \n",
       "1                     0                       0      0  1346976000   \n",
       "2                     1                       1      1  1219017600   \n",
       "\n",
       "                 Summary                                               Text  \n",
       "0  Good Quality Dog Food  I have bought several of the Vitality canned d...  \n",
       "1      Not as Advertised  Product arrived labeled as Jumbo Salted Peanut...  \n",
       "2  \"Delight\" says it all  This is a confection that has been around a fe...  "
      ]
     },
     "execution_count": 2,
     "metadata": {},
     "output_type": "execute_result"
    }
   ],
   "source": [
    "# using SQLite Table to read data.\n",
    "con = sqlite3.connect('database.sqlite') \n",
    "\n",
    "# filtering only positive and negative reviews i.e. \n",
    "# not taking into consideration those reviews with Score=3\n",
    "# SELECT * FROM Reviews WHERE Score != 3 LIMIT 500000, will give top 500000 data points\n",
    "# you can change the number to any other number based on your computing power\n",
    "\n",
    "# filtered_data = pd.read_sql_query(\"\"\" SELECT * FROM Reviews WHERE Score != 3 LIMIT 500000\"\"\", con) \n",
    "# for tsne assignment you can take 5k data points\n",
    "\n",
    "filtered_data = pd.read_sql_query(\"\"\" SELECT * FROM Reviews WHERE Score != 3 LIMIT 30000\"\"\", con) \n",
    "\n",
    "# Give reviews with Score>3 a positive rating(1), and reviews with a score<3 a negative rating(0).\n",
    "def partition(x):\n",
    "    if x < 3:\n",
    "        return 0\n",
    "    return 1\n",
    "\n",
    "#changing reviews with score less than 3 to be positive and vice-versa\n",
    "actualScore = filtered_data['Score']\n",
    "positiveNegative = actualScore.map(partition) \n",
    "filtered_data['Score'] = positiveNegative\n",
    "print(\"Number of data points in our data\", filtered_data.shape)\n",
    "filtered_data.head(3)"
   ]
  },
  {
   "cell_type": "code",
   "execution_count": 3,
   "metadata": {},
   "outputs": [],
   "source": [
    "display = pd.read_sql_query(\"\"\"\n",
    "SELECT UserId, ProductId, ProfileName, Time, Score, Text, COUNT(*)\n",
    "FROM Reviews\n",
    "GROUP BY UserId\n",
    "HAVING COUNT(*)>1\n",
    "\"\"\", con)"
   ]
  },
  {
   "cell_type": "code",
   "execution_count": 4,
   "metadata": {
    "scrolled": true
   },
   "outputs": [
    {
     "name": "stdout",
     "output_type": "stream",
     "text": [
      "(80668, 7)\n"
     ]
    },
    {
     "data": {
      "text/html": [
       "<div>\n",
       "<style scoped>\n",
       "    .dataframe tbody tr th:only-of-type {\n",
       "        vertical-align: middle;\n",
       "    }\n",
       "\n",
       "    .dataframe tbody tr th {\n",
       "        vertical-align: top;\n",
       "    }\n",
       "\n",
       "    .dataframe thead th {\n",
       "        text-align: right;\n",
       "    }\n",
       "</style>\n",
       "<table border=\"1\" class=\"dataframe\">\n",
       "  <thead>\n",
       "    <tr style=\"text-align: right;\">\n",
       "      <th></th>\n",
       "      <th>UserId</th>\n",
       "      <th>ProductId</th>\n",
       "      <th>ProfileName</th>\n",
       "      <th>Time</th>\n",
       "      <th>Score</th>\n",
       "      <th>Text</th>\n",
       "      <th>COUNT(*)</th>\n",
       "    </tr>\n",
       "  </thead>\n",
       "  <tbody>\n",
       "    <tr>\n",
       "      <th>0</th>\n",
       "      <td>#oc-R115TNMSPFT9I7</td>\n",
       "      <td>B007Y59HVM</td>\n",
       "      <td>Breyton</td>\n",
       "      <td>1331510400</td>\n",
       "      <td>2</td>\n",
       "      <td>Overall its just OK when considering the price...</td>\n",
       "      <td>2</td>\n",
       "    </tr>\n",
       "    <tr>\n",
       "      <th>1</th>\n",
       "      <td>#oc-R11D9D7SHXIJB9</td>\n",
       "      <td>B005HG9ET0</td>\n",
       "      <td>Louis E. Emory \"hoppy\"</td>\n",
       "      <td>1342396800</td>\n",
       "      <td>5</td>\n",
       "      <td>My wife has recurring extreme muscle spasms, u...</td>\n",
       "      <td>3</td>\n",
       "    </tr>\n",
       "    <tr>\n",
       "      <th>2</th>\n",
       "      <td>#oc-R11DNU2NBKQ23Z</td>\n",
       "      <td>B007Y59HVM</td>\n",
       "      <td>Kim Cieszykowski</td>\n",
       "      <td>1348531200</td>\n",
       "      <td>1</td>\n",
       "      <td>This coffee is horrible and unfortunately not ...</td>\n",
       "      <td>2</td>\n",
       "    </tr>\n",
       "    <tr>\n",
       "      <th>3</th>\n",
       "      <td>#oc-R11O5J5ZVQE25C</td>\n",
       "      <td>B005HG9ET0</td>\n",
       "      <td>Penguin Chick</td>\n",
       "      <td>1346889600</td>\n",
       "      <td>5</td>\n",
       "      <td>This will be the bottle that you grab from the...</td>\n",
       "      <td>3</td>\n",
       "    </tr>\n",
       "    <tr>\n",
       "      <th>4</th>\n",
       "      <td>#oc-R12KPBODL2B5ZD</td>\n",
       "      <td>B007OSBE1U</td>\n",
       "      <td>Christopher P. Presta</td>\n",
       "      <td>1348617600</td>\n",
       "      <td>1</td>\n",
       "      <td>I didnt like this coffee. Instead of telling y...</td>\n",
       "      <td>2</td>\n",
       "    </tr>\n",
       "  </tbody>\n",
       "</table>\n",
       "</div>"
      ],
      "text/plain": [
       "               UserId   ProductId             ProfileName        Time  Score  \\\n",
       "0  #oc-R115TNMSPFT9I7  B007Y59HVM                 Breyton  1331510400      2   \n",
       "1  #oc-R11D9D7SHXIJB9  B005HG9ET0  Louis E. Emory \"hoppy\"  1342396800      5   \n",
       "2  #oc-R11DNU2NBKQ23Z  B007Y59HVM        Kim Cieszykowski  1348531200      1   \n",
       "3  #oc-R11O5J5ZVQE25C  B005HG9ET0           Penguin Chick  1346889600      5   \n",
       "4  #oc-R12KPBODL2B5ZD  B007OSBE1U   Christopher P. Presta  1348617600      1   \n",
       "\n",
       "                                                Text  COUNT(*)  \n",
       "0  Overall its just OK when considering the price...         2  \n",
       "1  My wife has recurring extreme muscle spasms, u...         3  \n",
       "2  This coffee is horrible and unfortunately not ...         2  \n",
       "3  This will be the bottle that you grab from the...         3  \n",
       "4  I didnt like this coffee. Instead of telling y...         2  "
      ]
     },
     "execution_count": 4,
     "metadata": {},
     "output_type": "execute_result"
    }
   ],
   "source": [
    "print(display.shape)\n",
    "display.head()"
   ]
  },
  {
   "cell_type": "code",
   "execution_count": 5,
   "metadata": {},
   "outputs": [
    {
     "data": {
      "text/html": [
       "<div>\n",
       "<style scoped>\n",
       "    .dataframe tbody tr th:only-of-type {\n",
       "        vertical-align: middle;\n",
       "    }\n",
       "\n",
       "    .dataframe tbody tr th {\n",
       "        vertical-align: top;\n",
       "    }\n",
       "\n",
       "    .dataframe thead th {\n",
       "        text-align: right;\n",
       "    }\n",
       "</style>\n",
       "<table border=\"1\" class=\"dataframe\">\n",
       "  <thead>\n",
       "    <tr style=\"text-align: right;\">\n",
       "      <th></th>\n",
       "      <th>UserId</th>\n",
       "      <th>ProductId</th>\n",
       "      <th>ProfileName</th>\n",
       "      <th>Time</th>\n",
       "      <th>Score</th>\n",
       "      <th>Text</th>\n",
       "      <th>COUNT(*)</th>\n",
       "    </tr>\n",
       "  </thead>\n",
       "  <tbody>\n",
       "    <tr>\n",
       "      <th>80638</th>\n",
       "      <td>AZY10LLTJ71NX</td>\n",
       "      <td>B006P7E5ZI</td>\n",
       "      <td>undertheshrine \"undertheshrine\"</td>\n",
       "      <td>1334707200</td>\n",
       "      <td>5</td>\n",
       "      <td>I was recommended to try green tea extract to ...</td>\n",
       "      <td>5</td>\n",
       "    </tr>\n",
       "  </tbody>\n",
       "</table>\n",
       "</div>"
      ],
      "text/plain": [
       "              UserId   ProductId                      ProfileName        Time  \\\n",
       "80638  AZY10LLTJ71NX  B006P7E5ZI  undertheshrine \"undertheshrine\"  1334707200   \n",
       "\n",
       "       Score                                               Text  COUNT(*)  \n",
       "80638      5  I was recommended to try green tea extract to ...         5  "
      ]
     },
     "execution_count": 5,
     "metadata": {},
     "output_type": "execute_result"
    }
   ],
   "source": [
    "display[display['UserId']=='AZY10LLTJ71NX']"
   ]
  },
  {
   "cell_type": "code",
   "execution_count": 6,
   "metadata": {},
   "outputs": [
    {
     "data": {
      "text/plain": [
       "393063"
      ]
     },
     "execution_count": 6,
     "metadata": {},
     "output_type": "execute_result"
    }
   ],
   "source": [
    "display['COUNT(*)'].sum()"
   ]
  },
  {
   "cell_type": "markdown",
   "metadata": {},
   "source": [
    "#  [2] Exploratory Data Analysis"
   ]
  },
  {
   "cell_type": "markdown",
   "metadata": {},
   "source": [
    "## [2.1] Data Cleaning: Deduplication\n",
    "\n",
    "It is observed (as shown in the table below) that the reviews data had many duplicate entries. Hence it was necessary to remove duplicates in order to get unbiased results for the analysis of the data.  Following is an example:"
   ]
  },
  {
   "cell_type": "code",
   "execution_count": 7,
   "metadata": {
    "scrolled": false
   },
   "outputs": [
    {
     "data": {
      "text/html": [
       "<div>\n",
       "<style scoped>\n",
       "    .dataframe tbody tr th:only-of-type {\n",
       "        vertical-align: middle;\n",
       "    }\n",
       "\n",
       "    .dataframe tbody tr th {\n",
       "        vertical-align: top;\n",
       "    }\n",
       "\n",
       "    .dataframe thead th {\n",
       "        text-align: right;\n",
       "    }\n",
       "</style>\n",
       "<table border=\"1\" class=\"dataframe\">\n",
       "  <thead>\n",
       "    <tr style=\"text-align: right;\">\n",
       "      <th></th>\n",
       "      <th>Id</th>\n",
       "      <th>ProductId</th>\n",
       "      <th>UserId</th>\n",
       "      <th>ProfileName</th>\n",
       "      <th>HelpfulnessNumerator</th>\n",
       "      <th>HelpfulnessDenominator</th>\n",
       "      <th>Score</th>\n",
       "      <th>Time</th>\n",
       "      <th>Summary</th>\n",
       "      <th>Text</th>\n",
       "    </tr>\n",
       "  </thead>\n",
       "  <tbody>\n",
       "    <tr>\n",
       "      <th>0</th>\n",
       "      <td>78445</td>\n",
       "      <td>B000HDL1RQ</td>\n",
       "      <td>AR5J8UI46CURR</td>\n",
       "      <td>Geetha Krishnan</td>\n",
       "      <td>2</td>\n",
       "      <td>2</td>\n",
       "      <td>5</td>\n",
       "      <td>1199577600</td>\n",
       "      <td>LOACKER QUADRATINI VANILLA WAFERS</td>\n",
       "      <td>DELICIOUS WAFERS. I FIND THAT EUROPEAN WAFERS ...</td>\n",
       "    </tr>\n",
       "    <tr>\n",
       "      <th>1</th>\n",
       "      <td>138317</td>\n",
       "      <td>B000HDOPYC</td>\n",
       "      <td>AR5J8UI46CURR</td>\n",
       "      <td>Geetha Krishnan</td>\n",
       "      <td>2</td>\n",
       "      <td>2</td>\n",
       "      <td>5</td>\n",
       "      <td>1199577600</td>\n",
       "      <td>LOACKER QUADRATINI VANILLA WAFERS</td>\n",
       "      <td>DELICIOUS WAFERS. I FIND THAT EUROPEAN WAFERS ...</td>\n",
       "    </tr>\n",
       "    <tr>\n",
       "      <th>2</th>\n",
       "      <td>138277</td>\n",
       "      <td>B000HDOPYM</td>\n",
       "      <td>AR5J8UI46CURR</td>\n",
       "      <td>Geetha Krishnan</td>\n",
       "      <td>2</td>\n",
       "      <td>2</td>\n",
       "      <td>5</td>\n",
       "      <td>1199577600</td>\n",
       "      <td>LOACKER QUADRATINI VANILLA WAFERS</td>\n",
       "      <td>DELICIOUS WAFERS. I FIND THAT EUROPEAN WAFERS ...</td>\n",
       "    </tr>\n",
       "    <tr>\n",
       "      <th>3</th>\n",
       "      <td>73791</td>\n",
       "      <td>B000HDOPZG</td>\n",
       "      <td>AR5J8UI46CURR</td>\n",
       "      <td>Geetha Krishnan</td>\n",
       "      <td>2</td>\n",
       "      <td>2</td>\n",
       "      <td>5</td>\n",
       "      <td>1199577600</td>\n",
       "      <td>LOACKER QUADRATINI VANILLA WAFERS</td>\n",
       "      <td>DELICIOUS WAFERS. I FIND THAT EUROPEAN WAFERS ...</td>\n",
       "    </tr>\n",
       "    <tr>\n",
       "      <th>4</th>\n",
       "      <td>155049</td>\n",
       "      <td>B000PAQ75C</td>\n",
       "      <td>AR5J8UI46CURR</td>\n",
       "      <td>Geetha Krishnan</td>\n",
       "      <td>2</td>\n",
       "      <td>2</td>\n",
       "      <td>5</td>\n",
       "      <td>1199577600</td>\n",
       "      <td>LOACKER QUADRATINI VANILLA WAFERS</td>\n",
       "      <td>DELICIOUS WAFERS. I FIND THAT EUROPEAN WAFERS ...</td>\n",
       "    </tr>\n",
       "  </tbody>\n",
       "</table>\n",
       "</div>"
      ],
      "text/plain": [
       "       Id   ProductId         UserId      ProfileName  HelpfulnessNumerator  \\\n",
       "0   78445  B000HDL1RQ  AR5J8UI46CURR  Geetha Krishnan                     2   \n",
       "1  138317  B000HDOPYC  AR5J8UI46CURR  Geetha Krishnan                     2   \n",
       "2  138277  B000HDOPYM  AR5J8UI46CURR  Geetha Krishnan                     2   \n",
       "3   73791  B000HDOPZG  AR5J8UI46CURR  Geetha Krishnan                     2   \n",
       "4  155049  B000PAQ75C  AR5J8UI46CURR  Geetha Krishnan                     2   \n",
       "\n",
       "   HelpfulnessDenominator  Score        Time  \\\n",
       "0                       2      5  1199577600   \n",
       "1                       2      5  1199577600   \n",
       "2                       2      5  1199577600   \n",
       "3                       2      5  1199577600   \n",
       "4                       2      5  1199577600   \n",
       "\n",
       "                             Summary  \\\n",
       "0  LOACKER QUADRATINI VANILLA WAFERS   \n",
       "1  LOACKER QUADRATINI VANILLA WAFERS   \n",
       "2  LOACKER QUADRATINI VANILLA WAFERS   \n",
       "3  LOACKER QUADRATINI VANILLA WAFERS   \n",
       "4  LOACKER QUADRATINI VANILLA WAFERS   \n",
       "\n",
       "                                                Text  \n",
       "0  DELICIOUS WAFERS. I FIND THAT EUROPEAN WAFERS ...  \n",
       "1  DELICIOUS WAFERS. I FIND THAT EUROPEAN WAFERS ...  \n",
       "2  DELICIOUS WAFERS. I FIND THAT EUROPEAN WAFERS ...  \n",
       "3  DELICIOUS WAFERS. I FIND THAT EUROPEAN WAFERS ...  \n",
       "4  DELICIOUS WAFERS. I FIND THAT EUROPEAN WAFERS ...  "
      ]
     },
     "execution_count": 7,
     "metadata": {},
     "output_type": "execute_result"
    }
   ],
   "source": [
    "display= pd.read_sql_query(\"\"\"\n",
    "SELECT *\n",
    "FROM Reviews\n",
    "WHERE Score != 3 AND UserId=\"AR5J8UI46CURR\"\n",
    "ORDER BY ProductID\n",
    "\"\"\", con)\n",
    "display.head()"
   ]
  },
  {
   "cell_type": "markdown",
   "metadata": {},
   "source": [
    "As it can be seen above that same user has multiple reviews with same values for HelpfulnessNumerator, HelpfulnessDenominator, Score, Time, Summary and Text and on doing analysis it was found that <br>\n",
    "<br> \n",
    "ProductId=B000HDOPZG was Loacker Quadratini Vanilla Wafer Cookies, 8.82-Ounce Packages (Pack of 8)<br>\n",
    "<br> \n",
    "ProductId=B000HDL1RQ was Loacker Quadratini Lemon Wafer Cookies, 8.82-Ounce Packages (Pack of 8) and so on<br>\n",
    "\n",
    "It was inferred after analysis that reviews with same parameters other than ProductId belonged to the same product just having different flavour or quantity. Hence in order to reduce redundancy it was decided to eliminate the rows having same parameters.<br>\n",
    "\n",
    "The method used for the same was that we first sort the data according to ProductId and then just keep the first similar product review and delelte the others. for eg. in the above just the review for ProductId=B000HDL1RQ remains. This method ensures that there is only one representative for each product and deduplication without sorting would lead to possibility of different representatives still existing for the same product."
   ]
  },
  {
   "cell_type": "code",
   "execution_count": 8,
   "metadata": {},
   "outputs": [],
   "source": [
    "#Sorting data according to ProductId in ascending order\n",
    "sorted_data=filtered_data.sort_values('ProductId', axis=0, ascending=True, inplace=False, kind='quicksort', na_position='last')"
   ]
  },
  {
   "cell_type": "code",
   "execution_count": 9,
   "metadata": {},
   "outputs": [
    {
     "data": {
      "text/plain": [
       "(28072, 10)"
      ]
     },
     "execution_count": 9,
     "metadata": {},
     "output_type": "execute_result"
    }
   ],
   "source": [
    "#Deduplication of entries\n",
    "final=sorted_data.drop_duplicates(subset={\"UserId\",\"ProfileName\",\"Time\",\"Text\"}, keep='first', inplace=False)\n",
    "final.shape"
   ]
  },
  {
   "cell_type": "code",
   "execution_count": 10,
   "metadata": {},
   "outputs": [
    {
     "data": {
      "text/plain": [
       "93.57333333333332"
      ]
     },
     "execution_count": 10,
     "metadata": {},
     "output_type": "execute_result"
    }
   ],
   "source": [
    "#Checking to see how much % of data still remains\n",
    "(final['Id'].size*1.0)/(filtered_data['Id'].size*1.0)*100"
   ]
  },
  {
   "cell_type": "markdown",
   "metadata": {},
   "source": [
    "<b>Observation:-</b> It was also seen that in two rows given below the value of HelpfulnessNumerator is greater than HelpfulnessDenominator which is not practically possible hence these two rows too are removed from calcualtions"
   ]
  },
  {
   "cell_type": "code",
   "execution_count": 11,
   "metadata": {},
   "outputs": [
    {
     "data": {
      "text/html": [
       "<div>\n",
       "<style scoped>\n",
       "    .dataframe tbody tr th:only-of-type {\n",
       "        vertical-align: middle;\n",
       "    }\n",
       "\n",
       "    .dataframe tbody tr th {\n",
       "        vertical-align: top;\n",
       "    }\n",
       "\n",
       "    .dataframe thead th {\n",
       "        text-align: right;\n",
       "    }\n",
       "</style>\n",
       "<table border=\"1\" class=\"dataframe\">\n",
       "  <thead>\n",
       "    <tr style=\"text-align: right;\">\n",
       "      <th></th>\n",
       "      <th>Id</th>\n",
       "      <th>ProductId</th>\n",
       "      <th>UserId</th>\n",
       "      <th>ProfileName</th>\n",
       "      <th>HelpfulnessNumerator</th>\n",
       "      <th>HelpfulnessDenominator</th>\n",
       "      <th>Score</th>\n",
       "      <th>Time</th>\n",
       "      <th>Summary</th>\n",
       "      <th>Text</th>\n",
       "    </tr>\n",
       "  </thead>\n",
       "  <tbody>\n",
       "    <tr>\n",
       "      <th>0</th>\n",
       "      <td>64422</td>\n",
       "      <td>B000MIDROQ</td>\n",
       "      <td>A161DK06JJMCYF</td>\n",
       "      <td>J. E. Stephens \"Jeanne\"</td>\n",
       "      <td>3</td>\n",
       "      <td>1</td>\n",
       "      <td>5</td>\n",
       "      <td>1224892800</td>\n",
       "      <td>Bought This for My Son at College</td>\n",
       "      <td>My son loves spaghetti so I didn't hesitate or...</td>\n",
       "    </tr>\n",
       "    <tr>\n",
       "      <th>1</th>\n",
       "      <td>44737</td>\n",
       "      <td>B001EQ55RW</td>\n",
       "      <td>A2V0I904FH7ABY</td>\n",
       "      <td>Ram</td>\n",
       "      <td>3</td>\n",
       "      <td>2</td>\n",
       "      <td>4</td>\n",
       "      <td>1212883200</td>\n",
       "      <td>Pure cocoa taste with crunchy almonds inside</td>\n",
       "      <td>It was almost a 'love at first bite' - the per...</td>\n",
       "    </tr>\n",
       "  </tbody>\n",
       "</table>\n",
       "</div>"
      ],
      "text/plain": [
       "      Id   ProductId          UserId              ProfileName  \\\n",
       "0  64422  B000MIDROQ  A161DK06JJMCYF  J. E. Stephens \"Jeanne\"   \n",
       "1  44737  B001EQ55RW  A2V0I904FH7ABY                      Ram   \n",
       "\n",
       "   HelpfulnessNumerator  HelpfulnessDenominator  Score        Time  \\\n",
       "0                     3                       1      5  1224892800   \n",
       "1                     3                       2      4  1212883200   \n",
       "\n",
       "                                        Summary  \\\n",
       "0             Bought This for My Son at College   \n",
       "1  Pure cocoa taste with crunchy almonds inside   \n",
       "\n",
       "                                                Text  \n",
       "0  My son loves spaghetti so I didn't hesitate or...  \n",
       "1  It was almost a 'love at first bite' - the per...  "
      ]
     },
     "execution_count": 11,
     "metadata": {},
     "output_type": "execute_result"
    }
   ],
   "source": [
    "display= pd.read_sql_query(\"\"\"\n",
    "SELECT *\n",
    "FROM Reviews\n",
    "WHERE Score != 3 AND Id=44737 OR Id=64422\n",
    "ORDER BY ProductID\n",
    "\"\"\", con)\n",
    "\n",
    "display.head()"
   ]
  },
  {
   "cell_type": "code",
   "execution_count": 12,
   "metadata": {},
   "outputs": [],
   "source": [
    "final=final[final.HelpfulnessNumerator<=final.HelpfulnessDenominator]"
   ]
  },
  {
   "cell_type": "code",
   "execution_count": 13,
   "metadata": {},
   "outputs": [
    {
     "name": "stdout",
     "output_type": "stream",
     "text": [
      "(28072, 10)\n"
     ]
    },
    {
     "data": {
      "text/plain": [
       "1    23606\n",
       "0     4466\n",
       "Name: Score, dtype: int64"
      ]
     },
     "execution_count": 13,
     "metadata": {},
     "output_type": "execute_result"
    }
   ],
   "source": [
    "#Before starting the next phase of preprocessing lets see the number of entries left\n",
    "print(final.shape)\n",
    "\n",
    "#How many positive and negative reviews are present in our dataset?\n",
    "final['Score'].value_counts()"
   ]
  },
  {
   "cell_type": "markdown",
   "metadata": {},
   "source": [
    "#  [3] Preprocessing"
   ]
  },
  {
   "cell_type": "markdown",
   "metadata": {},
   "source": [
    "## [3.1].  Preprocessing Review Text\n",
    "\n",
    "Now that we have finished deduplication our data requires some preprocessing before we go on further with analysis and making the prediction model.\n",
    "\n",
    "Hence in the Preprocessing phase we do the following in the order below:-\n",
    "\n",
    "1. Begin by removing the html tags\n",
    "2. Remove any punctuations or limited set of special characters like , or . or # etc.\n",
    "3. Check if the word is made up of english letters and is not alpha-numeric\n",
    "4. Check to see if the length of the word is greater than 2 (as it was researched that there is no adjective in 2-letters)\n",
    "5. Convert the word to lowercase\n",
    "6. Remove Stopwords\n",
    "7. Finally Snowball Stemming the word (it was obsereved to be better than Porter Stemming)<br>\n",
    "\n",
    "After which we collect the words used to describe positive and negative reviews"
   ]
  },
  {
   "cell_type": "code",
   "execution_count": 14,
   "metadata": {},
   "outputs": [
    {
     "name": "stdout",
     "output_type": "stream",
     "text": [
      "Our dogs just love them.  I saw them in a pet store and a tag was attached regarding them being made in China and it satisfied me that they were safe.\n",
      "==================================================\n",
      "When I ordered these, I thought they were a bit pricey, but I decided to give them a try anyway.  I'm glad I did!  My dogs absolutely love these dried liver treats.  And, since my dogs are all small, I can cut the treats in half and still have large enough pieces to satisfy them. They're great for training; I'll definitely order them again, and would recommend them to anyone.\n",
      "==================================================\n",
      "This was my favorite stevia product and I had it on subscribe and save until I queried customer service about NuNaturals GMO use.  Yes, NuNaturals uses GMO products.  SO, I've canceled my subscribe and save order and am now using <a href=\"http://www.amazon.com/gp/product/B001ELL3U0\">Stevita Stevia Clear Liquid Extract, 3.3-Ounce Container (Pack of 3)</a>.\n",
      "==================================================\n",
      "TOTALLY ORGASMIC.  these chips are the best spicy chip i have ever tasted.  signed up for the subscribe and save option.  the case contained 15(FIFTEEN, FULL SIZED BAGS) OF CHIPS.  the price per unit equals $1.73  per package.  that is not even the cost of plain chips.  if you add the free shipping and the fast delivery, this deal is a steal.  so run like you stole something over to your computer and order the SPICY THAI CHIPS.  p.s.  even if you paid the going price of $30.00, you are still ahead of the curve.  ENJOY\n",
      "==================================================\n"
     ]
    }
   ],
   "source": [
    "# printing some random reviews\n",
    "sent_0 = final['Text'].values[0]\n",
    "print(sent_0)\n",
    "print(\"=\"*50)\n",
    "\n",
    "sent_1000 = final['Text'].values[1000]\n",
    "print(sent_1000)\n",
    "print(\"=\"*50)\n",
    "\n",
    "sent_1500 = final['Text'].values[1500]\n",
    "print(sent_1500)\n",
    "print(\"=\"*50)\n",
    "\n",
    "sent_4900 = final['Text'].values[4900]\n",
    "print(sent_4900)\n",
    "print(\"=\"*50)"
   ]
  },
  {
   "cell_type": "code",
   "execution_count": 15,
   "metadata": {},
   "outputs": [
    {
     "name": "stdout",
     "output_type": "stream",
     "text": [
      "Our dogs just love them.  I saw them in a pet store and a tag was attached regarding them being made in China and it satisfied me that they were safe.\n"
     ]
    }
   ],
   "source": [
    "# remove urls from text python: https://stackoverflow.com/a/40823105/4084039\n",
    "sent_0 = re.sub(r\"http\\S+\", \"\", sent_0)\n",
    "sent_1000 = re.sub(r\"http\\S+\", \"\", sent_1000)\n",
    "sent_150 = re.sub(r\"http\\S+\", \"\", sent_1500)\n",
    "sent_4900 = re.sub(r\"http\\S+\", \"\", sent_4900)\n",
    "\n",
    "print(sent_0)"
   ]
  },
  {
   "cell_type": "code",
   "execution_count": 16,
   "metadata": {},
   "outputs": [
    {
     "name": "stdout",
     "output_type": "stream",
     "text": [
      "Our dogs just love them.  I saw them in a pet store and a tag was attached regarding them being made in China and it satisfied me that they were safe.\n",
      "==================================================\n",
      "When I ordered these, I thought they were a bit pricey, but I decided to give them a try anyway.  I'm glad I did!  My dogs absolutely love these dried liver treats.  And, since my dogs are all small, I can cut the treats in half and still have large enough pieces to satisfy them. They're great for training; I'll definitely order them again, and would recommend them to anyone.\n",
      "==================================================\n",
      "This was my favorite stevia product and I had it on subscribe and save until I queried customer service about NuNaturals GMO use.  Yes, NuNaturals uses GMO products.  SO, I've canceled my subscribe and save order and am now using Stevita Stevia Clear Liquid Extract, 3.3-Ounce Container (Pack of 3).\n",
      "==================================================\n",
      "TOTALLY ORGASMIC.  these chips are the best spicy chip i have ever tasted.  signed up for the subscribe and save option.  the case contained 15(FIFTEEN, FULL SIZED BAGS) OF CHIPS.  the price per unit equals $1.73  per package.  that is not even the cost of plain chips.  if you add the free shipping and the fast delivery, this deal is a steal.  so run like you stole something over to your computer and order the SPICY THAI CHIPS.  p.s.  even if you paid the going price of $30.00, you are still ahead of the curve.  ENJOY\n"
     ]
    }
   ],
   "source": [
    "# https://stackoverflow.com/questions/16206380/python-beautifulsoup-how-to-remove-all-tags-from-an-element\n",
    "from bs4 import BeautifulSoup\n",
    "\n",
    "soup = BeautifulSoup(sent_0, 'lxml')\n",
    "text = soup.get_text()\n",
    "print(text)\n",
    "print(\"=\"*50)\n",
    "\n",
    "soup = BeautifulSoup(sent_1000, 'lxml')\n",
    "text = soup.get_text()\n",
    "print(text)\n",
    "print(\"=\"*50)\n",
    "\n",
    "soup = BeautifulSoup(sent_1500, 'lxml')\n",
    "text = soup.get_text()\n",
    "print(text)\n",
    "print(\"=\"*50)\n",
    "\n",
    "soup = BeautifulSoup(sent_4900, 'lxml')\n",
    "text = soup.get_text()\n",
    "print(text)"
   ]
  },
  {
   "cell_type": "code",
   "execution_count": 17,
   "metadata": {},
   "outputs": [],
   "source": [
    "# https://stackoverflow.com/a/47091490/4084039\n",
    "import re\n",
    "\n",
    "def decontracted(phrase):\n",
    "    # specific\n",
    "    phrase = re.sub(r\"won't\", \"will not\", phrase)\n",
    "    phrase = re.sub(r\"can\\'t\", \"can not\", phrase)\n",
    "\n",
    "    # general\n",
    "    phrase = re.sub(r\"n\\'t\", \" not\", phrase)\n",
    "    phrase = re.sub(r\"\\'re\", \" are\", phrase)\n",
    "    phrase = re.sub(r\"\\'s\", \" is\", phrase)\n",
    "    phrase = re.sub(r\"\\'d\", \" would\", phrase)\n",
    "    phrase = re.sub(r\"\\'ll\", \" will\", phrase)\n",
    "    phrase = re.sub(r\"\\'t\", \" not\", phrase)\n",
    "    phrase = re.sub(r\"\\'ve\", \" have\", phrase)\n",
    "    phrase = re.sub(r\"\\'m\", \" am\", phrase)\n",
    "    return phrase"
   ]
  },
  {
   "cell_type": "code",
   "execution_count": 18,
   "metadata": {},
   "outputs": [
    {
     "name": "stdout",
     "output_type": "stream",
     "text": [
      "This was my favorite stevia product and I had it on subscribe and save until I queried customer service about NuNaturals GMO use.  Yes, NuNaturals uses GMO products.  SO, I have canceled my subscribe and save order and am now using <a href=\"http://www.amazon.com/gp/product/B001ELL3U0\">Stevita Stevia Clear Liquid Extract, 3.3-Ounce Container (Pack of 3)</a>.\n",
      "==================================================\n"
     ]
    }
   ],
   "source": [
    "sent_1500 = decontracted(sent_1500)\n",
    "print(sent_1500)\n",
    "print(\"=\"*50)"
   ]
  },
  {
   "cell_type": "code",
   "execution_count": 19,
   "metadata": {},
   "outputs": [
    {
     "name": "stdout",
     "output_type": "stream",
     "text": [
      "Our dogs just love them.  I saw them in a pet store and a tag was attached regarding them being made in China and it satisfied me that they were safe.\n"
     ]
    }
   ],
   "source": [
    "#remove words with numbers python: https://stackoverflow.com/a/18082370/4084039\n",
    "sent_0 = re.sub(\"\\S*\\d\\S*\", \"\", sent_0).strip()\n",
    "print(sent_0)"
   ]
  },
  {
   "cell_type": "code",
   "execution_count": 20,
   "metadata": {},
   "outputs": [
    {
     "name": "stdout",
     "output_type": "stream",
     "text": [
      "This was my favorite stevia product and I had it on subscribe and save until I queried customer service about NuNaturals GMO use Yes NuNaturals uses GMO products SO I have canceled my subscribe and save order and am now using a href http www amazon com gp product B001ELL3U0 Stevita Stevia Clear Liquid Extract 3 3 Ounce Container Pack of 3 a \n"
     ]
    }
   ],
   "source": [
    "#remove spacial character: https://stackoverflow.com/a/5843547/4084039\n",
    "sent_1500 = re.sub('[^A-Za-z0-9]+', ' ', sent_1500)\n",
    "print(sent_1500)"
   ]
  },
  {
   "cell_type": "code",
   "execution_count": 21,
   "metadata": {},
   "outputs": [],
   "source": [
    "# https://gist.github.com/sebleier/554280\n",
    "# we are removing the words from the stop words list: 'no', 'nor', 'not'\n",
    "# <br /><br /> ==> after the above steps, we are getting \"br br\"\n",
    "# we are including them into stop words list\n",
    "# instead of <br /> if we have <br/> these tags would have revmoved in the 1st step\n",
    "\n",
    "stopwords= set(['br', 'the', 'i', 'me', 'my', 'myself', 'we', 'our', 'ours', 'ourselves', 'you', \"you're\", \"you've\",\\\n",
    "            \"you'll\", \"you'd\", 'your', 'yours', 'yourself', 'yourselves', 'he', 'him', 'his', 'himself', \\\n",
    "            'she', \"she's\", 'her', 'hers', 'herself', 'it', \"it's\", 'its', 'itself', 'they', 'them', 'their',\\\n",
    "            'theirs', 'themselves', 'what', 'which', 'who', 'whom', 'this', 'that', \"that'll\", 'these', 'those', \\\n",
    "            'am', 'is', 'are', 'was', 'were', 'be', 'been', 'being', 'have', 'has', 'had', 'having', 'do', 'does', \\\n",
    "            'did', 'doing', 'a', 'an', 'the', 'and', 'but', 'if', 'or', 'because', 'as', 'until', 'while', 'of', \\\n",
    "            'at', 'by', 'for', 'with', 'about', 'against', 'between', 'into', 'through', 'during', 'before', 'after',\\\n",
    "            'above', 'below', 'to', 'from', 'up', 'down', 'in', 'out', 'on', 'off', 'over', 'under', 'again', 'further',\\\n",
    "            'then', 'once', 'here', 'there', 'when', 'where', 'why', 'how', 'all', 'any', 'both', 'each', 'few', 'more',\\\n",
    "            'most', 'other', 'some', 'such', 'only', 'own', 'same', 'so', 'than', 'too', 'very', \\\n",
    "            's', 't', 'can', 'will', 'just', 'don', \"don't\", 'should', \"should've\", 'now', 'd', 'll', 'm', 'o', 're', \\\n",
    "            've', 'y', 'ain', 'aren', \"aren't\", 'couldn', \"couldn't\", 'didn', \"didn't\", 'doesn', \"doesn't\", 'hadn',\\\n",
    "            \"hadn't\", 'hasn', \"hasn't\", 'haven', \"haven't\", 'isn', \"isn't\", 'ma', 'mightn', \"mightn't\", 'mustn',\\\n",
    "            \"mustn't\", 'needn', \"needn't\", 'shan', \"shan't\", 'shouldn', \"shouldn't\", 'wasn', \"wasn't\", 'weren', \"weren't\", \\\n",
    "            'won', \"won't\", 'wouldn', \"wouldn't\"])"
   ]
  },
  {
   "cell_type": "code",
   "execution_count": 22,
   "metadata": {},
   "outputs": [
    {
     "name": "stderr",
     "output_type": "stream",
     "text": [
      "100%|██████████| 28072/28072 [00:08<00:00, 3470.64it/s]\n"
     ]
    }
   ],
   "source": [
    "# Combining all the above stundents \n",
    "from tqdm import tqdm\n",
    "preprocessed_reviews = []\n",
    "# tqdm is for printing the status bar\n",
    "for sentance in tqdm(final['Text'].values):\n",
    "    sentance = re.sub(r\"http\\S+\", \"\", sentance)\n",
    "    sentance = BeautifulSoup(sentance, 'lxml').get_text()\n",
    "    sentance = decontracted(sentance)\n",
    "    sentance = re.sub(\"\\S*\\d\\S*\", \"\", sentance).strip()\n",
    "    sentance = re.sub('[^A-Za-z]+', ' ', sentance)\n",
    "    # https://gist.github.com/sebleier/554280\n",
    "    sentance = ' '.join(e.lower() for e in sentance.split() if e.lower() not in stopwords)\n",
    "    preprocessed_reviews.append(sentance.strip())"
   ]
  },
  {
   "cell_type": "code",
   "execution_count": 23,
   "metadata": {},
   "outputs": [
    {
     "data": {
      "text/plain": [
       "'favorite stevia product subscribe save queried customer service nunaturals gmo use yes nunaturals uses gmo products canceled subscribe save order using'"
      ]
     },
     "execution_count": 23,
     "metadata": {},
     "output_type": "execute_result"
    }
   ],
   "source": [
    "preprocessed_reviews[1500]"
   ]
  },
  {
   "cell_type": "markdown",
   "metadata": {},
   "source": [
    "<h2><font color='red'>[3.2] Preprocessing Review Summary</font></h2>"
   ]
  },
  {
   "cell_type": "code",
   "execution_count": 24,
   "metadata": {},
   "outputs": [],
   "source": [
    "## Similartly you can do preprocessing for review summary also."
   ]
  },
  {
   "cell_type": "markdown",
   "metadata": {},
   "source": [
    "## [4.1] BAG OF WORDS"
   ]
  },
  {
   "cell_type": "code",
   "execution_count": 25,
   "metadata": {},
   "outputs": [
    {
     "name": "stdout",
     "output_type": "stream",
     "text": [
      "some feature names  ['aa', 'aaa', 'aaaa', 'aaaaa', 'aaaaaaaaaaaa', 'aaaand', 'aaah', 'aadp', 'aafco', 'aah']\n",
      "==================================================\n",
      "the type of count vectorizer  <class 'scipy.sparse.csr.csr_matrix'>\n",
      "the shape of out text BOW vectorizer  (28072, 30623)\n",
      "the number of unique words  30623\n"
     ]
    }
   ],
   "source": [
    "#BoW\n",
    "count_vect = CountVectorizer() #in scikit-learn\n",
    "count_vect.fit(preprocessed_reviews)\n",
    "print(\"some feature names \", count_vect.get_feature_names()[:10])\n",
    "print('='*50)\n",
    "\n",
    "final_counts = count_vect.transform(preprocessed_reviews)\n",
    "print(\"the type of count vectorizer \",type(final_counts))\n",
    "print(\"the shape of out text BOW vectorizer \",final_counts.get_shape())\n",
    "print(\"the number of unique words \", final_counts.get_shape()[1])"
   ]
  },
  {
   "cell_type": "markdown",
   "metadata": {},
   "source": [
    "## [4.2] Bi-Grams and n-Grams."
   ]
  },
  {
   "cell_type": "code",
   "execution_count": 26,
   "metadata": {},
   "outputs": [
    {
     "name": "stdout",
     "output_type": "stream",
     "text": [
      "the type of count vectorizer  <class 'scipy.sparse.csr.csr_matrix'>\n",
      "the shape of out text BOW vectorizer  (28072, 5000)\n",
      "the number of unique words including both unigrams and bigrams  5000\n"
     ]
    }
   ],
   "source": [
    "#bi-gram, tri-gram and n-gram\n",
    "\n",
    "#removing stop words like \"not\" should be avoided before building n-grams\n",
    "# count_vect = CountVectorizer(ngram_range=(1,2))\n",
    "# please do read the CountVectorizer documentation http://scikit-learn.org/stable/modules/generated/sklearn.feature_extraction.text.CountVectorizer.html\n",
    "\n",
    "# you can choose these numebrs min_df=10, max_features=5000, of your choice\n",
    "count_vect = CountVectorizer(ngram_range=(1,2), min_df=10, max_features=5000)\n",
    "final_bigram_counts = count_vect.fit_transform(preprocessed_reviews)\n",
    "print(\"the type of count vectorizer \",type(final_bigram_counts))\n",
    "print(\"the shape of out text BOW vectorizer \",final_bigram_counts.get_shape())\n",
    "print(\"the number of unique words including both unigrams and bigrams \", final_bigram_counts.get_shape()[1])"
   ]
  },
  {
   "cell_type": "markdown",
   "metadata": {},
   "source": [
    "## [4.3] TF-IDF"
   ]
  },
  {
   "cell_type": "code",
   "execution_count": 27,
   "metadata": {},
   "outputs": [
    {
     "name": "stdout",
     "output_type": "stream",
     "text": [
      "some sample features(unique words in the corpus) ['ability', 'able', 'able buy', 'able drink', 'able eat', 'able enjoy', 'able find', 'able get', 'able give', 'able make']\n",
      "==================================================\n",
      "the type of count vectorizer  <class 'scipy.sparse.csr.csr_matrix'>\n",
      "the shape of out text TFIDF vectorizer  (28072, 16784)\n",
      "the number of unique words including both unigrams and bigrams  16784\n"
     ]
    }
   ],
   "source": [
    "tf_idf_vect = TfidfVectorizer(ngram_range=(1,2), min_df=10)\n",
    "tf_idf_vect.fit(preprocessed_reviews)\n",
    "print(\"some sample features(unique words in the corpus)\",tf_idf_vect.get_feature_names()[0:10])\n",
    "print('='*50)\n",
    "\n",
    "final_tf_idf = tf_idf_vect.transform(preprocessed_reviews)\n",
    "print(\"the type of count vectorizer \",type(final_tf_idf))\n",
    "print(\"the shape of out text TFIDF vectorizer \",final_tf_idf.get_shape())\n",
    "print(\"the number of unique words including both unigrams and bigrams \", final_tf_idf.get_shape()[1])"
   ]
  },
  {
   "cell_type": "markdown",
   "metadata": {},
   "source": [
    "## [4.4] Word2Vec"
   ]
  },
  {
   "cell_type": "code",
   "execution_count": 28,
   "metadata": {
    "scrolled": true
   },
   "outputs": [],
   "source": [
    "# Using Google News Word2Vectors\n",
    "\n",
    "# in this project we are using a pretrained model by google\n",
    "# its 3.3G file, once you load this into your memory \n",
    "# it occupies ~9Gb, so please do this step only if you have >12G of ram\n",
    "# we will provide a pickle file wich contains a dict , \n",
    "# and it contains all our courpus words as keys and  model[word] as values\n",
    "# To use this code-snippet, download \"GoogleNews-vectors-negative300.bin\" \n",
    "# from https://drive.google.com/file/d/0B7XkCwpI5KDYNlNUTTlSS21pQmM/edit\n",
    "# it's 1.9GB in size.\n",
    "\n",
    "\n",
    "# http://kavita-ganesan.com/gensim-word2vec-tutorial-starter-code/#.W17SRFAzZPY\n",
    "# you can comment this whole cell\n",
    "# or change these varible according to your need\n",
    "def w2v_fit(preprocessed_reviews):\n",
    "    i=0\n",
    "    list_of_sentance=[]\n",
    "    for sentance in preprocessed_reviews:\n",
    "        list_of_sentance.append(sentance.split())\n",
    "\n",
    "    is_your_ram_gt_16g=False\n",
    "    want_to_use_google_w2v = False\n",
    "    want_to_train_w2v = True\n",
    "\n",
    "    if want_to_train_w2v:\n",
    "        # min_count = 5 considers only words that occured atleast 5 times\n",
    "        w2v_model=Word2Vec(list_of_sentance,min_count=5,size=50, workers=4)\n",
    "        print(w2v_model.wv.most_similar('great'))\n",
    "        print('='*50)\n",
    "        print(w2v_model.wv.most_similar('worst'))\n",
    "\n",
    "    elif want_to_use_google_w2v and is_your_ram_gt_16g:\n",
    "        if os.path.isfile('GoogleNews-vectors-negative300.bin'):\n",
    "            w2v_model=KeyedVectors.load_word2vec_format('GoogleNews-vectors-negative300.bin', binary=True)\n",
    "            print(w2v_model.wv.most_similar('great'))\n",
    "            print(w2v_model.wv.most_similar('worst'))\n",
    "        else:\n",
    "            print(\"you don't have gogole's word2vec file, keep want_to_train_w2v = True, to train your own w2v \")\n",
    "    return w2v_model"
   ]
  },
  {
   "cell_type": "markdown",
   "metadata": {},
   "source": [
    "## [4.4.1] Converting text into vectors using Avg W2V, TFIDF-W2V"
   ]
  },
  {
   "cell_type": "markdown",
   "metadata": {},
   "source": [
    "#### [4.4.1.1] Avg W2v"
   ]
  },
  {
   "cell_type": "code",
   "execution_count": 29,
   "metadata": {},
   "outputs": [],
   "source": [
    "# average Word2Vec\n",
    "# compute average word2vec for each review.\n",
    "def avg_w2v_transform(w2v_model,list_of_sentence):\n",
    "    sent_vectors = []; # the avg-w2v for each sentence/review is stored in this list\n",
    "    #w2v_model = word2Vec(list_of_sentence)\n",
    "    w2v_words = list(w2v_model.wv.vocab)\n",
    "    for sent in tqdm(list_of_sentence): # for each review/sentence\n",
    "        sent_vec = np.zeros(50) # as word vectors are of zero length 50, you might need to change this to 300 if you use google's w2v\n",
    "        cnt_words =0; # num of words with a valid vector in the sentence/review\n",
    "        word_len = 0;\n",
    "        for word in sent.split(): # for each word in a review/sentence\n",
    "            if word in w2v_words:\n",
    "                word_len += 1\n",
    "                vec = w2v_model.wv[word]\n",
    "                sent_vec += vec\n",
    "                cnt_words += 1\n",
    "        if cnt_words != 0:\n",
    "            sent_vec /= cnt_words\n",
    "        sent_vec = sent_vec.tolist()\n",
    "        #adding review length feature\n",
    "        sent_vec.append(word_len) \n",
    "        sent_vectors.append(sent_vec)\n",
    "    return np.array(sent_vectors)"
   ]
  },
  {
   "cell_type": "markdown",
   "metadata": {},
   "source": [
    "#### [4.4.1.2] TFIDF weighted W2v"
   ]
  },
  {
   "cell_type": "code",
   "execution_count": 30,
   "metadata": {
    "scrolled": true
   },
   "outputs": [],
   "source": [
    "def tf_idf_transform(model,w_model,list_of_sentence):\n",
    "    # TF-IDF weighted Word2Vec\n",
    "    dictionary = dict(zip(model.get_feature_names(), list(model.idf_)))\n",
    "    tfidf_feat = model.get_feature_names() # tfidf words/col-names\n",
    "    # final_tf_idf is the sparse matrix with row= sentence, col=word and cell_val = tfidf\n",
    "    w2v_words = list(w_model.wv.vocab)\n",
    "    tfidf_sent_vectors = []; # the tfidf-w2v for each sentence/review is stored in this list\n",
    "    row=0;\n",
    "    for sent in tqdm(list_of_sentence): # for each review/sentence \n",
    "        sent_vec = np.zeros(50) # as word vectors are of zero length\n",
    "        weight_sum =0; # num of words with a valid vector in the sentence/review\n",
    "        for word in sent.split(): # for each word in a review/sentence\n",
    "            if word in w2v_words and word in tfidf_feat:\n",
    "                vec = w2v_model.wv[word]\n",
    "    #             tf_idf = tf_idf_matrix[row, tfidf_feat.index(word)]\n",
    "                # to reduce the computation we are \n",
    "                # dictionary[word] = idf value of word in whole courpus\n",
    "                # sent.count(word) = tf valeus of word in this review\n",
    "                tf_idf = dictionary[word]*(sent.count(word)/len(sent))\n",
    "                sent_vec += (vec * tf_idf)\n",
    "                weight_sum += tf_idf\n",
    "        if weight_sum != 0:\n",
    "            sent_vec /= weight_sum\n",
    "        tfidf_sent_vectors.append(sent_vec)\n",
    "        row += 1\n",
    "    return tfidf_sent_vectors"
   ]
  },
  {
   "cell_type": "markdown",
   "metadata": {},
   "source": [
    "# [4] Featurization"
   ]
  },
  {
   "cell_type": "markdown",
   "metadata": {},
   "source": [
    "# [5] Assignment 7: SVM"
   ]
  },
  {
   "cell_type": "markdown",
   "metadata": {},
   "source": [
    "<ol>\n",
    "    <li><strong>Apply SVM on these feature sets</strong>\n",
    "        <ul>\n",
    "            <li><font color='red'>SET 1:</font>Review text, preprocessed one converted into vectors using (BOW)</li>\n",
    "            <li><font color='red'>SET 2:</font>Review text, preprocessed one converted into vectors using (TFIDF)</li>\n",
    "            <li><font color='red'>SET 3:</font>Review text, preprocessed one converted into vectors using (AVG W2v)</li>\n",
    "            <li><font color='red'>SET 4:</font>Review text, preprocessed one converted into vectors using (TFIDF W2v)</li>\n",
    "        </ul>\n",
    "    </li>\n",
    "    <br>\n",
    "    <li><strong>Procedure</strong>\n",
    "        <ul>\n",
    "    <li>You need to work with 2 versions of SVM\n",
    "        <ul><li>Linear kernel</li>\n",
    "            <li>RBF kernel</li></ul>\n",
    "    <li>When you are working with linear kernel, use SGDClassifier’ with hinge loss because it is computationally less expensive.</li>\n",
    "    <li>When you are working with ‘SGDClassifier’ with hinge loss and trying to find the AUC\n",
    "        score, you would have to use <a href='https://scikit-learn.org/stable/modules/generated/sklearn.calibration.CalibratedClassifierCV.html'>CalibratedClassifierCV</a></li>\n",
    "    <li>Similarly, like kdtree of knn, when you are working with RBF kernel it's better to reduce\n",
    "the number of dimensions. You can put min_df = 10, max_features = 500 and consider a sample size of 40k points.</li>                \n",
    "        </ul>\n",
    "    </li>\n",
    "    <br>\n",
    "    <li><strong>Hyper paramter tuning (find best alpha in range [10^-4 to 10^4], and the best penalty among 'l1', 'l2')</strong>\n",
    "        <ul>\n",
    "    <li>Find the best hyper parameter which will give the maximum <a href='https://www.appliedaicourse.com/course/applied-ai-course-online/lessons/receiver-operating-characteristic-curve-roc-curve-and-auc-1/'>AUC</a> value</li>\n",
    "    <li>Find the best hyper paramter using k-fold cross validation or simple cross validation data</li>\n",
    "    <li>Use gridsearch cv or randomsearch cv or you can also write your own for loops to do this task of hyperparameter tuning</li>          \n",
    "        </ul>\n",
    "    </li>\n",
    "    <br>\n",
    "    <li><strong>Feature importance</strong>\n",
    "        <ul>\n",
    "    <li>When you are working on the linear kernel with BOW or TFIDF please print the top 10 best\n",
    "features for each of the positive and negative classes.</li>\n",
    "        </ul>\n",
    "    </li>\n",
    "    <br>\n",
    "    <li><strong>Feature engineering</strong>\n",
    "        <ul>\n",
    "    <li>To increase the performance of your model, you can also experiment with with feature engineering like :</li>\n",
    "            <ul>\n",
    "            <li>Taking length of reviews as another feature.</li>\n",
    "            <li>Considering some features from review summary as well.</li>\n",
    "        </ul>\n",
    "        </ul>\n",
    "    </li>\n",
    "    <br>\n",
    "    <li><strong>Representation of results</strong>\n",
    "        <ul>\n",
    "    <li>You need to plot the performance of model both on train data and cross validation data for each hyper parameter, like shown in the figure.\n",
    "    <img src='train_cv_auc.JPG' width=300px></li>\n",
    "    <li>Once after you found the best hyper parameter, you need to train your model with it, and find the AUC on test data and plot the ROC curve on both train and test.\n",
    "    <img src='train_test_auc.JPG' width=300px></li>\n",
    "    <li>Along with plotting ROC curve, you need to print the <a href='https://www.appliedaicourse.com/course/applied-ai-course-online/lessons/confusion-matrix-tpr-fpr-fnr-tnr-1/'>confusion matrix</a> with predicted and original labels of test data points. Please visualize your confusion matrices using <a href='https://seaborn.pydata.org/generated/seaborn.heatmap.html'>seaborn heatmaps.\n",
    "    <img src='confusion_matrix.png' width=300px></li>\n",
    "        </ul>\n",
    "    </li>\n",
    "    <br>\n",
    "    <li><strong>Conclusion</strong>\n",
    "        <ul>\n",
    "    <li>You need to summarize the results at the end of the notebook, summarize it in the table format. To print out a table please refer to this prettytable library<a href='http://zetcode.com/python/prettytable/'>  link</a> \n",
    "        <img src='summary.JPG' width=400px>\n",
    "    </li>\n",
    "        </ul>\n",
    "</ol>"
   ]
  },
  {
   "cell_type": "markdown",
   "metadata": {},
   "source": [
    "<h4><font color='red'>Note: Data Leakage</font></h4>\n",
    "\n",
    "1. There will be an issue of data-leakage if you vectorize the entire data and then split it into train/cv/test.\n",
    "2. To avoid the issue of data-leakag, make sure to split your data first and then vectorize it. \n",
    "3. While vectorizing your data, apply the method fit_transform() on you train data, and apply the method transform() on cv/test data.\n",
    "4. For more details please go through this <a href='https://soundcloud.com/applied-ai-course/leakage-bow-and-tfidf'>link.</a>"
   ]
  },
  {
   "cell_type": "markdown",
   "metadata": {},
   "source": [
    "# Applying SVM"
   ]
  },
  {
   "cell_type": "markdown",
   "metadata": {},
   "source": [
    "## [5.1] Linear SVM"
   ]
  },
  {
   "cell_type": "markdown",
   "metadata": {},
   "source": [
    "### [5.1.1] Applying Linear SVM on BOW,<font color='red'> SET 1</font>"
   ]
  },
  {
   "cell_type": "code",
   "execution_count": 43,
   "metadata": {},
   "outputs": [
    {
     "name": "stdout",
     "output_type": "stream",
     "text": [
      "1    7081\n",
      "0    1341\n",
      "Name: Score, dtype: int64\n"
     ]
    },
    {
     "name": "stderr",
     "output_type": "stream",
     "text": [
      "/Users/ravishankar/anaconda3/lib/python3.6/site-packages/sklearn/utils/validation.py:475: DataConversionWarning: Data with input dtype int64 was converted to float64 by StandardScaler.\n",
      "  warnings.warn(msg, DataConversionWarning)\n",
      "/Users/ravishankar/anaconda3/lib/python3.6/site-packages/sklearn/utils/validation.py:475: DataConversionWarning: Data with input dtype int64 was converted to float64 by StandardScaler.\n",
      "  warnings.warn(msg, DataConversionWarning)\n",
      "/Users/ravishankar/anaconda3/lib/python3.6/site-packages/sklearn/utils/validation.py:475: DataConversionWarning: Data with input dtype int64 was converted to float64 by StandardScaler.\n",
      "  warnings.warn(msg, DataConversionWarning)\n"
     ]
    },
    {
     "name": "stdout",
     "output_type": "stream",
     "text": [
      "After vectorizations\n",
      "(13755, 6621) (13755,)\n",
      "(5895, 6621) (5895,)\n",
      "(8422, 6621) (8422,)\n",
      "====================================================================================================\n"
     ]
    },
    {
     "name": "stderr",
     "output_type": "stream",
     "text": [
      "/Users/ravishankar/anaconda3/lib/python3.6/site-packages/sklearn/utils/validation.py:475: DataConversionWarning: Data with input dtype int64 was converted to float64 by StandardScaler.\n",
      "  warnings.warn(msg, DataConversionWarning)\n"
     ]
    }
   ],
   "source": [
    "# Please write all the code with proper documentation\n",
    "from sklearn.cross_validation import train_test_split\n",
    "from sklearn.neighbors import KNeighborsClassifier\n",
    "from sklearn.metrics import roc_auc_score\n",
    "from sklearn.cross_validation import cross_val_score\n",
    "from sklearn import cross_validation\n",
    "from scipy import sparse\n",
    "\n",
    "\n",
    "X_1, X_test, y_1, y_test = cross_validation.train_test_split(preprocessed_reviews, final['Score'], test_size=0.3, random_state=0)\n",
    "X_tr, X_cv, y_tr, y_cv = cross_validation.train_test_split(X_1, y_1, test_size=0.3)\n",
    "\n",
    "\n",
    "print(y_test.value_counts())\n",
    "\n",
    "def review_len(review):\n",
    "    reviews_len =[]\n",
    "    for sent in review:\n",
    "        reviews_len.append(len(sent.split()))\n",
    "    return np.array(reviews_len)\n",
    "\n",
    "count_vect = CountVectorizer(min_df=5) \n",
    "count_vect.fit(X_tr)\n",
    "test_vect = count_vect.transform(X_test)\n",
    "cv_vect = count_vect.transform(X_cv)\n",
    "train_vect = count_vect.transform(X_tr)\n",
    "\n",
    "len_arr = review_len(X_test)\n",
    "#https://stackoverflow.com/questions/41937786/add-column-to-a-sparse-matrix\n",
    "test_vect = sparse.hstack((test_vect,len_arr[:,None])).A\n",
    "\n",
    "len_arr = review_len(X_tr)\n",
    "#https://stackoverflow.com/questions/41937786/add-column-to-a-sparse-matrix\n",
    "train_vect = sparse.hstack((train_vect,len_arr[:,None])).A\n",
    "\n",
    "len_arr = review_len(X_cv)\n",
    "#https://stackoverflow.com/questions/41937786/add-column-to-a-sparse-matrix\n",
    "cv_vect = sparse.hstack((cv_vect,len_arr[:,None])).A\n",
    "\n",
    "from sklearn.preprocessing import StandardScaler\n",
    "scaler = StandardScaler(with_mean=False)\n",
    "scaler.fit(test_vect)  \n",
    "train_vect = scaler.transform(train_vect)\n",
    "test_vect = scaler.transform(test_vect)\n",
    "cv_vect = scaler.transform(cv_vect)\n",
    "\n",
    "\n",
    "print(\"After vectorizations\")\n",
    "print(train_vect.shape, y_tr.shape)\n",
    "print(cv_vect.shape, y_cv.shape)\n",
    "print(test_vect.shape, y_test.shape)\n",
    "print(\"=\"*100)"
   ]
  },
  {
   "cell_type": "code",
   "execution_count": 44,
   "metadata": {},
   "outputs": [
    {
     "name": "stderr",
     "output_type": "stream",
     "text": [
      "100%|██████████| 8/8 [00:14<00:00,  1.93s/it]\n"
     ]
    }
   ],
   "source": [
    "train_auc = []\n",
    "cv_auc = []\n",
    "alpha_values = [0.0001,0.001,0.01,0.1,1,10,100,1000]\n",
    "#K_values = [1].append(K_values)\n",
    "for i in tqdm(alpha_values):\n",
    "    #svm = SVC(c=i,kernel='linear')\n",
    "    model=SGDClassifier(alpha=i,loss='hinge')\n",
    "    svm=CalibratedClassifierCV(model, cv=2)\n",
    "    svm.fit(train_vect, y_tr)\n",
    "    #https://scikit-learn.org/stable/modules/generated/sklearn.neighbors.KNeighborsClassifier.html\n",
    "    cv_pred = svm.predict_proba(cv_vect)\n",
    "    cv_pred = cv_pred[:,1]\n",
    "    train_pred = svm.predict_proba(train_vect)\n",
    "    #train_pred = train_pred[:].max(axis=1)\n",
    "    train_pred = train_pred[:,1]\n",
    "    #print(train_pred,\"------\",cv_pred)\n",
    "    #https://scikit-learn.org/stable/modules/generated/sklearn.metrics.roc_auc_score.html#sklearn.metrics.roc_auc_score\n",
    "    train_auc.append(roc_auc_score(y_tr,train_pred))\n",
    "    cv_auc.append(roc_auc_score(y_cv,cv_pred))\n",
    "    \n",
    "\n",
    "    "
   ]
  },
  {
   "cell_type": "code",
   "execution_count": 45,
   "metadata": {},
   "outputs": [
    {
     "data": {
      "image/png": "[encoded data removed]",
      "text/plain": [
       "<Figure size 432x288 with 1 Axes>"
      ]
     },
     "metadata": {},
     "output_type": "display_data"
    },
    {
     "name": "stdout",
     "output_type": "stream",
     "text": [
      "Best alpha-Value 1\n"
     ]
    }
   ],
   "source": [
    "plt.plot(np.log10(alpha_values), train_auc, label='Train AUC')\n",
    "plt.plot(np.log10(alpha_values), cv_auc, label='CV AUC')\n",
    "plt.xlabel('alpha-value')\n",
    "plt.ylabel('ROC_AUC_SCORE')\n",
    "plt.legend()\n",
    "plt.show()  \n",
    "print(\"Best alpha-Value\", alpha_values[cv_auc.index(max(cv_auc))])"
   ]
  },
  {
   "cell_type": "code",
   "execution_count": 46,
   "metadata": {},
   "outputs": [
    {
     "name": "stdout",
     "output_type": "stream",
     "text": [
      "test_auc 0.9030482577179524\n"
     ]
    },
    {
     "data": {
      "image/png": "[encoded data removed]",
      "text/plain": [
       "<Figure size 432x288 with 1 Axes>"
      ]
     },
     "metadata": {},
     "output_type": "display_data"
    }
   ],
   "source": [
    "\n",
    "model=SGDClassifier(alpha=alpha_values[cv_auc.index(max(cv_auc))],loss='hinge')\n",
    "best_svm=CalibratedClassifierCV(model, cv=2)\n",
    "\n",
    "best_svm.fit(train_vect, y_tr)\n",
    "\n",
    "#https://scikit-learn.org/stable/modules/generated/sklearn.metrics.roc_curve.html\n",
    "train_pred = best_svm.predict_proba(train_vect)\n",
    "train_pred = train_pred[:,1]\n",
    "#print(np.unique(train_pred))\n",
    "tr_fpr, tr_tpr, tr_thresh = roc_curve(y_tr, train_pred)\n",
    "\n",
    "#https://scikit-learn.org/stable/modules/generated/sklearn.metrics.roc_curve.html\n",
    "test_pred = best_svm.predict_proba(test_vect)\n",
    "test_pred = test_pred[:,1]\n",
    "#print(np.unique(test_pred))\n",
    "test_fpr, test_tpr, test_thresh = roc_curve(y_test, test_pred)\n",
    "auc_bow_l = auc(test_fpr,test_tpr)\n",
    "print(\"test_auc\",auc_bow_l)\n",
    "plt.plot(tr_fpr, tr_tpr, label=\"Train ROC\")\n",
    "plt.plot(test_fpr, test_tpr, label=\"Test ROC\")\n",
    "plt.plot(tr_fpr, tr_tpr, label=\"train AUC =\"+str(auc(tr_fpr, tr_tpr)))\n",
    "plt.plot(test_fpr, test_tpr, label=\"test AUC =\"+str(auc(test_fpr, test_tpr)))\n",
    "plt.xlabel(\"FPR\")\n",
    "plt.ylabel(\"TPR\")\n",
    "plt.title(\"ROC CURVE\")\n",
    "plt.legend()\n",
    "plt.show()"
   ]
  },
  {
   "cell_type": "code",
   "execution_count": 47,
   "metadata": {},
   "outputs": [
    {
     "name": "stdout",
     "output_type": "stream",
     "text": [
      "Confusion Matrix \n",
      "\n",
      "[[ 414  927]\n",
      " [  96 6985]]\n",
      "Test accuracy :  0.8785324151033008\n"
     ]
    }
   ],
   "source": [
    "from sklearn.metrics import confusion_matrix\n",
    "test_pred_class = best_svm.predict(test_vect)\n",
    "#a = np.unique(test_pred_class)\n",
    "#print(a)\n",
    "#print(test_vect.shape)\n",
    "#print(test_pred_class.shape)\n",
    "print(\"Confusion Matrix \\n\")\n",
    "\n",
    "C = confusion_matrix(y_test,test_pred_class)\n",
    "print(C)\n",
    "\n",
    "accuracy_bow_l = best_svm.score(test_vect, y_test)\n",
    "print(\"Test accuracy : \",accuracy_bow_l)\n",
    "#A =((C)/(C.sum(axis=1)))\n",
    "#B =(C/C.sum(axis=0))"
   ]
  },
  {
   "cell_type": "markdown",
   "metadata": {},
   "source": [
    " Top 10 important features of positive class from<font color='red'> SET 1</font>"
   ]
  },
  {
   "cell_type": "code",
   "execution_count": 48,
   "metadata": {},
   "outputs": [
    {
     "name": "stdout",
     "output_type": "stream",
     "text": [
      "Top 10 Positive features \n",
      " great        0.026317\n",
      "delicious    0.020912\n",
      "best         0.018048\n",
      "perfect      0.017703\n",
      "good         0.016727\n",
      "always       0.015626\n",
      "love         0.015445\n",
      "loves        0.014663\n",
      "highly       0.014455\n",
      "nice         0.014435\n",
      "Name: 0, dtype: float64\n"
     ]
    }
   ],
   "source": [
    "# Getting feature names\n",
    "features = count_vect.get_feature_names()\n",
    "features.append(\"review_length\")\n",
    "\n",
    "model=SGDClassifier(alpha=alpha_values[cv_auc.index(max(cv_auc))],loss='hinge')\n",
    "model.fit(train_vect, y_tr)\n",
    "#Getting weights of feature names\n",
    "w_coeff = pd.DataFrame(model.coef_,columns=features)\n",
    "\n",
    "w_coeff = w_coeff.T\n",
    "\n",
    "print(\"Top 10 Positive features \\n\",w_coeff[0].sort_values(ascending = False)[0:10])"
   ]
  },
  {
   "cell_type": "markdown",
   "metadata": {},
   "source": [
    "Top 10 important features of negative class from<font color='red'> SET 1</font>"
   ]
  },
  {
   "cell_type": "code",
   "execution_count": 49,
   "metadata": {},
   "outputs": [
    {
     "name": "stdout",
     "output_type": "stream",
     "text": [
      "Top 10 Negative features \n",
      " disappointed    -0.038600\n",
      "worst           -0.036333\n",
      "threw           -0.036305\n",
      "return          -0.033944\n",
      "not             -0.033823\n",
      "horrible        -0.032536\n",
      "disappointing   -0.031659\n",
      "awful           -0.031373\n",
      "refund          -0.029806\n",
      "terrible        -0.028863\n",
      "Name: 0, dtype: float64\n"
     ]
    }
   ],
   "source": [
    "\n",
    "\n",
    "print(\"Top 10 Negative features \\n\",w_coeff[0].sort_values(ascending = True)[0:10])"
   ]
  },
  {
   "cell_type": "markdown",
   "metadata": {},
   "source": [
    "### [5.1.2] Applying Linear SVM on TFIDF,<font color='red'> SET 2</font>"
   ]
  },
  {
   "cell_type": "code",
   "execution_count": 50,
   "metadata": {},
   "outputs": [
    {
     "name": "stdout",
     "output_type": "stream",
     "text": [
      "1    7081\n",
      "0    1341\n",
      "Name: Score, dtype: int64\n",
      "After vectorizations\n",
      "(13755, 21986) (13755,)\n",
      "(5895, 21986) (5895,)\n",
      "(8422, 21986) (8422,)\n",
      "====================================================================================================\n"
     ]
    }
   ],
   "source": [
    "# Please write all the code with proper documentation\n",
    "from sklearn.cross_validation import train_test_split\n",
    "from sklearn.neighbors import KNeighborsClassifier\n",
    "from sklearn.metrics import roc_auc_score\n",
    "from sklearn.cross_validation import cross_val_score\n",
    "from sklearn import cross_validation\n",
    "\n",
    "X_1, X_test, y_1, y_test = cross_validation.train_test_split(preprocessed_reviews, final['Score'], test_size=0.3, random_state=0)\n",
    "X_tr, X_cv, y_tr, y_cv = cross_validation.train_test_split(X_1, y_1, test_size=0.3)\n",
    "\n",
    "\n",
    "print(y_test.value_counts())\n",
    "\n",
    "count_vect = TfidfVectorizer()\n",
    "count_vect.fit(X_tr)\n",
    "test_vect = count_vect.transform(X_test)\n",
    "cv_vect = count_vect.transform(X_cv)\n",
    "train_vect = count_vect.transform(X_tr)\n",
    "\n",
    "\n",
    "len_arr = review_len(X_test)\n",
    "#https://stackoverflow.com/questions/41937786/add-column-to-a-sparse-matrix\n",
    "test_vect = sparse.hstack((test_vect,len_arr[:,None])).A\n",
    "\n",
    "len_arr = review_len(X_tr)\n",
    "#https://stackoverflow.com/questions/41937786/add-column-to-a-sparse-matrix\n",
    "train_vect = sparse.hstack((train_vect,len_arr[:,None])).A\n",
    "\n",
    "len_arr = review_len(X_cv)\n",
    "#https://stackoverflow.com/questions/41937786/add-column-to-a-sparse-matrix\n",
    "cv_vect = sparse.hstack((cv_vect,len_arr[:,None])).A\n",
    "\n",
    "from sklearn.preprocessing import StandardScaler\n",
    "scaler = StandardScaler(with_mean=False)\n",
    "scaler.fit(test_vect)  \n",
    "train_vect = scaler.transform(train_vect)\n",
    "test_vect = scaler.transform(test_vect)\n",
    "cv_vect = scaler.transform(cv_vect)\n",
    "\n",
    "\n",
    "print(\"After vectorizations\")\n",
    "print(train_vect.shape, y_tr.shape)\n",
    "print(cv_vect.shape, y_cv.shape)\n",
    "print(test_vect.shape, y_test.shape)\n",
    "print(\"=\"*100)"
   ]
  },
  {
   "cell_type": "code",
   "execution_count": 51,
   "metadata": {},
   "outputs": [
    {
     "name": "stderr",
     "output_type": "stream",
     "text": [
      "100%|██████████| 8/8 [00:48<00:00,  6.39s/it]\n"
     ]
    }
   ],
   "source": [
    "train_auc = []\n",
    "cv_auc = []\n",
    "c_values = [0.0001,0.001,0.01,0.1,1,10,100,1000]\n",
    "#K_values = [1].append(K_values)\n",
    "for i in tqdm(c_values):\n",
    "    #svm = SVC(c=i,kernel='linear')\n",
    "    model=SGDClassifier(alpha=i,loss='hinge')\n",
    "    svm=CalibratedClassifierCV(model, cv=2)\n",
    "    svm.fit(train_vect, y_tr)\n",
    "    #https://scikit-learn.org/stable/modules/generated/sklearn.neighbors.KNeighborsClassifier.html\n",
    "    cv_pred = svm.predict_proba(cv_vect)\n",
    "    cv_pred = cv_pred[:,1]\n",
    "    train_pred = svm.predict_proba(train_vect)\n",
    "    #train_pred = train_pred[:].max(axis=1)\n",
    "    train_pred = train_pred[:,1]\n",
    "    #print(train_pred,\"------\",cv_pred)\n",
    "    #https://scikit-learn.org/stable/modules/generated/sklearn.metrics.roc_auc_score.html#sklearn.metrics.roc_auc_score\n",
    "    train_auc.append(roc_auc_score(y_tr,train_pred))\n",
    "    cv_auc.append(roc_auc_score(y_cv,cv_pred))\n",
    "    \n",
    "\n",
    "    "
   ]
  },
  {
   "cell_type": "code",
   "execution_count": 52,
   "metadata": {},
   "outputs": [
    {
     "data": {
      "image/png": "[encoded data removed]",
      "text/plain": [
       "<Figure size 432x288 with 1 Axes>"
      ]
     },
     "metadata": {},
     "output_type": "display_data"
    },
    {
     "name": "stdout",
     "output_type": "stream",
     "text": [
      "Best alpha Value 1\n"
     ]
    }
   ],
   "source": [
    "plt.plot(np.log10(alpha_values), train_auc, label='Train AUC')\n",
    "plt.plot(np.log10(alpha_values), cv_auc, label='CV AUC')\n",
    "plt.xlabel('alpha-value')\n",
    "plt.ylabel('ROC_AUC_SCORE')\n",
    "plt.legend()\n",
    "plt.show()  \n",
    "print(\"Best alpha Value\", c_values[cv_auc.index(max(cv_auc))])"
   ]
  },
  {
   "cell_type": "code",
   "execution_count": 53,
   "metadata": {},
   "outputs": [
    {
     "name": "stdout",
     "output_type": "stream",
     "text": [
      "test_auc 0.9004888674474265\n"
     ]
    },
    {
     "data": {
      "image/png": "[encoded data removed]",
      "text/plain": [
       "<Figure size 432x288 with 1 Axes>"
      ]
     },
     "metadata": {},
     "output_type": "display_data"
    }
   ],
   "source": [
    "model=SGDClassifier(alpha=c_values[cv_auc.index(max(cv_auc))],loss='hinge')\n",
    "best_svm=CalibratedClassifierCV(model, cv=2)\n",
    "best_svm.fit(train_vect, y_tr)\n",
    "\n",
    "#https://scikit-learn.org/stable/modules/generated/sklearn.metrics.roc_curve.html\n",
    "train_pred = best_svm.predict_proba(train_vect)\n",
    "train_pred = train_pred[:,1]\n",
    "#print(np.unique(train_pred))\n",
    "tr_fpr, tr_tpr, tr_thresh = roc_curve(y_tr, train_pred)\n",
    "\n",
    "#https://scikit-learn.org/stable/modules/generated/sklearn.metrics.roc_curve.html\n",
    "test_pred = best_svm.predict_proba(test_vect)\n",
    "test_pred = test_pred[:,1]\n",
    "#print(np.unique(test_pred))\n",
    "test_fpr, test_tpr, test_thresh = roc_curve(y_test, test_pred)\n",
    "auc_tfid_l = auc(test_fpr,test_tpr)\n",
    "print(\"test_auc\",auc_tfid_l)\n",
    "plt.plot(tr_fpr, tr_tpr, label=\"Train ROC\")\n",
    "plt.plot(test_fpr, test_tpr, label=\"Test ROC\")\n",
    "plt.plot(tr_fpr, tr_tpr, label=\"train AUC =\"+str(auc(tr_fpr, tr_tpr)))\n",
    "plt.plot(test_fpr, test_tpr, label=\"test AUC =\"+str(auc(test_fpr, test_tpr)))\n",
    "plt.xlabel(\"FPR\")\n",
    "plt.ylabel(\"TPR\")\n",
    "plt.title(\"ROC CURVE\")\n",
    "plt.legend()\n",
    "plt.show()"
   ]
  },
  {
   "cell_type": "code",
   "execution_count": 54,
   "metadata": {},
   "outputs": [
    {
     "name": "stdout",
     "output_type": "stream",
     "text": [
      "Confusion Matrix \n",
      "\n",
      "[[ 347  994]\n",
      " [  46 7035]]\n",
      "Test accuracy :  0.8765138921871289\n"
     ]
    }
   ],
   "source": [
    "from sklearn.metrics import confusion_matrix\n",
    "test_pred_class = best_svm.predict(test_vect)\n",
    "#a = np.unique(test_pred_class)\n",
    "#print(a)\n",
    "#print(test_vect.shape)\n",
    "#print(test_pred_class.shape)\n",
    "print(\"Confusion Matrix \\n\")\n",
    "\n",
    "C = confusion_matrix(y_test,test_pred_class)\n",
    "print(C)\n",
    "\n",
    "accuracy_tfid_l = best_svm.score(test_vect, y_test)\n",
    "print(\"Test accuracy : \",accuracy_tfid_l)\n",
    "#A =((C)/(C.sum(axis=1)))\n",
    "#B =(C/C.sum(axis=0))"
   ]
  },
  {
   "cell_type": "markdown",
   "metadata": {},
   "source": [
    " Top 10 important features of positive class from<font color='red'> SET 1</font>"
   ]
  },
  {
   "cell_type": "code",
   "execution_count": 55,
   "metadata": {},
   "outputs": [
    {
     "name": "stdout",
     "output_type": "stream",
     "text": [
      "Top 10 Positive features \n",
      " great        0.031040\n",
      "delicious    0.020088\n",
      "good         0.019554\n",
      "remiss       0.018376\n",
      "best         0.018128\n",
      "love         0.017418\n",
      "perfect      0.017310\n",
      "excellent    0.016791\n",
      "loves        0.015134\n",
      "dehydrate    0.014714\n",
      "Name: 0, dtype: float64\n"
     ]
    }
   ],
   "source": [
    "# Getting feature names\n",
    "features = count_vect.get_feature_names()\n",
    "features.append(\"review_length\")\n",
    "\n",
    "model=SGDClassifier(alpha=alpha_values[cv_auc.index(max(cv_auc))],loss='hinge')\n",
    "model.fit(train_vect, y_tr)\n",
    "#Getting weights of feature names\n",
    "w_coeff = pd.DataFrame(model.coef_,columns=features)\n",
    "\n",
    "w_coeff = w_coeff.T\n",
    "\n",
    "print(\"Top 10 Positive features \\n\",w_coeff[0].sort_values(ascending = False)[0:10])"
   ]
  },
  {
   "cell_type": "markdown",
   "metadata": {},
   "source": [
    "Top 10 important features of negative class from<font color='red'> SET 1</font>"
   ]
  },
  {
   "cell_type": "code",
   "execution_count": 56,
   "metadata": {},
   "outputs": [
    {
     "name": "stdout",
     "output_type": "stream",
     "text": [
      "Top 10 Negative features \n",
      " not            -0.045604\n",
      "disappointed   -0.041079\n",
      "return         -0.037371\n",
      "worst          -0.035274\n",
      "awful          -0.032715\n",
      "horrible       -0.032706\n",
      "terrible       -0.031291\n",
      "threw          -0.028430\n",
      "ok             -0.027883\n",
      "refund         -0.027415\n",
      "Name: 0, dtype: float64\n"
     ]
    }
   ],
   "source": [
    "\n",
    "\n",
    "print(\"Top 10 Negative features \\n\",w_coeff[0].sort_values(ascending = True)[0:10])"
   ]
  },
  {
   "cell_type": "code",
   "execution_count": 57,
   "metadata": {},
   "outputs": [],
   "source": [
    "# Please write all the code with proper documentation"
   ]
  },
  {
   "cell_type": "markdown",
   "metadata": {},
   "source": [
    "### [5.1.3]  Applying Linear SVM on AVG W2V,<font color='red'> SET 3</font>"
   ]
  },
  {
   "cell_type": "code",
   "execution_count": 58,
   "metadata": {},
   "outputs": [
    {
     "name": "stdout",
     "output_type": "stream",
     "text": [
      "1    7788\n",
      "0    1476\n",
      "Name: Score, dtype: int64\n"
     ]
    },
    {
     "name": "stderr",
     "output_type": "stream",
     "text": [
      "  1%|          | 109/9264 [00:00<00:08, 1045.84it/s]"
     ]
    },
    {
     "name": "stdout",
     "output_type": "stream",
     "text": [
      "[('good', 0.8649994730949402), ('excellent', 0.8391952514648438), ('amazing', 0.7851092219352722), ('wonderful', 0.7705503106117249), ('fantastic', 0.7256102561950684), ('awesome', 0.7042429447174072), ('theatre', 0.6883372664451599), ('perfect', 0.683326780796051), ('imparts', 0.6744918823242188), ('super', 0.6708419322967529)]\n",
      "==================================================\n",
      "[('hooked', 0.9625660181045532), ('closest', 0.9574567675590515), ('verona', 0.9551575183868408), ('distinctive', 0.9525818228721619), ('world', 0.9504940509796143), ('hotel', 0.9465321898460388), ('pleasure', 0.945990800857544), ('raved', 0.9458307027816772), ('strictly', 0.9454336762428284), ('britt', 0.9452664852142334)]\n"
     ]
    },
    {
     "name": "stderr",
     "output_type": "stream",
     "text": [
      "100%|██████████| 9264/9264 [00:07<00:00, 1171.08it/s]\n",
      "  2%|▏         | 99/6207 [00:00<00:06, 983.23it/s]"
     ]
    },
    {
     "name": "stdout",
     "output_type": "stream",
     "text": [
      "[[ 2.98576707e-02 -5.46216655e-01 -4.82979209e-01 ...  4.71966857e-01\n",
      "   5.63998993e-01  9.70000000e+01]\n",
      " [ 2.98493865e-01 -7.55298491e-01 -6.45507669e-01 ...  7.23631916e-01\n",
      "   5.32847334e-01  2.10000000e+01]\n",
      " [ 6.99961886e-02 -4.37638452e-01 -5.83975350e-01 ... -1.78234176e-01\n",
      "   5.03147461e-01  5.40000000e+01]\n",
      " ...\n",
      " [-3.14071737e-02 -4.08637117e-01 -5.56609868e-01 ...  5.32775095e-01\n",
      "   4.26477777e-01  5.90000000e+01]\n",
      " [ 8.83483311e-03 -3.78812176e-01 -6.23163048e-01 ...  8.58556436e-02\n",
      "   4.03165336e-01  5.20000000e+01]\n",
      " [-1.45041257e-03 -4.69038155e-01 -4.85541127e-01 ...  3.03981884e-02\n",
      "   5.52716698e-01  2.20000000e+01]]\n"
     ]
    },
    {
     "name": "stderr",
     "output_type": "stream",
     "text": [
      "100%|██████████| 6207/6207 [00:05<00:00, 1070.60it/s]\n",
      "100%|██████████| 12601/12601 [00:11<00:00, 1080.67it/s]\n"
     ]
    }
   ],
   "source": [
    "# Please write all the code with proper documentation\n",
    "# Please write all the code with proper documentation\n",
    "\n",
    "from sklearn.cross_validation import train_test_split\n",
    "from sklearn.naive_bayes import MultinomialNB\n",
    "from sklearn.metrics import roc_auc_score\n",
    "from sklearn.cross_validation import cross_val_score\n",
    "from sklearn import cross_validation\n",
    "from scipy import sparse\n",
    "\n",
    "\n",
    "X_1, X_test, y_1, y_test = cross_validation.train_test_split(preprocessed_reviews, final['Score'], test_size=0.33, random_state=0)\n",
    "X_tr, X_cv, y_tr, y_cv = cross_validation.train_test_split(X_1, y_1, test_size=0.33)\n",
    "\n",
    "\n",
    "#function to return length of review\n",
    "def review_len(review):\n",
    "    reviews_len =[]\n",
    "    for sent in review:\n",
    "        reviews_len.append(len(sent.split()))\n",
    "    return np.array(reviews_len)\n",
    "\n",
    "print(y_test.value_counts())\n",
    "\n",
    "w2v_model = w2v_fit(X_tr)\n",
    "#count_vect = CountVectorizer(ngram_range=(1,2)) \n",
    "\n",
    "##--- new feature - Corresponding Review length was added to the test, train and cv vectors seperately\n",
    "test_vect = avg_w2v_transform(w2v_model,X_test)\n",
    "#len_arr = review_len(X_test)\n",
    "#https://stackoverflow.com/questions/41937786/add-column-to-a-sparse-matrix\n",
    "#print(test_vect.shape)\n",
    "print(test_vect)\n",
    "#test_vect = sparse.hstack((test_vect,len_arr[:,None])).A\n",
    "\n",
    "cv_vect = avg_w2v_transform(w2v_model,X_cv)\n",
    "#len_arr = review_len(X_cv)\n",
    "#https://stackoverflow.com/questions/41937786/add-column-to-a-sparse-matrix\n",
    "#cv_vect = sparse.hstack((cv_vect,len_arr[:,None])).A\n",
    "\n",
    "train_vect = avg_w2v_transform(w2v_model,X_tr)\n",
    "#len_arr = review_len(X_tr)\n",
    "#https://stackoverflow.com/questions/41937786/add-column-to-a-sparse-matrix\n",
    "#train_vect = sparse.hstack((train_vect,len_arr[:,None])).A"
   ]
  },
  {
   "cell_type": "code",
   "execution_count": 59,
   "metadata": {},
   "outputs": [
    {
     "name": "stderr",
     "output_type": "stream",
     "text": [
      "100%|██████████| 8/8 [00:00<00:00, 31.16it/s]\n"
     ]
    }
   ],
   "source": [
    "train_auc = []\n",
    "cv_auc = []\n",
    "alpha_values = [0.0001,0.001,0.01,0.1,1,10,100,1000]\n",
    "#K_values = [1].append(K_values)\n",
    "for i in tqdm(alpha_values):\n",
    "    #svm = SVC(c=i,kernel='linear')\n",
    "    model=SGDClassifier(alpha=i,loss='hinge')\n",
    "    svm=CalibratedClassifierCV(model, cv=2)\n",
    "    svm.fit(train_vect, y_tr)\n",
    "    #https://scikit-learn.org/stable/modules/generated/sklearn.neighbors.KNeighborsClassifier.html\n",
    "    cv_pred = svm.predict_proba(cv_vect)\n",
    "    cv_pred = cv_pred[:,1]\n",
    "    train_pred = svm.predict_proba(train_vect)\n",
    "    #train_pred = train_pred[:].max(axis=1)\n",
    "    train_pred = train_pred[:,1]\n",
    "    #print(train_pred,\"------\",cv_pred)\n",
    "    #https://scikit-learn.org/stable/modules/generated/sklearn.metrics.roc_auc_score.html#sklearn.metrics.roc_auc_score\n",
    "    train_auc.append(roc_auc_score(y_tr,train_pred))\n",
    "    cv_auc.append(roc_auc_score(y_cv,cv_pred))\n",
    "    \n",
    "\n",
    "    "
   ]
  },
  {
   "cell_type": "code",
   "execution_count": 60,
   "metadata": {},
   "outputs": [
    {
     "data": {
      "image/png": "[encoded data removed]",
      "text/plain": [
       "<Figure size 432x288 with 1 Axes>"
      ]
     },
     "metadata": {},
     "output_type": "display_data"
    },
    {
     "name": "stdout",
     "output_type": "stream",
     "text": [
      "Best alpha-Value 0.0001\n"
     ]
    }
   ],
   "source": [
    "plt.plot(np.log10(alpha_values), train_auc, label='Train AUC')\n",
    "plt.plot(np.log10(alpha_values), cv_auc, label='CV AUC')\n",
    "plt.xlabel('alpha-value')\n",
    "plt.ylabel('ROC_AUC_SCORE')\n",
    "plt.legend()\n",
    "plt.show()  \n",
    "print(\"Best alpha-Value\", alpha_values[cv_auc.index(max(cv_auc))])"
   ]
  },
  {
   "cell_type": "code",
   "execution_count": 61,
   "metadata": {},
   "outputs": [
    {
     "name": "stdout",
     "output_type": "stream",
     "text": [
      "test_auc 0.6722951577230205\n"
     ]
    },
    {
     "data": {
      "image/png": "[encoded data removed]",
      "text/plain": [
       "<Figure size 432x288 with 1 Axes>"
      ]
     },
     "metadata": {},
     "output_type": "display_data"
    }
   ],
   "source": [
    "model=SGDClassifier(alpha=c_values[cv_auc.index(max(cv_auc))],loss='hinge')\n",
    "best_svm=CalibratedClassifierCV(model, cv=2)\n",
    "best_svm.fit(train_vect, y_tr)\n",
    "\n",
    "#https://scikit-learn.org/stable/modules/generated/sklearn.metrics.roc_curve.html\n",
    "train_pred = best_svm.predict_proba(train_vect)\n",
    "train_pred = train_pred[:,1]\n",
    "#print(np.unique(train_pred))\n",
    "tr_fpr, tr_tpr, tr_thresh = roc_curve(y_tr, train_pred)\n",
    "\n",
    "#https://scikit-learn.org/stable/modules/generated/sklearn.metrics.roc_curve.html\n",
    "test_pred = best_svm.predict_proba(test_vect)\n",
    "test_pred = test_pred[:,1]\n",
    "#print(np.unique(test_pred))\n",
    "test_fpr, test_tpr, test_thresh = roc_curve(y_test, test_pred)\n",
    "auc_w2v_l = auc(test_fpr,test_tpr)\n",
    "print(\"test_auc\",auc_w2v_l)\n",
    "plt.plot(tr_fpr, tr_tpr, label=\"Train ROC\")\n",
    "plt.plot(test_fpr, test_tpr, label=\"Test ROC\")\n",
    "plt.plot(tr_fpr, tr_tpr, label=\"train AUC =\"+str(auc(tr_fpr, tr_tpr)))\n",
    "plt.plot(test_fpr, test_tpr, label=\"test AUC =\"+str(auc(test_fpr, test_tpr)))\n",
    "plt.xlabel(\"FPR\")\n",
    "plt.ylabel(\"TPR\")\n",
    "plt.title(\"ROC CURVE\")\n",
    "plt.legend()\n",
    "plt.show()"
   ]
  },
  {
   "cell_type": "code",
   "execution_count": 62,
   "metadata": {},
   "outputs": [
    {
     "name": "stdout",
     "output_type": "stream",
     "text": [
      "Confusion Matrix \n",
      "\n",
      "[[   1 1475]\n",
      " [   4 7784]]\n",
      "Test accuracy :  0.8403497409326425\n"
     ]
    }
   ],
   "source": [
    "from sklearn.metrics import confusion_matrix\n",
    "test_pred_class = best_svm.predict(test_vect)\n",
    "#a = np.unique(test_pred_class)\n",
    "#print(a)\n",
    "#print(test_vect.shape)\n",
    "#print(test_pred_class.shape)\n",
    "print(\"Confusion Matrix \\n\")\n",
    "\n",
    "C = confusion_matrix(y_test,test_pred_class)\n",
    "print(C)\n",
    "\n",
    "accuracy_w2v_l = best_svm.score(test_vect, y_test)\n",
    "print(\"Test accuracy : \",accuracy_w2v_l)\n",
    "#A =((C)/(C.sum(axis=1)))\n",
    "#B =(C/C.sum(axis=0))"
   ]
  },
  {
   "cell_type": "markdown",
   "metadata": {},
   "source": [
    "### [5.1.4]  Applying Linear SVM on TFIDF W2V,<font color='red'> SET 4</font>"
   ]
  },
  {
   "cell_type": "code",
   "execution_count": 63,
   "metadata": {},
   "outputs": [
    {
     "name": "stdout",
     "output_type": "stream",
     "text": [
      "1    7788\n",
      "0    1476\n",
      "Name: Score, dtype: int64\n"
     ]
    },
    {
     "name": "stderr",
     "output_type": "stream",
     "text": [
      "\r",
      "  0%|          | 0/9264 [00:00<?, ?it/s]"
     ]
    },
    {
     "name": "stdout",
     "output_type": "stream",
     "text": [
      "[('good', 0.8448598980903625), ('excellent', 0.7664974331855774), ('wonderful', 0.7469795942306519), ('awesome', 0.7186698317527771), ('amazing', 0.7111882567405701), ('fantastic', 0.6916230320930481), ('super', 0.6884647011756897), ('delicious', 0.6826521158218384), ('love', 0.6739854216575623), ('quick', 0.6439713835716248)]\n",
      "==================================================\n",
      "[('world', 0.9611328840255737), ('decades', 0.9576990604400635), ('exciting', 0.9575232863426208), ('closest', 0.9533124566078186), ('variation', 0.9516345858573914), ('admit', 0.9450585842132568), ('reviewed', 0.9429587125778198), ('hooked', 0.9412384033203125), ('dissapointed', 0.9411522150039673), ('absolute', 0.9397194385528564)]\n"
     ]
    },
    {
     "name": "stderr",
     "output_type": "stream",
     "text": [
      "100%|██████████| 9264/9264 [00:54<00:00, 171.55it/s]\n",
      "100%|██████████| 6207/6207 [00:35<00:00, 174.57it/s]\n",
      "100%|██████████| 12601/12601 [01:12<00:00, 174.87it/s]\n"
     ]
    }
   ],
   "source": [
    "# Please write all the code with proper documentation\n",
    "\n",
    "from sklearn.cross_validation import train_test_split\n",
    "from sklearn.naive_bayes import MultinomialNB\n",
    "from sklearn.metrics import roc_auc_score\n",
    "from sklearn.cross_validation import cross_val_score\n",
    "from sklearn import cross_validation\n",
    "from scipy import sparse\n",
    "\n",
    "\n",
    "X_1, X_test, y_1, y_test = cross_validation.train_test_split(preprocessed_reviews, final['Score'], test_size=0.33, random_state=0)\n",
    "X_tr, X_cv, y_tr, y_cv = cross_validation.train_test_split(X_1, y_1, test_size=0.33)\n",
    "\n",
    "\n",
    "#function to return length of review\n",
    "def review_len(review):\n",
    "    reviews_len =[]\n",
    "    for sent in review:\n",
    "        reviews_len.append(len(sent.split()))\n",
    "    return np.array(reviews_len)\n",
    "\n",
    "print(y_test.value_counts())\n",
    "\n",
    "model = TfidfVectorizer()\n",
    "model.fit(X_tr)\n",
    "w2v_model = w2v_fit(X_tr)\n",
    "\n",
    "#count_vect = CountVectorizer(ngram_range=(1,2)) \n",
    "\n",
    "##--- new feature - Corresponding Review length was added to the test, train and cv vectors seperately\n",
    "test_vect = tf_idf_transform(model,w2v_model,X_test)\n",
    "#len_arr = review_len(X_test)\n",
    "#https://stackoverflow.com/questions/41937786/add-column-to-a-sparse-matrix\n",
    "#test_vect = sparse.hstack((test_vect,len_arr[:,None])).A\n",
    "\n",
    "cv_vect = tf_idf_transform(model,w2v_model,X_cv)\n",
    "#len_arr = review_len(X_cv)\n",
    "#https://stackoverflow.com/questions/41937786/add-column-to-a-sparse-matrix\n",
    "#cv_vect = sparse.hstack((cv_vect,len_arr[:,None])).A\n",
    "\n",
    "train_vect = tf_idf_transform(model,w2v_model,X_tr)\n",
    "#len_arr = review_len(X_tr)\n",
    "#https://stackoverflow.com/questions/41937786/add-column-to-a-sparse-matrix\n",
    "#train_vect = sparse.hstack((train_vect,len_arr[:,None])).A"
   ]
  },
  {
   "cell_type": "code",
   "execution_count": 64,
   "metadata": {},
   "outputs": [
    {
     "name": "stderr",
     "output_type": "stream",
     "text": [
      "100%|██████████| 8/8 [00:00<00:00, 25.54it/s]\n"
     ]
    }
   ],
   "source": [
    "train_auc = []\n",
    "cv_auc = []\n",
    "alpha_values = [0.0001,0.001,0.01,0.1,1,10,100,1000]\n",
    "#K_values = [1].append(K_values)\n",
    "for i in tqdm(alpha_values):\n",
    "    #svm = SVC(c=i,kernel='linear')\n",
    "    model=SGDClassifier(alpha=i,loss='hinge')\n",
    "    svm=CalibratedClassifierCV(model, cv=2)\n",
    "    svm.fit(train_vect, y_tr)\n",
    "    #https://scikit-learn.org/stable/modules/generated/sklearn.neighbors.KNeighborsClassifier.html\n",
    "    cv_pred = svm.predict_proba(cv_vect)\n",
    "    cv_pred = cv_pred[:,1]\n",
    "    train_pred = svm.predict_proba(train_vect)\n",
    "    #train_pred = train_pred[:].max(axis=1)\n",
    "    train_pred = train_pred[:,1]\n",
    "    #print(train_pred,\"------\",cv_pred)\n",
    "    #https://scikit-learn.org/stable/modules/generated/sklearn.metrics.roc_auc_score.html#sklearn.metrics.roc_auc_score\n",
    "    train_auc.append(roc_auc_score(y_tr,train_pred))\n",
    "    cv_auc.append(roc_auc_score(y_cv,cv_pred))\n",
    "    \n",
    "\n",
    "    "
   ]
  },
  {
   "cell_type": "code",
   "execution_count": 65,
   "metadata": {},
   "outputs": [
    {
     "data": {
      "image/png": "[encoded data removed]",
      "text/plain": [
       "<Figure size 432x288 with 1 Axes>"
      ]
     },
     "metadata": {},
     "output_type": "display_data"
    },
    {
     "name": "stdout",
     "output_type": "stream",
     "text": [
      "Best alpha-Value 0.001\n"
     ]
    }
   ],
   "source": [
    "plt.plot(np.log10(alpha_values), train_auc, label='Train AUC')\n",
    "plt.plot(np.log10(alpha_values), cv_auc, label='CV AUC')\n",
    "plt.xlabel('alpha-value')\n",
    "plt.ylabel('ROC_AUC_SCORE')\n",
    "plt.legend()\n",
    "plt.show()  \n",
    "print(\"Best alpha-Value\", alpha_values[cv_auc.index(max(cv_auc))])"
   ]
  },
  {
   "cell_type": "code",
   "execution_count": 66,
   "metadata": {},
   "outputs": [
    {
     "name": "stdout",
     "output_type": "stream",
     "text": [
      "test_auc 0.8053144090762943\n"
     ]
    },
    {
     "data": {
      "image/png": "[encoded data removed]",
      "text/plain": [
       "<Figure size 432x288 with 1 Axes>"
      ]
     },
     "metadata": {},
     "output_type": "display_data"
    }
   ],
   "source": [
    "model=SGDClassifier(alpha=c_values[cv_auc.index(max(cv_auc))],loss='hinge')\n",
    "best_svm=CalibratedClassifierCV(model, cv=2)\n",
    "best_svm.fit(train_vect, y_tr)\n",
    "\n",
    "#https://scikit-learn.org/stable/modules/generated/sklearn.metrics.roc_curve.html\n",
    "train_pred = best_svm.predict_proba(train_vect)\n",
    "train_pred = train_pred[:,1]\n",
    "#print(np.unique(train_pred))\n",
    "tr_fpr, tr_tpr, tr_thresh = roc_curve(y_tr, train_pred)\n",
    "\n",
    "#https://scikit-learn.org/stable/modules/generated/sklearn.metrics.roc_curve.html\n",
    "test_pred = best_svm.predict_proba(test_vect)\n",
    "test_pred = test_pred[:,1]\n",
    "#print(np.unique(test_pred))\n",
    "test_fpr, test_tpr, test_thresh = roc_curve(y_test, test_pred)\n",
    "auc_tfid_w2v_l = auc(test_fpr,test_tpr)\n",
    "print(\"test_auc\",auc_tfid_w2v_l)\n",
    "plt.plot(tr_fpr, tr_tpr, label=\"Train ROC\")\n",
    "plt.plot(test_fpr, test_tpr, label=\"Test ROC\")\n",
    "plt.plot(tr_fpr, tr_tpr, label=\"train AUC =\"+str(auc(tr_fpr, tr_tpr)))\n",
    "plt.plot(test_fpr, test_tpr, label=\"test AUC =\"+str(auc(test_fpr, test_tpr)))\n",
    "plt.xlabel(\"FPR\")\n",
    "plt.ylabel(\"TPR\")\n",
    "plt.title(\"ROC CURVE\")\n",
    "plt.legend()\n",
    "plt.show()"
   ]
  },
  {
   "cell_type": "code",
   "execution_count": 67,
   "metadata": {},
   "outputs": [
    {
     "name": "stdout",
     "output_type": "stream",
     "text": [
      "Confusion Matrix \n",
      "\n",
      "[[ 238 1238]\n",
      " [ 110 7678]]\n",
      "Test accuracy :  0.8544905008635578\n"
     ]
    }
   ],
   "source": [
    "from sklearn.metrics import confusion_matrix\n",
    "test_pred_class = best_svm.predict(test_vect)\n",
    "#a = np.unique(test_pred_class)\n",
    "#print(a)\n",
    "#print(test_vect.shape)\n",
    "#print(test_pred_class.shape)\n",
    "print(\"Confusion Matrix \\n\")\n",
    "\n",
    "C = confusion_matrix(y_test,test_pred_class)\n",
    "print(C)\n",
    "\n",
    "accuracy_tfid_w2v_l = best_svm.score(test_vect, y_test)\n",
    "print(\"Test accuracy : \",accuracy_tfid_w2v_l)\n",
    "#A =((C)/(C.sum(axis=1)))\n",
    "#B =(C/C.sum(axis=0))"
   ]
  },
  {
   "cell_type": "code",
   "execution_count": 68,
   "metadata": {},
   "outputs": [],
   "source": [
    "# Please write all the code with proper documentation"
   ]
  },
  {
   "cell_type": "markdown",
   "metadata": {},
   "source": [
    "## [5.2] RBF SVM"
   ]
  },
  {
   "cell_type": "markdown",
   "metadata": {},
   "source": [
    "### [5.2.1] Applying RBF SVM on BOW,<font color='red'> SET 1</font>"
   ]
  },
  {
   "cell_type": "code",
   "execution_count": 69,
   "metadata": {},
   "outputs": [
    {
     "name": "stdout",
     "output_type": "stream",
     "text": [
      "1    7081\n",
      "0    1341\n",
      "Name: Score, dtype: int64\n",
      "After vectorizations\n",
      "(13755, 501) (13755,)\n",
      "(5895, 501) (5895,)\n",
      "(8422, 501) (8422,)\n",
      "====================================================================================================\n"
     ]
    },
    {
     "name": "stderr",
     "output_type": "stream",
     "text": [
      "/Users/ravishankar/anaconda3/lib/python3.6/site-packages/sklearn/utils/validation.py:475: DataConversionWarning: Data with input dtype int64 was converted to float64 by StandardScaler.\n",
      "  warnings.warn(msg, DataConversionWarning)\n",
      "/Users/ravishankar/anaconda3/lib/python3.6/site-packages/sklearn/utils/validation.py:475: DataConversionWarning: Data with input dtype int64 was converted to float64 by StandardScaler.\n",
      "  warnings.warn(msg, DataConversionWarning)\n",
      "/Users/ravishankar/anaconda3/lib/python3.6/site-packages/sklearn/utils/validation.py:475: DataConversionWarning: Data with input dtype int64 was converted to float64 by StandardScaler.\n",
      "  warnings.warn(msg, DataConversionWarning)\n",
      "/Users/ravishankar/anaconda3/lib/python3.6/site-packages/sklearn/utils/validation.py:475: DataConversionWarning: Data with input dtype int64 was converted to float64 by StandardScaler.\n",
      "  warnings.warn(msg, DataConversionWarning)\n"
     ]
    }
   ],
   "source": [
    "# Please write all the code with proper documentation\n",
    "from sklearn.cross_validation import train_test_split\n",
    "from sklearn.neighbors import KNeighborsClassifier\n",
    "from sklearn.metrics import roc_auc_score\n",
    "from sklearn.cross_validation import cross_val_score\n",
    "from sklearn import cross_validation\n",
    "\n",
    "X_1, X_test, y_1, y_test = cross_validation.train_test_split(preprocessed_reviews, final['Score'], test_size=0.3, random_state=0)\n",
    "X_tr, X_cv, y_tr, y_cv = cross_validation.train_test_split(X_1, y_1, test_size=0.3)\n",
    "\n",
    "\n",
    "print(y_test.value_counts())\n",
    "\n",
    "count_vect = CountVectorizer(min_df=10,max_features=500) \n",
    "count_vect.fit(X_tr)\n",
    "test_vect = count_vect.transform(X_test)\n",
    "cv_vect = count_vect.transform(X_cv)\n",
    "train_vect = count_vect.transform(X_tr)\n",
    "\n",
    "\n",
    "len_arr = review_len(X_test)\n",
    "#https://stackoverflow.com/questions/41937786/add-column-to-a-sparse-matrix\n",
    "test_vect = sparse.hstack((test_vect,len_arr[:,None])).A\n",
    "\n",
    "len_arr = review_len(X_tr)\n",
    "#https://stackoverflow.com/questions/41937786/add-column-to-a-sparse-matrix\n",
    "train_vect = sparse.hstack((train_vect,len_arr[:,None])).A\n",
    "\n",
    "len_arr = review_len(X_cv)\n",
    "#https://stackoverflow.com/questions/41937786/add-column-to-a-sparse-matrix\n",
    "cv_vect = sparse.hstack((cv_vect,len_arr[:,None])).A\n",
    "\n",
    "from sklearn.preprocessing import StandardScaler\n",
    "scaler = StandardScaler(with_mean=False)\n",
    "scaler.fit(test_vect)  \n",
    "train_vect = scaler.transform(train_vect)\n",
    "test_vect = scaler.transform(test_vect)\n",
    "cv_vect = scaler.transform(cv_vect)\n",
    "\n",
    "\n",
    "print(\"After vectorizations\")\n",
    "print(train_vect.shape, y_tr.shape)\n",
    "print(cv_vect.shape, y_cv.shape)\n",
    "print(test_vect.shape, y_test.shape)\n",
    "print(\"=\"*100)"
   ]
  },
  {
   "cell_type": "code",
   "execution_count": 70,
   "metadata": {},
   "outputs": [
    {
     "name": "stderr",
     "output_type": "stream",
     "text": [
      "100%|██████████| 8/8 [53:00<00:00, 450.72s/it]\n"
     ]
    }
   ],
   "source": [
    "train_auc = []\n",
    "cv_auc = []\n",
    "alpha_values = [0.0001,0.001,0.01,0.1,1,10,100,1000]\n",
    "#K_values = [1].append(K_values)\n",
    "for i in tqdm(alpha_values):\n",
    "    svm = SVC(C=i,kernel='rbf',probability=True)\n",
    "    svm.fit(train_vect, y_tr)\n",
    "    #https://scikit-learn.org/stable/modules/generated/sklearn.neighbors.KNeighborsClassifier.html\n",
    "    cv_pred = svm.predict_proba(cv_vect)\n",
    "    cv_pred = cv_pred[:,1]\n",
    "    train_pred = svm.predict_proba(train_vect)\n",
    "    #train_pred = train_pred[:].max(axis=1)\n",
    "    train_pred = train_pred[:,1]\n",
    "    #print(train_pred,\"------\",cv_pred)\n",
    "    #https://scikit-learn.org/stable/modules/generated/sklearn.metrics.roc_auc_score.html#sklearn.metrics.roc_auc_score\n",
    "    train_auc.append(roc_auc_score(y_tr,train_pred))\n",
    "    cv_auc.append(roc_auc_score(y_cv,cv_pred))\n",
    "    \n",
    "\n",
    "    "
   ]
  },
  {
   "cell_type": "code",
   "execution_count": 71,
   "metadata": {},
   "outputs": [
    {
     "data": {
      "image/png": "[encoded data removed]",
      "text/plain": [
       "<Figure size 432x288 with 1 Axes>"
      ]
     },
     "metadata": {},
     "output_type": "display_data"
    },
    {
     "name": "stdout",
     "output_type": "stream",
     "text": [
      "Best c-Value 1\n"
     ]
    }
   ],
   "source": [
    "plt.plot(np.log10(alpha_values), train_auc, label='Train AUC')\n",
    "plt.plot(np.log10(alpha_values), cv_auc, label='CV AUC')\n",
    "plt.xlabel('alpha-value')\n",
    "plt.ylabel('ROC_AUC_SCORE')\n",
    "plt.legend()\n",
    "plt.show()  \n",
    "print(\"Best c-Value\", alpha_values[cv_auc.index(max(cv_auc))])"
   ]
  },
  {
   "cell_type": "code",
   "execution_count": 72,
   "metadata": {},
   "outputs": [
    {
     "name": "stdout",
     "output_type": "stream",
     "text": [
      "test_auc 0.8864454468012151\n"
     ]
    },
    {
     "data": {
      "image/png": "[encoded data removed]",
      "text/plain": [
       "<Figure size 432x288 with 1 Axes>"
      ]
     },
     "metadata": {},
     "output_type": "display_data"
    }
   ],
   "source": [
    "best_svm = SVC(C=alpha_values[cv_auc.index(max(cv_auc))],kernel='rbf',probability=True)\n",
    "best_svm.fit(train_vect, y_tr)\n",
    "\n",
    "#https://scikit-learn.org/stable/modules/generated/sklearn.metrics.roc_curve.html\n",
    "train_pred = best_svm.predict_proba(train_vect)\n",
    "train_pred = train_pred[:,1]\n",
    "#print(np.unique(train_pred))\n",
    "tr_fpr, tr_tpr, tr_thresh = roc_curve(y_tr, train_pred)\n",
    "\n",
    "#https://scikit-learn.org/stable/modules/generated/sklearn.metrics.roc_curve.html\n",
    "test_pred = best_svm.predict_proba(test_vect)\n",
    "test_pred = test_pred[:,1]\n",
    "#print(np.unique(test_pred))\n",
    "test_fpr, test_tpr, test_thresh = roc_curve(y_test, test_pred)\n",
    "auc_bow_r = auc(test_fpr,test_tpr)\n",
    "print(\"test_auc\",auc_bow_r)\n",
    "plt.plot(tr_fpr, tr_tpr, label=\"Train ROC\")\n",
    "plt.plot(test_fpr, test_tpr, label=\"Test ROC\")\n",
    "plt.plot(tr_fpr, tr_tpr, label=\"train AUC =\"+str(auc(tr_fpr, tr_tpr)))\n",
    "plt.plot(test_fpr, test_tpr, label=\"test AUC =\"+str(auc(test_fpr, test_tpr)))\n",
    "plt.xlabel(\"FPR\")\n",
    "plt.ylabel(\"TPR\")\n",
    "plt.title(\"ROC CURVE\")\n",
    "plt.legend()\n",
    "plt.show()"
   ]
  },
  {
   "cell_type": "code",
   "execution_count": 73,
   "metadata": {},
   "outputs": [
    {
     "name": "stdout",
     "output_type": "stream",
     "text": [
      "Confusion Matrix \n",
      "\n",
      "[[ 407  934]\n",
      " [  97 6984]]\n",
      "Test accuracy :  0.8775825219662788\n"
     ]
    }
   ],
   "source": [
    "from sklearn.metrics import confusion_matrix\n",
    "test_pred_class = best_svm.predict(test_vect)\n",
    "#a = np.unique(test_pred_class)\n",
    "#print(a)\n",
    "#print(test_vect.shape)\n",
    "#print(test_pred_class.shape)\n",
    "print(\"Confusion Matrix \\n\")\n",
    "\n",
    "C = confusion_matrix(y_test,test_pred_class)\n",
    "print(C)\n",
    "\n",
    "accuracy_bow_r = best_svm.score(test_vect, y_test)\n",
    "print(\"Test accuracy : \",accuracy_bow_r)\n",
    "#A =((C)/(C.sum(axis=1)))\n",
    "#B =(C/C.sum(axis=0))"
   ]
  },
  {
   "cell_type": "code",
   "execution_count": 74,
   "metadata": {},
   "outputs": [],
   "source": [
    "# Please write all the code with proper documentation"
   ]
  },
  {
   "cell_type": "markdown",
   "metadata": {},
   "source": [
    "### [5.2.2] Applying RBF SVM on TFIDF,<font color='red'> SET 2</font>"
   ]
  },
  {
   "cell_type": "code",
   "execution_count": 75,
   "metadata": {},
   "outputs": [
    {
     "name": "stdout",
     "output_type": "stream",
     "text": [
      "1    7081\n",
      "0    1341\n",
      "Name: Score, dtype: int64\n",
      "After vectorizations\n",
      "(13755, 501) (13755,)\n",
      "(5895, 501) (5895,)\n",
      "(8422, 501) (8422,)\n",
      "====================================================================================================\n"
     ]
    }
   ],
   "source": [
    "# Please write all the code with proper documentation\n",
    "from sklearn.cross_validation import train_test_split\n",
    "from sklearn.neighbors import KNeighborsClassifier\n",
    "from sklearn.metrics import roc_auc_score\n",
    "from sklearn.cross_validation import cross_val_score\n",
    "from sklearn import cross_validation\n",
    "\n",
    "X_1, X_test, y_1, y_test = cross_validation.train_test_split(preprocessed_reviews, final['Score'], test_size=0.3, random_state=0)\n",
    "X_tr, X_cv, y_tr, y_cv = cross_validation.train_test_split(X_1, y_1, test_size=0.3)\n",
    "\n",
    "\n",
    "print(y_test.value_counts())\n",
    "\n",
    "count_vect = TfidfVectorizer(min_df=10,max_features=500)\n",
    "count_vect.fit(X_tr)\n",
    "test_vect = count_vect.transform(X_test)\n",
    "cv_vect = count_vect.transform(X_cv)\n",
    "train_vect = count_vect.transform(X_tr)\n",
    "\n",
    "\n",
    "len_arr = review_len(X_test)\n",
    "#https://stackoverflow.com/questions/41937786/add-column-to-a-sparse-matrix\n",
    "test_vect = sparse.hstack((test_vect,len_arr[:,None])).A\n",
    "\n",
    "len_arr = review_len(X_tr)\n",
    "#https://stackoverflow.com/questions/41937786/add-column-to-a-sparse-matrix\n",
    "train_vect = sparse.hstack((train_vect,len_arr[:,None])).A\n",
    "\n",
    "len_arr = review_len(X_cv)\n",
    "#https://stackoverflow.com/questions/41937786/add-column-to-a-sparse-matrix\n",
    "cv_vect = sparse.hstack((cv_vect,len_arr[:,None])).A\n",
    "\n",
    "from sklearn.preprocessing import StandardScaler\n",
    "scaler = StandardScaler(with_mean=False)\n",
    "scaler.fit(test_vect)  \n",
    "train_vect = scaler.transform(train_vect)\n",
    "test_vect = scaler.transform(test_vect)\n",
    "cv_vect = scaler.transform(cv_vect)\n",
    "\n",
    "\n",
    "print(\"After vectorizations\")\n",
    "print(train_vect.shape, y_tr.shape)\n",
    "print(cv_vect.shape, y_cv.shape)\n",
    "print(test_vect.shape, y_test.shape)\n",
    "print(\"=\"*100)"
   ]
  },
  {
   "cell_type": "code",
   "execution_count": 76,
   "metadata": {},
   "outputs": [
    {
     "name": "stderr",
     "output_type": "stream",
     "text": [
      "100%|██████████| 8/8 [1:10:31<00:00, 689.55s/it]\n"
     ]
    }
   ],
   "source": [
    "train_auc = []\n",
    "cv_auc = []\n",
    "alpha_values = [0.0001,0.001,0.01,0.1,1,10,100,1000]\n",
    "#K_values = [1].append(K_values)\n",
    "for i in tqdm(alpha_values):\n",
    "    svm = SVC(C=i,kernel='rbf',probability=True)\n",
    "    svm.fit(train_vect, y_tr)\n",
    "    #https://scikit-learn.org/stable/modules/generated/sklearn.neighbors.KNeighborsClassifier.html\n",
    "    cv_pred = svm.predict_proba(cv_vect)\n",
    "    cv_pred = cv_pred[:,1]\n",
    "    train_pred = svm.predict_proba(train_vect)\n",
    "    #train_pred = train_pred[:].max(axis=1)\n",
    "    train_pred = train_pred[:,1]\n",
    "    #print(train_pred,\"------\",cv_pred)\n",
    "    #https://scikit-learn.org/stable/modules/generated/sklearn.metrics.roc_auc_score.html#sklearn.metrics.roc_auc_score\n",
    "    train_auc.append(roc_auc_score(y_tr,train_pred))\n",
    "    cv_auc.append(roc_auc_score(y_cv,cv_pred))\n",
    "    \n",
    "\n",
    "    "
   ]
  },
  {
   "cell_type": "code",
   "execution_count": 77,
   "metadata": {},
   "outputs": [
    {
     "data": {
      "image/png": "[encoded data removed]",
      "text/plain": [
       "<Figure size 432x288 with 1 Axes>"
      ]
     },
     "metadata": {},
     "output_type": "display_data"
    },
    {
     "name": "stdout",
     "output_type": "stream",
     "text": [
      "Best c-Value 10\n"
     ]
    }
   ],
   "source": [
    "plt.plot(np.log10(alpha_values), train_auc, label='Train AUC')\n",
    "plt.plot(np.log10(alpha_values), cv_auc, label='CV AUC')\n",
    "plt.xlabel('alpha-value')\n",
    "plt.ylabel('ROC_AUC_SCORE')\n",
    "plt.legend()\n",
    "plt.show()  \n",
    "print(\"Best c-Value\", alpha_values[cv_auc.index(max(cv_auc))])"
   ]
  },
  {
   "cell_type": "code",
   "execution_count": 78,
   "metadata": {},
   "outputs": [
    {
     "name": "stdout",
     "output_type": "stream",
     "text": [
      "test_auc 0.898167060374461\n"
     ]
    },
    {
     "data": {
      "image/png": "[encoded data removed]",
      "text/plain": [
       "<Figure size 432x288 with 1 Axes>"
      ]
     },
     "metadata": {},
     "output_type": "display_data"
    }
   ],
   "source": [
    "best_svm = SVC(C=alpha_values[cv_auc.index(max(cv_auc))],kernel='rbf',probability=True)\n",
    "best_svm.fit(train_vect, y_tr)\n",
    "\n",
    "#https://scikit-learn.org/stable/modules/generated/sklearn.metrics.roc_curve.html\n",
    "train_pred = best_svm.predict_proba(train_vect)\n",
    "train_pred = train_pred[:,1]\n",
    "#print(np.unique(train_pred))\n",
    "tr_fpr, tr_tpr, tr_thresh = roc_curve(y_tr, train_pred)\n",
    "\n",
    "#https://scikit-learn.org/stable/modules/generated/sklearn.metrics.roc_curve.html\n",
    "test_pred = best_svm.predict_proba(test_vect)\n",
    "test_pred = test_pred[:,1]\n",
    "#print(np.unique(test_pred))\n",
    "test_fpr, test_tpr, test_thresh = roc_curve(y_test, test_pred)\n",
    "auc_tfid_r = auc(test_fpr,test_tpr)\n",
    "print(\"test_auc\",auc_tfid_r)\n",
    "plt.plot(tr_fpr, tr_tpr, label=\"Train ROC\")\n",
    "plt.plot(test_fpr, test_tpr, label=\"Test ROC\")\n",
    "plt.plot(tr_fpr, tr_tpr, label=\"train AUC =\"+str(auc(tr_fpr, tr_tpr)))\n",
    "plt.plot(test_fpr, test_tpr, label=\"test AUC =\"+str(auc(test_fpr, test_tpr)))\n",
    "plt.xlabel(\"FPR\")\n",
    "plt.ylabel(\"TPR\")\n",
    "plt.title(\"ROC CURVE\")\n",
    "plt.legend()\n",
    "plt.show()"
   ]
  },
  {
   "cell_type": "code",
   "execution_count": 79,
   "metadata": {},
   "outputs": [
    {
     "name": "stdout",
     "output_type": "stream",
     "text": [
      "Confusion Matrix \n",
      "\n",
      "[[ 596  745]\n",
      " [ 187 6894]]\n",
      "Test accuracy :  0.8893374495369271\n"
     ]
    }
   ],
   "source": [
    "from sklearn.metrics import confusion_matrix\n",
    "test_pred_class = best_svm.predict(test_vect)\n",
    "#a = np.unique(test_pred_class)\n",
    "#print(a)\n",
    "#print(test_vect.shape)\n",
    "#print(test_pred_class.shape)\n",
    "print(\"Confusion Matrix \\n\")\n",
    "\n",
    "C = confusion_matrix(y_test,test_pred_class)\n",
    "print(C)\n",
    "\n",
    "accuracy_tfid_r = best_svm.score(test_vect, y_test)\n",
    "print(\"Test accuracy : \",accuracy_tfid_r)\n",
    "#A =((C)/(C.sum(axis=1)))\n",
    "#B =(C/C.sum(axis=0))"
   ]
  },
  {
   "cell_type": "code",
   "execution_count": 80,
   "metadata": {},
   "outputs": [],
   "source": [
    "# Please write all the code with proper documentation"
   ]
  },
  {
   "cell_type": "markdown",
   "metadata": {},
   "source": [
    "### [5.2.3]  Applying RBF SVM on AVG W2V,<font color='red'> SET 3</font>"
   ]
  },
  {
   "cell_type": "code",
   "execution_count": 81,
   "metadata": {},
   "outputs": [
    {
     "name": "stdout",
     "output_type": "stream",
     "text": [
      "1    7788\n",
      "0    1476\n",
      "Name: Score, dtype: int64\n"
     ]
    },
    {
     "name": "stderr",
     "output_type": "stream",
     "text": [
      "  1%|          | 108/9264 [00:00<00:08, 1074.45it/s]"
     ]
    },
    {
     "name": "stdout",
     "output_type": "stream",
     "text": [
      "[('good', 0.7974837422370911), ('excellent', 0.7871569395065308), ('fantastic', 0.7369920015335083), ('amazing', 0.7156749367713928), ('well', 0.7148282527923584), ('wonderful', 0.7113310098648071), ('awesome', 0.7110161781311035), ('makes', 0.6921865940093994), ('decent', 0.6718159914016724), ('especially', 0.6652876138687134)]\n",
      "==================================================\n",
      "[('world', 0.9577041864395142), ('hooked', 0.948095977306366), ('kinds', 0.9436710476875305), ('tahini', 0.9416037797927856), ('varieties', 0.9415442943572998), ('planet', 0.9412354230880737), ('jamaica', 0.9404845237731934), ('superior', 0.9403778910636902), ('restaurants', 0.9388030767440796), ('absolute', 0.9384139180183411)]\n"
     ]
    },
    {
     "name": "stderr",
     "output_type": "stream",
     "text": [
      "100%|██████████| 9264/9264 [00:07<00:00, 1167.78it/s]\n",
      "  2%|▏         | 104/6207 [00:00<00:05, 1034.62it/s]"
     ]
    },
    {
     "name": "stdout",
     "output_type": "stream",
     "text": [
      "[[ 5.56352953e-02 -5.15511155e-01 -3.57781923e-01 ...  3.31214119e-01\n",
      "   4.17190636e-01  9.60000000e+01]\n",
      " [ 3.29639638e-01 -6.28054107e-01 -4.83599474e-01 ...  5.84086890e-01\n",
      "   4.57614251e-01  2.10000000e+01]\n",
      " [ 1.00038805e-01 -3.02819702e-01 -4.38342150e-01 ... -2.89670166e-01\n",
      "   5.83421967e-01  5.40000000e+01]\n",
      " ...\n",
      " [ 9.06413007e-02 -3.82312768e-01 -5.43051206e-01 ...  5.44356287e-01\n",
      "   3.77976663e-01  5.70000000e+01]\n",
      " [ 4.80382589e-02 -3.24454343e-01 -5.37434177e-01 ... -1.32469446e-02\n",
      "   4.02964009e-01  5.20000000e+01]\n",
      " [ 6.41436020e-02 -3.75130798e-01 -3.37311718e-01 ... -4.10896959e-02\n",
      "   5.83517728e-01  2.20000000e+01]]\n"
     ]
    },
    {
     "name": "stderr",
     "output_type": "stream",
     "text": [
      "100%|██████████| 6207/6207 [00:05<00:00, 1212.40it/s]\n",
      "100%|██████████| 12601/12601 [00:09<00:00, 1261.38it/s]\n"
     ]
    }
   ],
   "source": [
    "# Please write all the code with proper documentation\n",
    "# Please write all the code with proper documentation\n",
    "\n",
    "from sklearn.cross_validation import train_test_split\n",
    "from sklearn.naive_bayes import MultinomialNB\n",
    "from sklearn.metrics import roc_auc_score\n",
    "from sklearn.cross_validation import cross_val_score\n",
    "from sklearn import cross_validation\n",
    "from scipy import sparse\n",
    "\n",
    "\n",
    "X_1, X_test, y_1, y_test = cross_validation.train_test_split(preprocessed_reviews, final['Score'], test_size=0.33, random_state=0)\n",
    "X_tr, X_cv, y_tr, y_cv = cross_validation.train_test_split(X_1, y_1, test_size=0.33)\n",
    "\n",
    "\n",
    "#function to return length of review\n",
    "def review_len(review):\n",
    "    reviews_len =[]\n",
    "    for sent in review:\n",
    "        reviews_len.append(len(sent.split()))\n",
    "    return np.array(reviews_len)\n",
    "\n",
    "print(y_test.value_counts())\n",
    "\n",
    "w2v_model = w2v_fit(X_tr)\n",
    "#count_vect = CountVectorizer(ngram_range=(1,2)) \n",
    "\n",
    "##--- new feature - Corresponding Review length was added to the test, train and cv vectors seperately\n",
    "test_vect = avg_w2v_transform(w2v_model,X_test)\n",
    "#len_arr = review_len(X_test)\n",
    "#https://stackoverflow.com/questions/41937786/add-column-to-a-sparse-matrix\n",
    "#print(test_vect.shape)\n",
    "print(test_vect)\n",
    "#test_vect = sparse.hstack((test_vect,len_arr[:,None])).A\n",
    "\n",
    "cv_vect = avg_w2v_transform(w2v_model,X_cv)\n",
    "#len_arr = review_len(X_cv)\n",
    "#https://stackoverflow.com/questions/41937786/add-column-to-a-sparse-matrix\n",
    "#cv_vect = sparse.hstack((cv_vect,len_arr[:,None])).A\n",
    "\n",
    "train_vect = avg_w2v_transform(w2v_model,X_tr)\n",
    "#len_arr = review_len(X_tr)\n",
    "#https://stackoverflow.com/questions/41937786/add-column-to-a-sparse-matrix\n",
    "#train_vect = sparse.hstack((train_vect,len_arr[:,None])).A"
   ]
  },
  {
   "cell_type": "code",
   "execution_count": 82,
   "metadata": {},
   "outputs": [
    {
     "name": "stderr",
     "output_type": "stream",
     "text": [
      "100%|██████████| 8/8 [04:52<00:00, 49.64s/it]\n"
     ]
    }
   ],
   "source": [
    "train_auc = []\n",
    "cv_auc = []\n",
    "alpha_values = [0.0001,0.001,0.01,0.1,1,10,100,1000]\n",
    "#K_values = [1].append(K_values)\n",
    "for i in tqdm(alpha_values):\n",
    "    svm = SVC(C=i,kernel='rbf',probability=True)\n",
    "    svm.fit(train_vect, y_tr)\n",
    "    #https://scikit-learn.org/stable/modules/generated/sklearn.neighbors.KNeighborsClassifier.html\n",
    "    cv_pred = svm.predict_proba(cv_vect)\n",
    "    cv_pred = cv_pred[:,1]\n",
    "    train_pred = svm.predict_proba(train_vect)\n",
    "    #train_pred = train_pred[:].max(axis=1)\n",
    "    train_pred = train_pred[:,1]\n",
    "    #print(train_pred,\"------\",cv_pred)\n",
    "    #https://scikit-learn.org/stable/modules/generated/sklearn.metrics.roc_auc_score.html#sklearn.metrics.roc_auc_score\n",
    "    train_auc.append(roc_auc_score(y_tr,train_pred))\n",
    "    cv_auc.append(roc_auc_score(y_cv,cv_pred))\n",
    "    \n",
    "\n",
    "    "
   ]
  },
  {
   "cell_type": "code",
   "execution_count": 83,
   "metadata": {},
   "outputs": [
    {
     "data": {
      "image/png": "[encoded data removed]",
      "text/plain": [
       "<Figure size 432x288 with 1 Axes>"
      ]
     },
     "metadata": {},
     "output_type": "display_data"
    },
    {
     "name": "stdout",
     "output_type": "stream",
     "text": [
      "Best c-Value 100\n"
     ]
    }
   ],
   "source": [
    "plt.plot(np.log10(alpha_values), train_auc, label='Train AUC')\n",
    "plt.plot(np.log10(alpha_values), cv_auc, label='CV AUC')\n",
    "plt.xlabel('alpha-value')\n",
    "plt.ylabel('ROC_AUC_SCORE')\n",
    "plt.legend()\n",
    "plt.show()  \n",
    "print(\"Best c-Value\", alpha_values[cv_auc.index(max(cv_auc))])"
   ]
  },
  {
   "cell_type": "code",
   "execution_count": 84,
   "metadata": {},
   "outputs": [
    {
     "name": "stdout",
     "output_type": "stream",
     "text": [
      "test_auc 0.8409247062745409\n"
     ]
    },
    {
     "data": {
      "image/png": "[encoded data removed]",
      "text/plain": [
       "<Figure size 432x288 with 1 Axes>"
      ]
     },
     "metadata": {},
     "output_type": "display_data"
    }
   ],
   "source": [
    "best_svm = SVC(C=alpha_values[cv_auc.index(max(cv_auc))],kernel='rbf',probability=True)\n",
    "best_svm.fit(train_vect, y_tr)\n",
    "\n",
    "#https://scikit-learn.org/stable/modules/generated/sklearn.metrics.roc_curve.html\n",
    "train_pred = best_svm.predict_proba(train_vect)\n",
    "train_pred = train_pred[:,1]\n",
    "#print(np.unique(train_pred))\n",
    "tr_fpr, tr_tpr, tr_thresh = roc_curve(y_tr, train_pred)\n",
    "\n",
    "#https://scikit-learn.org/stable/modules/generated/sklearn.metrics.roc_curve.html\n",
    "test_pred = best_svm.predict_proba(test_vect)\n",
    "test_pred = test_pred[:,1]\n",
    "#print(np.unique(test_pred))\n",
    "test_fpr, test_tpr, test_thresh = roc_curve(y_test, test_pred)\n",
    "auc_w2v_r = auc(test_fpr,test_tpr)\n",
    "print(\"test_auc\",auc_w2v_r)\n",
    "plt.plot(tr_fpr, tr_tpr, label=\"Train ROC\")\n",
    "plt.plot(test_fpr, test_tpr, label=\"Test ROC\")\n",
    "plt.plot(tr_fpr, tr_tpr, label=\"train AUC =\"+str(auc(tr_fpr, tr_tpr)))\n",
    "plt.plot(test_fpr, test_tpr, label=\"test AUC =\"+str(auc(test_fpr, test_tpr)))\n",
    "plt.xlabel(\"FPR\")\n",
    "plt.ylabel(\"TPR\")\n",
    "plt.title(\"ROC CURVE\")\n",
    "plt.legend()\n",
    "plt.show()"
   ]
  },
  {
   "cell_type": "code",
   "execution_count": 85,
   "metadata": {},
   "outputs": [
    {
     "name": "stdout",
     "output_type": "stream",
     "text": [
      "Confusion Matrix \n",
      "\n",
      "[[ 365 1111]\n",
      " [ 212 7576]]\n",
      "Test accuracy :  0.8571891191709845\n"
     ]
    }
   ],
   "source": [
    "from sklearn.metrics import confusion_matrix\n",
    "test_pred_class = best_svm.predict(test_vect)\n",
    "#a = np.unique(test_pred_class)\n",
    "#print(a)\n",
    "#print(test_vect.shape)\n",
    "#print(test_pred_class.shape)\n",
    "print(\"Confusion Matrix \\n\")\n",
    "\n",
    "C = confusion_matrix(y_test,test_pred_class)\n",
    "print(C)\n",
    "\n",
    "accuracy_w2v_r = best_svm.score(test_vect, y_test)\n",
    "print(\"Test accuracy : \",accuracy_w2v_r)\n",
    "#A =((C)/(C.sum(axis=1)))\n",
    "#B =(C/C.sum(axis=0))"
   ]
  },
  {
   "cell_type": "code",
   "execution_count": 86,
   "metadata": {},
   "outputs": [],
   "source": [
    "# Please write all the code with proper documentation"
   ]
  },
  {
   "cell_type": "markdown",
   "metadata": {},
   "source": [
    "### [5.2.4]  Applying RBF SVM on TFIDF W2V,<font color='red'> SET 4</font>"
   ]
  },
  {
   "cell_type": "code",
   "execution_count": 87,
   "metadata": {},
   "outputs": [
    {
     "name": "stdout",
     "output_type": "stream",
     "text": [
      "1    7788\n",
      "0    1476\n",
      "Name: Score, dtype: int64\n"
     ]
    },
    {
     "name": "stderr",
     "output_type": "stream",
     "text": [
      "  0%|          | 15/9264 [00:00<01:09, 133.80it/s]"
     ]
    },
    {
     "name": "stdout",
     "output_type": "stream",
     "text": [
      "[('excellent', 0.8071097135543823), ('good', 0.802000105381012), ('awesome', 0.7496376037597656), ('wonderful', 0.7250949740409851), ('fantastic', 0.7055032253265381), ('amazing', 0.6993367671966553), ('theatre', 0.6801465749740601), ('super', 0.6787183284759521), ('makes', 0.6695502400398254), ('theater', 0.6674681305885315)]\n",
      "==================================================\n",
      "[('hooked', 0.968199610710144), ('world', 0.9625104069709778), ('writes', 0.9496701955795288), ('closest', 0.9452397227287292), ('british', 0.9422691464424133), ('ka', 0.9391700625419617), ('wife', 0.9387003183364868), ('absolute', 0.9384856820106506), ('pleasure', 0.9380527138710022), ('visiting', 0.9376016855239868)]\n"
     ]
    },
    {
     "name": "stderr",
     "output_type": "stream",
     "text": [
      "100%|██████████| 9264/9264 [00:51<00:00, 180.87it/s]\n",
      "100%|██████████| 6207/6207 [00:34<00:00, 182.46it/s]\n",
      "100%|██████████| 12601/12601 [01:17<00:00, 163.10it/s]\n"
     ]
    }
   ],
   "source": [
    "# Please write all the code with proper documentation\n",
    "\n",
    "from sklearn.cross_validation import train_test_split\n",
    "from sklearn.naive_bayes import MultinomialNB\n",
    "from sklearn.metrics import roc_auc_score\n",
    "from sklearn.cross_validation import cross_val_score\n",
    "from sklearn import cross_validation\n",
    "from scipy import sparse\n",
    "\n",
    "\n",
    "X_1, X_test, y_1, y_test = cross_validation.train_test_split(preprocessed_reviews, final['Score'], test_size=0.33, random_state=0)\n",
    "X_tr, X_cv, y_tr, y_cv = cross_validation.train_test_split(X_1, y_1, test_size=0.33)\n",
    "\n",
    "\n",
    "#function to return length of review\n",
    "def review_len(review):\n",
    "    reviews_len =[]\n",
    "    for sent in review:\n",
    "        reviews_len.append(len(sent.split()))\n",
    "    return np.array(reviews_len)\n",
    "\n",
    "print(y_test.value_counts())\n",
    "\n",
    "model = TfidfVectorizer()\n",
    "model.fit(X_tr)\n",
    "w2v_model = w2v_fit(X_tr)\n",
    "\n",
    "#count_vect = CountVectorizer(ngram_range=(1,2)) \n",
    "\n",
    "##--- new feature - Corresponding Review length was added to the test, train and cv vectors seperately\n",
    "test_vect = tf_idf_transform(model,w2v_model,X_test)\n",
    "#len_arr = review_len(X_test)\n",
    "#https://stackoverflow.com/questions/41937786/add-column-to-a-sparse-matrix\n",
    "#test_vect = sparse.hstack((test_vect,len_arr[:,None])).A\n",
    "\n",
    "cv_vect = tf_idf_transform(model,w2v_model,X_cv)\n",
    "#len_arr = review_len(X_cv)\n",
    "#https://stackoverflow.com/questions/41937786/add-column-to-a-sparse-matrix\n",
    "#cv_vect = sparse.hstack((cv_vect,len_arr[:,None])).A\n",
    "\n",
    "train_vect = tf_idf_transform(model,w2v_model,X_tr)\n",
    "#len_arr = review_len(X_tr)\n",
    "#https://stackoverflow.com/questions/41937786/add-column-to-a-sparse-matrix\n",
    "#train_vect = sparse.hstack((train_vect,len_arr[:,None])).A"
   ]
  },
  {
   "cell_type": "code",
   "execution_count": 88,
   "metadata": {},
   "outputs": [
    {
     "name": "stderr",
     "output_type": "stream",
     "text": [
      "100%|██████████| 8/8 [04:27<00:00, 40.86s/it]\n"
     ]
    }
   ],
   "source": [
    "train_auc = []\n",
    "cv_auc = []\n",
    "alpha_values = [0.0001,0.001,0.01,0.1,1,10,100,1000]\n",
    "#K_values = [1].append(K_values)\n",
    "for i in tqdm(alpha_values):\n",
    "    svm = SVC(C=i,kernel='rbf',probability=True)\n",
    "    svm.fit(train_vect, y_tr)\n",
    "    #https://scikit-learn.org/stable/modules/generated/sklearn.neighbors.KNeighborsClassifier.html\n",
    "    cv_pred = svm.predict_proba(cv_vect)\n",
    "    cv_pred = cv_pred[:,1]\n",
    "    train_pred = svm.predict_proba(train_vect)\n",
    "    #train_pred = train_pred[:].max(axis=1)\n",
    "    train_pred = train_pred[:,1]\n",
    "    #print(train_pred,\"------\",cv_pred)\n",
    "    #https://scikit-learn.org/stable/modules/generated/sklearn.metrics.roc_auc_score.html#sklearn.metrics.roc_auc_score\n",
    "    train_auc.append(roc_auc_score(y_tr,train_pred))\n",
    "    cv_auc.append(roc_auc_score(y_cv,cv_pred))\n",
    "    \n",
    "\n",
    "    "
   ]
  },
  {
   "cell_type": "code",
   "execution_count": 89,
   "metadata": {},
   "outputs": [
    {
     "data": {
      "image/png": "[encoded data removed]",
      "text/plain": [
       "<Figure size 432x288 with 1 Axes>"
      ]
     },
     "metadata": {},
     "output_type": "display_data"
    },
    {
     "name": "stdout",
     "output_type": "stream",
     "text": [
      "Best c-Value 1000\n"
     ]
    }
   ],
   "source": [
    "plt.plot(np.log10(alpha_values), train_auc, label='Train AUC')\n",
    "plt.plot(np.log10(alpha_values), cv_auc, label='CV AUC')\n",
    "plt.xlabel('alpha-value')\n",
    "plt.ylabel('ROC_AUC_SCORE')\n",
    "plt.legend()\n",
    "plt.show()  \n",
    "print(\"Best c-Value\", alpha_values[cv_auc.index(max(cv_auc))])"
   ]
  },
  {
   "cell_type": "code",
   "execution_count": 90,
   "metadata": {},
   "outputs": [
    {
     "name": "stdout",
     "output_type": "stream",
     "text": [
      "test_auc 0.8496673535687591\n"
     ]
    },
    {
     "data": {
      "image/png": "[encoded data removed]",
      "text/plain": [
       "<Figure size 432x288 with 1 Axes>"
      ]
     },
     "metadata": {},
     "output_type": "display_data"
    }
   ],
   "source": [
    "best_svm = SVC(C=alpha_values[cv_auc.index(max(cv_auc))],kernel='rbf',probability=True)\n",
    "best_svm.fit(train_vect, y_tr)\n",
    "\n",
    "#https://scikit-learn.org/stable/modules/generated/sklearn.metrics.roc_curve.html\n",
    "train_pred = best_svm.predict_proba(train_vect)\n",
    "train_pred = train_pred[:,1]\n",
    "#print(np.unique(train_pred))\n",
    "tr_fpr, tr_tpr, tr_thresh = roc_curve(y_tr, train_pred)\n",
    "\n",
    "#https://scikit-learn.org/stable/modules/generated/sklearn.metrics.roc_curve.html\n",
    "test_pred = best_svm.predict_proba(test_vect)\n",
    "test_pred = test_pred[:,1]\n",
    "#print(np.unique(test_pred))\n",
    "test_fpr, test_tpr, test_thresh = roc_curve(y_test, test_pred)\n",
    "auc_tfid_w2v_r = auc(test_fpr,test_tpr)\n",
    "print(\"test_auc\",auc_tfid_w2v_r)\n",
    "plt.plot(tr_fpr, tr_tpr, label=\"Train ROC\")\n",
    "plt.plot(test_fpr, test_tpr, label=\"Test ROC\")\n",
    "plt.plot(tr_fpr, tr_tpr, label=\"train AUC =\"+str(auc(tr_fpr, tr_tpr)))\n",
    "plt.plot(test_fpr, test_tpr, label=\"test AUC =\"+str(auc(test_fpr, test_tpr)))\n",
    "plt.xlabel(\"FPR\")\n",
    "plt.ylabel(\"TPR\")\n",
    "plt.title(\"ROC CURVE\")\n",
    "plt.legend()\n",
    "plt.show()"
   ]
  },
  {
   "cell_type": "code",
   "execution_count": 91,
   "metadata": {},
   "outputs": [
    {
     "name": "stdout",
     "output_type": "stream",
     "text": [
      "Confusion Matrix \n",
      "\n",
      "[[ 291 1185]\n",
      " [ 115 7673]]\n",
      "Test accuracy :  0.8596718480138169\n"
     ]
    }
   ],
   "source": [
    "from sklearn.metrics import confusion_matrix\n",
    "test_pred_class = best_svm.predict(test_vect)\n",
    "#a = np.unique(test_pred_class)\n",
    "#print(a)\n",
    "#print(test_vect.shape)\n",
    "#print(test_pred_class.shape)\n",
    "print(\"Confusion Matrix \\n\")\n",
    "\n",
    "C = confusion_matrix(y_test,test_pred_class)\n",
    "print(C)\n",
    "\n",
    "accuracy_tfid_w2v_r = best_svm.score(test_vect, y_test)\n",
    "print(\"Test accuracy : \",accuracy_tfid_w2v_r)\n",
    "#A =((C)/(C.sum(axis=1)))\n",
    "#B =(C/C.sum(axis=0))"
   ]
  },
  {
   "cell_type": "markdown",
   "metadata": {},
   "source": [
    "# [6] Conclusions"
   ]
  },
  {
   "cell_type": "code",
   "execution_count": 95,
   "metadata": {},
   "outputs": [
    {
     "name": "stdout",
     "output_type": "stream",
     "text": [
      "+------------+------------+-------------+-------------------+--------------------+\n",
      "|   Model    | Vectoriser | alpha value |      Accuracy     |        AUC         |\n",
      "+------------+------------+-------------+-------------------+--------------------+\n",
      "| Linear SVM |    BOW     |      1      | 87.85324151033008 | 0.9030482577179524 |\n",
      "| Linear SVM |   TFIDF    |      1      |  87.6513892187129 | 0.9004888674474265 |\n",
      "| Linear SVM |   AVGW2V   |    0.001    | 84.03497409326425 | 0.6722951577230205 |\n",
      "| Linear SVM | TFIDF_W2V  |    0.001    | 85.44905008635578 | 0.8053144090762943 |\n",
      "|  RBF SVM   |    BOW     |      1      | 87.85324151033008 | 0.8864454468012151 |\n",
      "|  RBF SVM   |   TFIDF    |      10     |  87.6513892187129 | 0.898167060374461  |\n",
      "|  RBF SVM   |   AVGW2V   |     100     | 84.03497409326425 | 0.8409247062745409 |\n",
      "|  RBF SVM   | TFIDF_W2V  |     1000    | 85.44905008635578 | 0.8496673535687591 |\n",
      "+------------+------------+-------------+-------------------+--------------------+\n"
     ]
    }
   ],
   "source": [
    "# Please compare all your models using Prettytable library\n",
    "\n",
    "# Please compare all your models using Prettytable library\n",
    "\n",
    "from prettytable import PrettyTable\n",
    "\n",
    "## Prettytable reference: http://zetcode.com/python/prettytable/\n",
    "x = PrettyTable([\"Model\", \"Vectoriser\", \"alpha value\",\"Accuracy\", \"AUC\"])\n",
    "\n",
    "x.add_row([\"Linear SVM\",\"BOW\",1,accuracy_bow_l*100, auc_bow_l])\n",
    "x.add_row([\"Linear SVM\",\"TFIDF\",1, accuracy_tfid_l*100, auc_tfid_l])\n",
    "x.add_row([\"Linear SVM\",\"AVGW2V\",0.001, accuracy_w2v_l*100, auc_w2v_l])\n",
    "x.add_row([\"Linear SVM\",\"TFIDF_W2V\",0.001, accuracy_tfid_w2v_l*100, auc_tfid_w2v_l])\n",
    "x.add_row([\"RBF SVM\",\"BOW\",1,accuracy_bow_l*100, auc_bow_r])\n",
    "x.add_row([\"RBF SVM\",\"TFIDF\",10,accuracy_tfid_l*100, auc_tfid_r])\n",
    "x.add_row([\"RBF SVM\",\"AVGW2V\",100,accuracy_w2v_l*100, auc_w2v_r])\n",
    "x.add_row([\"RBF SVM\",\"TFIDF_W2V\",1000, accuracy_tfid_w2v_l*100, auc_tfid_w2v_r])\n",
    "\n",
    "print(x.get_string())"
   ]
  },
  {
   "cell_type": "markdown",
   "metadata": {},
   "source": [
    "Summary :\n",
    "\n",
    "Amazon food review classification was done with SVM classifier with BOW,TFIDF,AVGW2V and TFIDFW2V vectorizers.\n",
    "\n",
    "1. Text preprocessing was done on the reviews column of the dataset.\n",
    "2. Also new feature - Review length was added and analyzed.\n",
    "4. For RBFSVM, the min_df was set to 5 thereby discarding all the words with frequency lessthan 5, also the max features was set to 500.\n",
    "5. The top 10 important features of positive and negative classes were found for BOW and TFIDF vectorizers.\n",
    "6. The accuracies of the model in different cases were tabulated. "
   ]
  }
 ],
 "metadata": {
  "kernelspec": {
   "display_name": "Python 3",
   "language": "python",
   "name": "python3"
  },
  "language_info": {
   "codemirror_mode": {
    "name": "ipython",
    "version": 3
   },
   "file_extension": ".py",
   "mimetype": "text/x-python",
   "name": "python",
   "nbconvert_exporter": "python",
   "pygments_lexer": "ipython3",
   "version": "3.6.5"
  }
 },
 "nbformat": 4,
 "nbformat_minor": 2
}
