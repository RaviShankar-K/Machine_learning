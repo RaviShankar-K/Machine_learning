{
 "cells": [
  {
   "cell_type": "markdown",
   "metadata": {
    "colab_type": "text",
    "id": "4UPJU7FIDYHb"
   },
   "source": [
    "# Amazon Fine Food Reviews Analysis\n",
    "\n",
    "\n",
    "Data Source: https://www.kaggle.com/snap/amazon-fine-food-reviews <br>\n",
    "\n",
    "EDA: https://nycdatascience.com/blog/student-works/amazon-fine-foods-visualization/\n",
    "\n",
    "\n",
    "The Amazon Fine Food Reviews dataset consists of reviews of fine foods from Amazon.<br>\n",
    "\n",
    "Number of reviews: 568,454<br>\n",
    "Number of users: 256,059<br>\n",
    "Number of products: 74,258<br>\n",
    "Timespan: Oct 1999 - Oct 2012<br>\n",
    "Number of Attributes/Columns in data: 10 \n",
    "\n",
    "Attribute Information:\n",
    "\n",
    "1. Id\n",
    "2. ProductId - unique identifier for the product\n",
    "3. UserId - unqiue identifier for the user\n",
    "4. ProfileName\n",
    "5. HelpfulnessNumerator - number of users who found the review helpful\n",
    "6. HelpfulnessDenominator - number of users who indicated whether they found the review helpful or not\n",
    "7. Score - rating between 1 and 5\n",
    "8. Time - timestamp for the review\n",
    "9. Summary - brief summary of the review\n",
    "10. Text - text of the review\n",
    "\n",
    "\n",
    "#### Objective:\n",
    "Given a review, determine whether the review is positive (rating of 4 or 5) or negative (rating of 1 or 2).\n",
    "\n",
    "<br>\n",
    "[Q] How to determine if a review is positive or negative?<br>\n",
    "<br> \n",
    "[Ans] We could use Score/Rating. A rating of 4 or 5 can be cosnidered as a positive review. A rating of 1 or 2 can be considered as negative one. A review of rating 3 is considered nuetral and such reviews are ignored from our analysis. This is an approximate and proxy way of determining the polarity (positivity/negativity) of a review.\n",
    "\n",
    "\n"
   ]
  },
  {
   "cell_type": "markdown",
   "metadata": {
    "colab_type": "text",
    "id": "Iac3VjZcDYHf"
   },
   "source": [
    "# [1]. Reading Data"
   ]
  },
  {
   "cell_type": "markdown",
   "metadata": {
    "colab_type": "text",
    "id": "wEsMRzNDDYHi"
   },
   "source": [
    "## [1.1] Loading the data\n",
    "\n",
    "The dataset is available in two forms\n",
    "1. .csv file\n",
    "2. SQLite Database\n",
    "\n",
    "In order to load the data, We have used the SQLITE dataset as it is easier to query the data and visualise the data efficiently.\n",
    "<br> \n",
    "\n",
    "Here as we only want to get the global sentiment of the recommendations (positive or negative), we will purposefully ignore all Scores equal to 3. If the score is above 3, then the recommendation wil be set to \"positive\". Otherwise, it will be set to \"negative\"."
   ]
  },
  {
   "cell_type": "code",
   "execution_count": 1,
   "metadata": {
    "colab": {},
    "colab_type": "code",
    "id": "ADl9geUvDYHl"
   },
   "outputs": [],
   "source": [
    "%matplotlib inline\n",
    "import warnings\n",
    "warnings.filterwarnings(\"ignore\")\n",
    "\n",
    "\n",
    "import sqlite3\n",
    "import pandas as pd\n",
    "import numpy as np\n",
    "import nltk\n",
    "import string\n",
    "import matplotlib.pyplot as plt\n",
    "import seaborn as sns\n",
    "from sklearn.feature_extraction.text import TfidfTransformer\n",
    "from sklearn.feature_extraction.text import TfidfVectorizer\n",
    "\n",
    "from sklearn.feature_extraction.text import CountVectorizer\n",
    "from sklearn.metrics import confusion_matrix\n",
    "from sklearn import metrics\n",
    "from sklearn.metrics import roc_curve, auc\n",
    "from nltk.stem.porter import PorterStemmer\n",
    "\n",
    "import re\n",
    "# Tutorial about Python regular expressions: https://pymotw.com/2/re/\n",
    "import string\n",
    "from nltk.corpus import stopwords\n",
    "from nltk.stem import PorterStemmer\n",
    "from nltk.stem.wordnet import WordNetLemmatizer\n",
    "\n",
    "from gensim.models import Word2Vec\n",
    "from gensim.models import KeyedVectors\n",
    "import pickle\n",
    "\n",
    "from tqdm import tqdm\n",
    "import os"
   ]
  },
  {
   "cell_type": "code",
   "execution_count": 2,
   "metadata": {
    "colab": {},
    "colab_type": "code",
    "id": "9pO69buUDYHz",
    "outputId": "00371235-7840-4a31-be63-4945d6cbbb2e"
   },
   "outputs": [
    {
     "name": "stdout",
     "output_type": "stream",
     "text": [
      "Number of data points in our data (100000, 10)\n",
      "1    83876\n",
      "0    16124\n",
      "Name: Score, dtype: int64\n"
     ]
    },
    {
     "data": {
      "text/html": [
       "<div>\n",
       "<style scoped>\n",
       "    .dataframe tbody tr th:only-of-type {\n",
       "        vertical-align: middle;\n",
       "    }\n",
       "\n",
       "    .dataframe tbody tr th {\n",
       "        vertical-align: top;\n",
       "    }\n",
       "\n",
       "    .dataframe thead th {\n",
       "        text-align: right;\n",
       "    }\n",
       "</style>\n",
       "<table border=\"1\" class=\"dataframe\">\n",
       "  <thead>\n",
       "    <tr style=\"text-align: right;\">\n",
       "      <th></th>\n",
       "      <th>Id</th>\n",
       "      <th>ProductId</th>\n",
       "      <th>UserId</th>\n",
       "      <th>ProfileName</th>\n",
       "      <th>HelpfulnessNumerator</th>\n",
       "      <th>HelpfulnessDenominator</th>\n",
       "      <th>Score</th>\n",
       "      <th>Time</th>\n",
       "      <th>Summary</th>\n",
       "      <th>Text</th>\n",
       "    </tr>\n",
       "  </thead>\n",
       "  <tbody>\n",
       "    <tr>\n",
       "      <th>0</th>\n",
       "      <td>1</td>\n",
       "      <td>B001E4KFG0</td>\n",
       "      <td>A3SGXH7AUHU8GW</td>\n",
       "      <td>delmartian</td>\n",
       "      <td>1</td>\n",
       "      <td>1</td>\n",
       "      <td>1</td>\n",
       "      <td>1303862400</td>\n",
       "      <td>Good Quality Dog Food</td>\n",
       "      <td>I have bought several of the Vitality canned d...</td>\n",
       "    </tr>\n",
       "    <tr>\n",
       "      <th>1</th>\n",
       "      <td>2</td>\n",
       "      <td>B00813GRG4</td>\n",
       "      <td>A1D87F6ZCVE5NK</td>\n",
       "      <td>dll pa</td>\n",
       "      <td>0</td>\n",
       "      <td>0</td>\n",
       "      <td>0</td>\n",
       "      <td>1346976000</td>\n",
       "      <td>Not as Advertised</td>\n",
       "      <td>Product arrived labeled as Jumbo Salted Peanut...</td>\n",
       "    </tr>\n",
       "    <tr>\n",
       "      <th>2</th>\n",
       "      <td>3</td>\n",
       "      <td>B000LQOCH0</td>\n",
       "      <td>ABXLMWJIXXAIN</td>\n",
       "      <td>Natalia Corres \"Natalia Corres\"</td>\n",
       "      <td>1</td>\n",
       "      <td>1</td>\n",
       "      <td>1</td>\n",
       "      <td>1219017600</td>\n",
       "      <td>\"Delight\" says it all</td>\n",
       "      <td>This is a confection that has been around a fe...</td>\n",
       "    </tr>\n",
       "  </tbody>\n",
       "</table>\n",
       "</div>"
      ],
      "text/plain": [
       "   Id   ProductId          UserId                      ProfileName  \\\n",
       "0   1  B001E4KFG0  A3SGXH7AUHU8GW                       delmartian   \n",
       "1   2  B00813GRG4  A1D87F6ZCVE5NK                           dll pa   \n",
       "2   3  B000LQOCH0   ABXLMWJIXXAIN  Natalia Corres \"Natalia Corres\"   \n",
       "\n",
       "   HelpfulnessNumerator  HelpfulnessDenominator  Score        Time  \\\n",
       "0                     1                       1      1  1303862400   \n",
       "1                     0                       0      0  1346976000   \n",
       "2                     1                       1      1  1219017600   \n",
       "\n",
       "                 Summary                                               Text  \n",
       "0  Good Quality Dog Food  I have bought several of the Vitality canned d...  \n",
       "1      Not as Advertised  Product arrived labeled as Jumbo Salted Peanut...  \n",
       "2  \"Delight\" says it all  This is a confection that has been around a fe...  "
      ]
     },
     "execution_count": 2,
     "metadata": {},
     "output_type": "execute_result"
    }
   ],
   "source": [
    "# using SQLite Table to read data.\n",
    "con = sqlite3.connect('database.sqlite') \n",
    "\n",
    "# filtering only positive and negative reviews i.e. \n",
    "# not taking into consideration those reviews with Score=3\n",
    "# SELECT * FROM Reviews WHERE Score != 3 LIMIT 500000, will give top 500000 data points\n",
    "# you can change the number to any other number based on your computing power\n",
    "\n",
    "# filtered_data = pd.read_sql_query(\"\"\" SELECT * FROM Reviews WHERE Score != 3 LIMIT 500000\"\"\", con) \n",
    "# for tsne assignment you can take 5k data points\n",
    "\n",
    "filtered_data = pd.read_sql_query(\"\"\" SELECT * FROM Reviews WHERE Score != 3 LIMIT 100000\"\"\", con) \n",
    "\n",
    "# Give reviews with Score>3 a positive rating(1), and reviews with a score<3 a negative rating(0).\n",
    "def partition(x):\n",
    "    if x < 3:\n",
    "        return 0\n",
    "    return 1\n",
    "\n",
    "#changing reviews with score less than 3 to be positive and vice-versa\n",
    "actualScore = filtered_data['Score']\n",
    "positiveNegative = actualScore.map(partition) \n",
    "filtered_data['Score'] = positiveNegative\n",
    "print(\"Number of data points in our data\", filtered_data.shape)\n",
    "print(filtered_data['Score'].value_counts())\n",
    "filtered_data.head(3)\n"
   ]
  },
  {
   "cell_type": "code",
   "execution_count": 3,
   "metadata": {},
   "outputs": [
    {
     "name": "stdout",
     "output_type": "stream",
     "text": [
      "1    83876\n",
      "0    16124\n",
      "Name: Score, dtype: int64\n"
     ]
    }
   ],
   "source": [
    "print(filtered_data['Score'].value_counts())\n"
   ]
  },
  {
   "cell_type": "code",
   "execution_count": 4,
   "metadata": {
    "colab": {},
    "colab_type": "code",
    "id": "bDrGXaolDYIH"
   },
   "outputs": [],
   "source": [
    "display = pd.read_sql_query(\"\"\"\n",
    "SELECT UserId, ProductId, ProfileName, Time, Score, Text, COUNT(*)\n",
    "FROM Reviews\n",
    "GROUP BY UserId\n",
    "HAVING COUNT(*)>1\n",
    "\"\"\", con)"
   ]
  },
  {
   "cell_type": "code",
   "execution_count": 5,
   "metadata": {
    "colab": {},
    "colab_type": "code",
    "id": "Jj-M3g0FDYIj",
    "outputId": "2c700ad5-02ad-4f43-a532-fb847609043e",
    "scrolled": true
   },
   "outputs": [
    {
     "name": "stdout",
     "output_type": "stream",
     "text": [
      "(80668, 7)\n"
     ]
    },
    {
     "data": {
      "text/html": [
       "<div>\n",
       "<style scoped>\n",
       "    .dataframe tbody tr th:only-of-type {\n",
       "        vertical-align: middle;\n",
       "    }\n",
       "\n",
       "    .dataframe tbody tr th {\n",
       "        vertical-align: top;\n",
       "    }\n",
       "\n",
       "    .dataframe thead th {\n",
       "        text-align: right;\n",
       "    }\n",
       "</style>\n",
       "<table border=\"1\" class=\"dataframe\">\n",
       "  <thead>\n",
       "    <tr style=\"text-align: right;\">\n",
       "      <th></th>\n",
       "      <th>UserId</th>\n",
       "      <th>ProductId</th>\n",
       "      <th>ProfileName</th>\n",
       "      <th>Time</th>\n",
       "      <th>Score</th>\n",
       "      <th>Text</th>\n",
       "      <th>COUNT(*)</th>\n",
       "    </tr>\n",
       "  </thead>\n",
       "  <tbody>\n",
       "    <tr>\n",
       "      <th>0</th>\n",
       "      <td>#oc-R115TNMSPFT9I7</td>\n",
       "      <td>B007Y59HVM</td>\n",
       "      <td>Breyton</td>\n",
       "      <td>1331510400</td>\n",
       "      <td>2</td>\n",
       "      <td>Overall its just OK when considering the price...</td>\n",
       "      <td>2</td>\n",
       "    </tr>\n",
       "    <tr>\n",
       "      <th>1</th>\n",
       "      <td>#oc-R11D9D7SHXIJB9</td>\n",
       "      <td>B005HG9ET0</td>\n",
       "      <td>Louis E. Emory \"hoppy\"</td>\n",
       "      <td>1342396800</td>\n",
       "      <td>5</td>\n",
       "      <td>My wife has recurring extreme muscle spasms, u...</td>\n",
       "      <td>3</td>\n",
       "    </tr>\n",
       "    <tr>\n",
       "      <th>2</th>\n",
       "      <td>#oc-R11DNU2NBKQ23Z</td>\n",
       "      <td>B007Y59HVM</td>\n",
       "      <td>Kim Cieszykowski</td>\n",
       "      <td>1348531200</td>\n",
       "      <td>1</td>\n",
       "      <td>This coffee is horrible and unfortunately not ...</td>\n",
       "      <td>2</td>\n",
       "    </tr>\n",
       "    <tr>\n",
       "      <th>3</th>\n",
       "      <td>#oc-R11O5J5ZVQE25C</td>\n",
       "      <td>B005HG9ET0</td>\n",
       "      <td>Penguin Chick</td>\n",
       "      <td>1346889600</td>\n",
       "      <td>5</td>\n",
       "      <td>This will be the bottle that you grab from the...</td>\n",
       "      <td>3</td>\n",
       "    </tr>\n",
       "    <tr>\n",
       "      <th>4</th>\n",
       "      <td>#oc-R12KPBODL2B5ZD</td>\n",
       "      <td>B007OSBE1U</td>\n",
       "      <td>Christopher P. Presta</td>\n",
       "      <td>1348617600</td>\n",
       "      <td>1</td>\n",
       "      <td>I didnt like this coffee. Instead of telling y...</td>\n",
       "      <td>2</td>\n",
       "    </tr>\n",
       "  </tbody>\n",
       "</table>\n",
       "</div>"
      ],
      "text/plain": [
       "               UserId   ProductId             ProfileName        Time  Score  \\\n",
       "0  #oc-R115TNMSPFT9I7  B007Y59HVM                 Breyton  1331510400      2   \n",
       "1  #oc-R11D9D7SHXIJB9  B005HG9ET0  Louis E. Emory \"hoppy\"  1342396800      5   \n",
       "2  #oc-R11DNU2NBKQ23Z  B007Y59HVM        Kim Cieszykowski  1348531200      1   \n",
       "3  #oc-R11O5J5ZVQE25C  B005HG9ET0           Penguin Chick  1346889600      5   \n",
       "4  #oc-R12KPBODL2B5ZD  B007OSBE1U   Christopher P. Presta  1348617600      1   \n",
       "\n",
       "                                                Text  COUNT(*)  \n",
       "0  Overall its just OK when considering the price...         2  \n",
       "1  My wife has recurring extreme muscle spasms, u...         3  \n",
       "2  This coffee is horrible and unfortunately not ...         2  \n",
       "3  This will be the bottle that you grab from the...         3  \n",
       "4  I didnt like this coffee. Instead of telling y...         2  "
      ]
     },
     "execution_count": 5,
     "metadata": {},
     "output_type": "execute_result"
    }
   ],
   "source": [
    "print(display.shape)\n",
    "display.head()"
   ]
  },
  {
   "cell_type": "code",
   "execution_count": 6,
   "metadata": {
    "colab": {},
    "colab_type": "code",
    "id": "eAG-AQpWDYIx",
    "outputId": "889e7973-47ab-423b-fd10-ee5058498ad0"
   },
   "outputs": [
    {
     "data": {
      "text/html": [
       "<div>\n",
       "<style scoped>\n",
       "    .dataframe tbody tr th:only-of-type {\n",
       "        vertical-align: middle;\n",
       "    }\n",
       "\n",
       "    .dataframe tbody tr th {\n",
       "        vertical-align: top;\n",
       "    }\n",
       "\n",
       "    .dataframe thead th {\n",
       "        text-align: right;\n",
       "    }\n",
       "</style>\n",
       "<table border=\"1\" class=\"dataframe\">\n",
       "  <thead>\n",
       "    <tr style=\"text-align: right;\">\n",
       "      <th></th>\n",
       "      <th>UserId</th>\n",
       "      <th>ProductId</th>\n",
       "      <th>ProfileName</th>\n",
       "      <th>Time</th>\n",
       "      <th>Score</th>\n",
       "      <th>Text</th>\n",
       "      <th>COUNT(*)</th>\n",
       "    </tr>\n",
       "  </thead>\n",
       "  <tbody>\n",
       "    <tr>\n",
       "      <th>80638</th>\n",
       "      <td>AZY10LLTJ71NX</td>\n",
       "      <td>B006P7E5ZI</td>\n",
       "      <td>undertheshrine \"undertheshrine\"</td>\n",
       "      <td>1334707200</td>\n",
       "      <td>5</td>\n",
       "      <td>I was recommended to try green tea extract to ...</td>\n",
       "      <td>5</td>\n",
       "    </tr>\n",
       "  </tbody>\n",
       "</table>\n",
       "</div>"
      ],
      "text/plain": [
       "              UserId   ProductId                      ProfileName        Time  \\\n",
       "80638  AZY10LLTJ71NX  B006P7E5ZI  undertheshrine \"undertheshrine\"  1334707200   \n",
       "\n",
       "       Score                                               Text  COUNT(*)  \n",
       "80638      5  I was recommended to try green tea extract to ...         5  "
      ]
     },
     "execution_count": 6,
     "metadata": {},
     "output_type": "execute_result"
    }
   ],
   "source": [
    "display[display['UserId']=='AZY10LLTJ71NX']"
   ]
  },
  {
   "cell_type": "code",
   "execution_count": 7,
   "metadata": {
    "colab": {},
    "colab_type": "code",
    "id": "3qBpPZKaDYI7",
    "outputId": "375dd0be-186a-4b00-8594-06fb20ded08a"
   },
   "outputs": [
    {
     "data": {
      "text/plain": [
       "393063"
      ]
     },
     "execution_count": 7,
     "metadata": {},
     "output_type": "execute_result"
    }
   ],
   "source": [
    "display['COUNT(*)'].sum()"
   ]
  },
  {
   "cell_type": "markdown",
   "metadata": {
    "colab_type": "text",
    "id": "G1rTdPsqDYJI"
   },
   "source": [
    "#  [2] Exploratory Data Analysis"
   ]
  },
  {
   "cell_type": "markdown",
   "metadata": {
    "colab_type": "text",
    "id": "Wh5RH-NsDYJJ"
   },
   "source": [
    "## [2.1] Data Cleaning: Deduplication\n",
    "\n",
    "It is observed (as shown in the table below) that the reviews data had many duplicate entries. Hence it was necessary to remove duplicates in order to get unbiased results for the analysis of the data.  Following is an example:"
   ]
  },
  {
   "cell_type": "code",
   "execution_count": 8,
   "metadata": {
    "colab": {},
    "colab_type": "code",
    "id": "EUF69tvsDYJO",
    "outputId": "d08434a0-b58a-4d4a-db71-729bbb1539e5",
    "scrolled": false
   },
   "outputs": [
    {
     "data": {
      "text/html": [
       "<div>\n",
       "<style scoped>\n",
       "    .dataframe tbody tr th:only-of-type {\n",
       "        vertical-align: middle;\n",
       "    }\n",
       "\n",
       "    .dataframe tbody tr th {\n",
       "        vertical-align: top;\n",
       "    }\n",
       "\n",
       "    .dataframe thead th {\n",
       "        text-align: right;\n",
       "    }\n",
       "</style>\n",
       "<table border=\"1\" class=\"dataframe\">\n",
       "  <thead>\n",
       "    <tr style=\"text-align: right;\">\n",
       "      <th></th>\n",
       "      <th>Id</th>\n",
       "      <th>ProductId</th>\n",
       "      <th>UserId</th>\n",
       "      <th>ProfileName</th>\n",
       "      <th>HelpfulnessNumerator</th>\n",
       "      <th>HelpfulnessDenominator</th>\n",
       "      <th>Score</th>\n",
       "      <th>Time</th>\n",
       "      <th>Summary</th>\n",
       "      <th>Text</th>\n",
       "    </tr>\n",
       "  </thead>\n",
       "  <tbody>\n",
       "    <tr>\n",
       "      <th>0</th>\n",
       "      <td>78445</td>\n",
       "      <td>B000HDL1RQ</td>\n",
       "      <td>AR5J8UI46CURR</td>\n",
       "      <td>Geetha Krishnan</td>\n",
       "      <td>2</td>\n",
       "      <td>2</td>\n",
       "      <td>5</td>\n",
       "      <td>1199577600</td>\n",
       "      <td>LOACKER QUADRATINI VANILLA WAFERS</td>\n",
       "      <td>DELICIOUS WAFERS. I FIND THAT EUROPEAN WAFERS ...</td>\n",
       "    </tr>\n",
       "    <tr>\n",
       "      <th>1</th>\n",
       "      <td>138317</td>\n",
       "      <td>B000HDOPYC</td>\n",
       "      <td>AR5J8UI46CURR</td>\n",
       "      <td>Geetha Krishnan</td>\n",
       "      <td>2</td>\n",
       "      <td>2</td>\n",
       "      <td>5</td>\n",
       "      <td>1199577600</td>\n",
       "      <td>LOACKER QUADRATINI VANILLA WAFERS</td>\n",
       "      <td>DELICIOUS WAFERS. I FIND THAT EUROPEAN WAFERS ...</td>\n",
       "    </tr>\n",
       "    <tr>\n",
       "      <th>2</th>\n",
       "      <td>138277</td>\n",
       "      <td>B000HDOPYM</td>\n",
       "      <td>AR5J8UI46CURR</td>\n",
       "      <td>Geetha Krishnan</td>\n",
       "      <td>2</td>\n",
       "      <td>2</td>\n",
       "      <td>5</td>\n",
       "      <td>1199577600</td>\n",
       "      <td>LOACKER QUADRATINI VANILLA WAFERS</td>\n",
       "      <td>DELICIOUS WAFERS. I FIND THAT EUROPEAN WAFERS ...</td>\n",
       "    </tr>\n",
       "    <tr>\n",
       "      <th>3</th>\n",
       "      <td>73791</td>\n",
       "      <td>B000HDOPZG</td>\n",
       "      <td>AR5J8UI46CURR</td>\n",
       "      <td>Geetha Krishnan</td>\n",
       "      <td>2</td>\n",
       "      <td>2</td>\n",
       "      <td>5</td>\n",
       "      <td>1199577600</td>\n",
       "      <td>LOACKER QUADRATINI VANILLA WAFERS</td>\n",
       "      <td>DELICIOUS WAFERS. I FIND THAT EUROPEAN WAFERS ...</td>\n",
       "    </tr>\n",
       "    <tr>\n",
       "      <th>4</th>\n",
       "      <td>155049</td>\n",
       "      <td>B000PAQ75C</td>\n",
       "      <td>AR5J8UI46CURR</td>\n",
       "      <td>Geetha Krishnan</td>\n",
       "      <td>2</td>\n",
       "      <td>2</td>\n",
       "      <td>5</td>\n",
       "      <td>1199577600</td>\n",
       "      <td>LOACKER QUADRATINI VANILLA WAFERS</td>\n",
       "      <td>DELICIOUS WAFERS. I FIND THAT EUROPEAN WAFERS ...</td>\n",
       "    </tr>\n",
       "  </tbody>\n",
       "</table>\n",
       "</div>"
      ],
      "text/plain": [
       "       Id   ProductId         UserId      ProfileName  HelpfulnessNumerator  \\\n",
       "0   78445  B000HDL1RQ  AR5J8UI46CURR  Geetha Krishnan                     2   \n",
       "1  138317  B000HDOPYC  AR5J8UI46CURR  Geetha Krishnan                     2   \n",
       "2  138277  B000HDOPYM  AR5J8UI46CURR  Geetha Krishnan                     2   \n",
       "3   73791  B000HDOPZG  AR5J8UI46CURR  Geetha Krishnan                     2   \n",
       "4  155049  B000PAQ75C  AR5J8UI46CURR  Geetha Krishnan                     2   \n",
       "\n",
       "   HelpfulnessDenominator  Score        Time  \\\n",
       "0                       2      5  1199577600   \n",
       "1                       2      5  1199577600   \n",
       "2                       2      5  1199577600   \n",
       "3                       2      5  1199577600   \n",
       "4                       2      5  1199577600   \n",
       "\n",
       "                             Summary  \\\n",
       "0  LOACKER QUADRATINI VANILLA WAFERS   \n",
       "1  LOACKER QUADRATINI VANILLA WAFERS   \n",
       "2  LOACKER QUADRATINI VANILLA WAFERS   \n",
       "3  LOACKER QUADRATINI VANILLA WAFERS   \n",
       "4  LOACKER QUADRATINI VANILLA WAFERS   \n",
       "\n",
       "                                                Text  \n",
       "0  DELICIOUS WAFERS. I FIND THAT EUROPEAN WAFERS ...  \n",
       "1  DELICIOUS WAFERS. I FIND THAT EUROPEAN WAFERS ...  \n",
       "2  DELICIOUS WAFERS. I FIND THAT EUROPEAN WAFERS ...  \n",
       "3  DELICIOUS WAFERS. I FIND THAT EUROPEAN WAFERS ...  \n",
       "4  DELICIOUS WAFERS. I FIND THAT EUROPEAN WAFERS ...  "
      ]
     },
     "execution_count": 8,
     "metadata": {},
     "output_type": "execute_result"
    }
   ],
   "source": [
    "display= pd.read_sql_query(\"\"\"\n",
    "SELECT *\n",
    "FROM Reviews\n",
    "WHERE Score != 3 AND UserId=\"AR5J8UI46CURR\"\n",
    "ORDER BY ProductID\n",
    "\"\"\", con)\n",
    "display.head()"
   ]
  },
  {
   "cell_type": "markdown",
   "metadata": {
    "colab_type": "text",
    "id": "cKrGPQEfDYJW"
   },
   "source": [
    "As it can be seen above that same user has multiple reviews with same values for HelpfulnessNumerator, HelpfulnessDenominator, Score, Time, Summary and Text and on doing analysis it was found that <br>\n",
    "<br> \n",
    "ProductId=B000HDOPZG was Loacker Quadratini Vanilla Wafer Cookies, 8.82-Ounce Packages (Pack of 8)<br>\n",
    "<br> \n",
    "ProductId=B000HDL1RQ was Loacker Quadratini Lemon Wafer Cookies, 8.82-Ounce Packages (Pack of 8) and so on<br>\n",
    "\n",
    "It was inferred after analysis that reviews with same parameters other than ProductId belonged to the same product just having different flavour or quantity. Hence in order to reduce redundancy it was decided to eliminate the rows having same parameters.<br>\n",
    "\n",
    "The method used for the same was that we first sort the data according to ProductId and then just keep the first similar product review and delelte the others. for eg. in the above just the review for ProductId=B000HDL1RQ remains. This method ensures that there is only one representative for each product and deduplication without sorting would lead to possibility of different representatives still existing for the same product."
   ]
  },
  {
   "cell_type": "code",
   "execution_count": 9,
   "metadata": {
    "colab": {},
    "colab_type": "code",
    "id": "eQWrz1nFDYJX"
   },
   "outputs": [],
   "source": [
    "#Sorting data according to ProductId in ascending order\n",
    "sorted_data=filtered_data.sort_values('ProductId', axis=0, ascending=True, inplace=False, kind='quicksort', na_position='last')"
   ]
  },
  {
   "cell_type": "code",
   "execution_count": 10,
   "metadata": {
    "colab": {},
    "colab_type": "code",
    "id": "4CS7fUdLDYJd",
    "outputId": "6fa1310c-c733-4bb5-9b0a-cbb72b05e086"
   },
   "outputs": [
    {
     "data": {
      "text/plain": [
       "(87775, 10)"
      ]
     },
     "execution_count": 10,
     "metadata": {},
     "output_type": "execute_result"
    }
   ],
   "source": [
    "#Deduplication of entries\n",
    "final=sorted_data.drop_duplicates(subset={\"UserId\",\"ProfileName\",\"Time\",\"Text\"}, keep='first', inplace=False)\n",
    "final.shape"
   ]
  },
  {
   "cell_type": "code",
   "execution_count": 11,
   "metadata": {
    "colab": {},
    "colab_type": "code",
    "id": "Hcc_-CJMDYJk",
    "outputId": "8490fe52-8d00-4196-d0f4-5718b54f10e8"
   },
   "outputs": [
    {
     "data": {
      "text/plain": [
       "87.775"
      ]
     },
     "execution_count": 11,
     "metadata": {},
     "output_type": "execute_result"
    }
   ],
   "source": [
    "#Checking to see how much % of data still remains\n",
    "(final['Id'].size*1.0)/(filtered_data['Id'].size*1.0)*100"
   ]
  },
  {
   "cell_type": "markdown",
   "metadata": {
    "colab_type": "text",
    "id": "engwR6VNDYJq"
   },
   "source": [
    "<b>Observation:-</b> It was also seen that in two rows given below the value of HelpfulnessNumerator is greater than HelpfulnessDenominator which is not practically possible hence these two rows too are removed from calcualtions"
   ]
  },
  {
   "cell_type": "code",
   "execution_count": 12,
   "metadata": {
    "colab": {},
    "colab_type": "code",
    "id": "hjN7-OL_DYJt",
    "outputId": "5e4c5f88-4f27-42ca-e378-04cbc8e8d8d9"
   },
   "outputs": [
    {
     "data": {
      "text/html": [
       "<div>\n",
       "<style scoped>\n",
       "    .dataframe tbody tr th:only-of-type {\n",
       "        vertical-align: middle;\n",
       "    }\n",
       "\n",
       "    .dataframe tbody tr th {\n",
       "        vertical-align: top;\n",
       "    }\n",
       "\n",
       "    .dataframe thead th {\n",
       "        text-align: right;\n",
       "    }\n",
       "</style>\n",
       "<table border=\"1\" class=\"dataframe\">\n",
       "  <thead>\n",
       "    <tr style=\"text-align: right;\">\n",
       "      <th></th>\n",
       "      <th>Id</th>\n",
       "      <th>ProductId</th>\n",
       "      <th>UserId</th>\n",
       "      <th>ProfileName</th>\n",
       "      <th>HelpfulnessNumerator</th>\n",
       "      <th>HelpfulnessDenominator</th>\n",
       "      <th>Score</th>\n",
       "      <th>Time</th>\n",
       "      <th>Summary</th>\n",
       "      <th>Text</th>\n",
       "    </tr>\n",
       "  </thead>\n",
       "  <tbody>\n",
       "    <tr>\n",
       "      <th>0</th>\n",
       "      <td>64422</td>\n",
       "      <td>B000MIDROQ</td>\n",
       "      <td>A161DK06JJMCYF</td>\n",
       "      <td>J. E. Stephens \"Jeanne\"</td>\n",
       "      <td>3</td>\n",
       "      <td>1</td>\n",
       "      <td>5</td>\n",
       "      <td>1224892800</td>\n",
       "      <td>Bought This for My Son at College</td>\n",
       "      <td>My son loves spaghetti so I didn't hesitate or...</td>\n",
       "    </tr>\n",
       "    <tr>\n",
       "      <th>1</th>\n",
       "      <td>44737</td>\n",
       "      <td>B001EQ55RW</td>\n",
       "      <td>A2V0I904FH7ABY</td>\n",
       "      <td>Ram</td>\n",
       "      <td>3</td>\n",
       "      <td>2</td>\n",
       "      <td>4</td>\n",
       "      <td>1212883200</td>\n",
       "      <td>Pure cocoa taste with crunchy almonds inside</td>\n",
       "      <td>It was almost a 'love at first bite' - the per...</td>\n",
       "    </tr>\n",
       "  </tbody>\n",
       "</table>\n",
       "</div>"
      ],
      "text/plain": [
       "      Id   ProductId          UserId              ProfileName  \\\n",
       "0  64422  B000MIDROQ  A161DK06JJMCYF  J. E. Stephens \"Jeanne\"   \n",
       "1  44737  B001EQ55RW  A2V0I904FH7ABY                      Ram   \n",
       "\n",
       "   HelpfulnessNumerator  HelpfulnessDenominator  Score        Time  \\\n",
       "0                     3                       1      5  1224892800   \n",
       "1                     3                       2      4  1212883200   \n",
       "\n",
       "                                        Summary  \\\n",
       "0             Bought This for My Son at College   \n",
       "1  Pure cocoa taste with crunchy almonds inside   \n",
       "\n",
       "                                                Text  \n",
       "0  My son loves spaghetti so I didn't hesitate or...  \n",
       "1  It was almost a 'love at first bite' - the per...  "
      ]
     },
     "execution_count": 12,
     "metadata": {},
     "output_type": "execute_result"
    }
   ],
   "source": [
    "display= pd.read_sql_query(\"\"\"\n",
    "SELECT *\n",
    "FROM Reviews\n",
    "WHERE Score != 3 AND Id=44737 OR Id=64422\n",
    "ORDER BY ProductID\n",
    "\"\"\", con)\n",
    "\n",
    "display.head()"
   ]
  },
  {
   "cell_type": "code",
   "execution_count": 13,
   "metadata": {
    "colab": {},
    "colab_type": "code",
    "id": "Ezix6kJ_DYJ3"
   },
   "outputs": [],
   "source": [
    "final=final[final.HelpfulnessNumerator<=final.HelpfulnessDenominator]"
   ]
  },
  {
   "cell_type": "code",
   "execution_count": 14,
   "metadata": {
    "colab": {},
    "colab_type": "code",
    "id": "yWsVhvArDYJ9",
    "outputId": "0fd8ea32-ce27-4232-a7f1-880eb06ca956"
   },
   "outputs": [
    {
     "name": "stdout",
     "output_type": "stream",
     "text": [
      "(87773, 10)\n"
     ]
    },
    {
     "data": {
      "text/plain": [
       "1    73592\n",
       "0    14181\n",
       "Name: Score, dtype: int64"
      ]
     },
     "execution_count": 14,
     "metadata": {},
     "output_type": "execute_result"
    }
   ],
   "source": [
    "#Before starting the next phase of preprocessing lets see the number of entries left\n",
    "print(final.shape)\n",
    "\n",
    "#How many positive and negative reviews are present in our dataset?\n",
    "final['Score'].value_counts()"
   ]
  },
  {
   "cell_type": "code",
   "execution_count": 15,
   "metadata": {},
   "outputs": [
    {
     "data": {
      "text/plain": [
       "1    22064\n",
       "0    18449\n",
       "Name: Score, dtype: int64"
      ]
     },
     "execution_count": 15,
     "metadata": {},
     "output_type": "execute_result"
    }
   ],
   "source": [
    "\n",
    "\n",
    "final_pos = final[(final.Score==1)]\n",
    "final_neg = final[(final.Score==0)]\n",
    "\n",
    "final_pos = final.sample(frac = 0.3)\n",
    "final = final_pos.append(final_neg)\n",
    "\n",
    "final['Score'].value_counts()"
   ]
  },
  {
   "cell_type": "markdown",
   "metadata": {
    "colab_type": "text",
    "id": "AoLxCQ-VDYKI"
   },
   "source": [
    "#  [3] Preprocessing"
   ]
  },
  {
   "cell_type": "markdown",
   "metadata": {
    "colab_type": "text",
    "id": "P7Zq_ToqDYKJ"
   },
   "source": [
    "## [3.1].  Preprocessing Review Text\n",
    "\n",
    "Now that we have finished deduplication our data requires some preprocessing before we go on further with analysis and making the prediction model.\n",
    "\n",
    "Hence in the Preprocessing phase we do the following in the order below:-\n",
    "\n",
    "1. Begin by removing the html tags\n",
    "2. Remove any punctuations or limited set of special characters like , or . or # etc.\n",
    "3. Check if the word is made up of english letters and is not alpha-numeric\n",
    "4. Check to see if the length of the word is greater than 2 (as it was researched that there is no adjective in 2-letters)\n",
    "5. Convert the word to lowercase\n",
    "6. Remove Stopwords\n",
    "7. Finally Snowball Stemming the word (it was obsereved to be better than Porter Stemming)<br>\n",
    "\n",
    "After which we collect the words used to describe positive and negative reviews"
   ]
  },
  {
   "cell_type": "code",
   "execution_count": 16,
   "metadata": {
    "colab": {},
    "colab_type": "code",
    "id": "vQ2mdt2jDYKo"
   },
   "outputs": [],
   "source": [
    "# https://stackoverflow.com/a/47091490/4084039\n",
    "import re\n",
    "\n",
    "def decontracted(phrase):\n",
    "    # specific\n",
    "    phrase = re.sub(r\"won't\", \"will not\", phrase)\n",
    "    phrase = re.sub(r\"can\\'t\", \"can not\", phrase)\n",
    "\n",
    "    # general\n",
    "    phrase = re.sub(r\"n\\'t\", \" not\", phrase)\n",
    "    phrase = re.sub(r\"\\'re\", \" are\", phrase)\n",
    "    phrase = re.sub(r\"\\'s\", \" is\", phrase)\n",
    "    phrase = re.sub(r\"\\'d\", \" would\", phrase)\n",
    "    phrase = re.sub(r\"\\'ll\", \" will\", phrase)\n",
    "    phrase = re.sub(r\"\\'t\", \" not\", phrase)\n",
    "    phrase = re.sub(r\"\\'ve\", \" have\", phrase)\n",
    "    phrase = re.sub(r\"\\'m\", \" am\", phrase)\n",
    "    return phrase"
   ]
  },
  {
   "cell_type": "code",
   "execution_count": 17,
   "metadata": {
    "colab": {},
    "colab_type": "code",
    "id": "vZJNhKvKDYLA"
   },
   "outputs": [],
   "source": [
    "# https://gist.github.com/sebleier/554280\n",
    "# we are removing the words from the stop words list: 'no', 'nor', 'not'\n",
    "# <br /><br /> ==> after the above steps, we are getting \"br br\"\n",
    "# we are including them into stop words list\n",
    "# instead of <br /> if we have <br/> these tags would have revmoved in the 1st step\n",
    "\n",
    "stopwords= set(['br', 'the', 'i', 'me', 'my', 'myself', 'we', 'our', 'ours', 'ourselves', 'you', \"you're\", \"you've\",\\\n",
    "            \"you'll\", \"you'd\", 'your', 'yours', 'yourself', 'yourselves', 'he', 'him', 'his', 'himself', \\\n",
    "            'she', \"she's\", 'her', 'hers', 'herself', 'it', \"it's\", 'its', 'itself', 'they', 'them', 'their',\\\n",
    "            'theirs', 'themselves', 'what', 'which', 'who', 'whom', 'this', 'that', \"that'll\", 'these', 'those', \\\n",
    "            'am', 'is', 'are', 'was', 'were', 'be', 'been', 'being', 'have', 'has', 'had', 'having', 'do', 'does', \\\n",
    "            'did', 'doing', 'a', 'an', 'the', 'and', 'but', 'if', 'or', 'because', 'as', 'until', 'while', 'of', \\\n",
    "            'at', 'by', 'for', 'with', 'about', 'against', 'between', 'into', 'through', 'during', 'before', 'after',\\\n",
    "            'above', 'below', 'to', 'from', 'up', 'down', 'in', 'out', 'on', 'off', 'over', 'under', 'again', 'further',\\\n",
    "            'then', 'once', 'here', 'there', 'when', 'where', 'why', 'how', 'all', 'any', 'both', 'each', 'few', 'more',\\\n",
    "            'most', 'other', 'some', 'such', 'only', 'own', 'same', 'so', 'than', 'too', 'very', \\\n",
    "            's', 't', 'can', 'will', 'just', 'don', \"don't\", 'should', \"should've\", 'now', 'd', 'll', 'm', 'o', 're', \\\n",
    "            've', 'y', 'ain', 'aren', \"aren't\", 'couldn', \"couldn't\", 'didn', \"didn't\", 'doesn', \"doesn't\", 'hadn',\\\n",
    "            \"hadn't\", 'hasn', \"hasn't\", 'haven', \"haven't\", 'isn', \"isn't\", 'ma', 'mightn', \"mightn't\", 'mustn',\\\n",
    "            \"mustn't\", 'needn', \"needn't\", 'shan', \"shan't\", 'shouldn', \"shouldn't\", 'wasn', \"wasn't\", 'weren', \"weren't\", \\\n",
    "            'won', \"won't\", 'wouldn', \"wouldn't\"])"
   ]
  },
  {
   "cell_type": "code",
   "execution_count": 18,
   "metadata": {
    "colab": {},
    "colab_type": "code",
    "id": "1Rd8zIc8DYLF",
    "outputId": "33fd610b-9479-4f0e-bfd1-10e308b4b382"
   },
   "outputs": [
    {
     "name": "stderr",
     "output_type": "stream",
     "text": [
      "100%|██████████| 40513/40513 [00:11<00:00, 3586.33it/s]\n"
     ]
    }
   ],
   "source": [
    "# Combining all the above stundents \n",
    "from tqdm import tqdm\n",
    "from bs4 import BeautifulSoup\n",
    "\n",
    "preprocessed_reviews = []\n",
    "# tqdm is for printing the status bar\n",
    "for sentance in tqdm(final['Text'].values):\n",
    "    sentance = re.sub(r\"http\\S+\", \"\", sentance)\n",
    "    sentance = BeautifulSoup(sentance, 'lxml').get_text()\n",
    "    sentance = decontracted(sentance)\n",
    "    sentance = re.sub(\"\\S*\\d\\S*\", \"\", sentance).strip()\n",
    "    sentance = re.sub('[^A-Za-z]+', ' ', sentance)\n",
    "    # https://gist.github.com/sebleier/554280\n",
    "    sentance = ' '.join(e.lower() for e in sentance.split() if e.lower() not in stopwords)\n",
    "    preprocessed_reviews.append(sentance.strip())"
   ]
  },
  {
   "cell_type": "markdown",
   "metadata": {
    "colab_type": "text",
    "id": "grP7WVsuDYMp"
   },
   "source": [
    "# [5] Assignment 3: KNN"
   ]
  },
  {
   "cell_type": "markdown",
   "metadata": {
    "colab_type": "text",
    "id": "ysQgMV4SDYMq"
   },
   "source": [
    "<ol>\n",
    "    <li><strong>Apply Knn(brute force version) on these feature sets</strong>\n",
    "        <ul>\n",
    "            <li><font color='red'>SET 1:</font>Review text, preprocessed one converted into vectors using (BOW)</li>\n",
    "            <li><font color='red'>SET 2:</font>Review text, preprocessed one converted into vectors using (TFIDF)</li>\n",
    "            <li><font color='red'>SET 3:</font>Review text, preprocessed one converted into vectors using (AVG W2v)</li>\n",
    "            <li><font color='red'>SET 4:</font>Review text, preprocessed one converted into vectors using (TFIDF W2v)</li>\n",
    "        </ul>\n",
    "    </li>\n",
    "    <br>\n",
    "    <li><strong>Apply Knn(kd tree version) on these feature sets</strong>\n",
    "        <br><font color='red'>NOTE: </font>sklearn implementation of kd-tree accepts only dense matrices, you need to convert the sparse matrices of CountVectorizer/TfidfVectorizer into dense matices. You can convert sparse matrices to dense using .toarray() attribute. For more information please visit this <a href='https://docs.scipy.org/doc/scipy-0.18.1/reference/generated/scipy.sparse.csr_matrix.toarray.html'>link</a>\n",
    "        <ul>\n",
    "            <li><font color='red'>SET 5:</font>Review text, preprocessed one converted into vectors using (BOW) but with restriction on maximum features generated.\n",
    "            <pre>\n",
    "            count_vect = CountVectorizer(min_df=10, max_features=500) \n",
    "            count_vect.fit(preprocessed_reviews)\n",
    "            </pre>\n",
    "            </li>\n",
    "            <li><font color='red'>SET 6:</font>Review text, preprocessed one converted into vectors using (TFIDF) but with restriction on maximum features generated.\n",
    "            <pre>\n",
    "                tf_idf_vect = TfidfVectorizer(min_df=10, max_features=500)\n",
    "                tf_idf_vect.fit(preprocessed_reviews)\n",
    "            </pre>\n",
    "            </li>\n",
    "            <li><font color='red'>SET 3:</font>Review text, preprocessed one converted into vectors using (AVG W2v)</li>\n",
    "            <li><font color='red'>SET 4:</font>Review text, preprocessed one converted into vectors using (TFIDF W2v)</li>\n",
    "        </ul>\n",
    "    </li>\n",
    "    <br>\n",
    "    <li><strong>The hyper paramter tuning(find best K)</strong>\n",
    "        <ul>\n",
    "    <li>Find the best hyper parameter which will give the maximum <a href='https://www.appliedaicourse.com/course/applied-ai-course-online/lessons/receiver-operating-characteristic-curve-roc-curve-and-auc-1/'>AUC</a> value</li>\n",
    "    <li>Find the best hyper paramter using k-fold cross validation or simple cross validation data</li>\n",
    "    <li>Use gridsearch cv or randomsearch cv or you can also write your own for loops to do this task of hyperparameter tuning</li>\n",
    "        </ul>\n",
    "    </li>\n",
    "    <br>\n",
    "    <li>\n",
    "    <strong>Representation of results</strong>\n",
    "        <ul>\n",
    "    <li>You need to plot the performance of model both on train data and cross validation data for each hyper parameter, like shown in the figure\n",
    "    <img src='train_cv_auc.JPG' width=300px></li>\n",
    "    <li>Once after you found the best hyper parameter, you need to train your model with it, and find the AUC on test data and plot the ROC curve on both train and test.\n",
    "    <img src='train_test_auc.JPG' width=300px></li>\n",
    "    <li>Along with plotting ROC curve, you need to print the <a href='https://www.appliedaicourse.com/course/applied-ai-course-online/lessons/confusion-matrix-tpr-fpr-fnr-tnr-1/'>confusion matrix</a> with predicted and original labels of test data points\n",
    "    <img src='confusion_matrix.png' width=300px></li>\n",
    "        </ul>\n",
    "    </li>\n",
    "    <br>\n",
    "    <li><strong>Conclusion</strong>\n",
    "        <ul>\n",
    "    <li>You need to summarize the results at the end of the notebook, summarize it in the table format. To print out a table please refer to this prettytable library<a href='http://zetcode.com/python/prettytable/'> link</a> \n",
    "        <img src='summary.JPG' width=400px>\n",
    "    </li>\n",
    "        </ul>\n",
    "</ol>"
   ]
  },
  {
   "cell_type": "markdown",
   "metadata": {
    "colab_type": "text",
    "id": "juYtRIKQDYMr"
   },
   "source": [
    "<h4><font color='red'>Note: Data Leakage</font></h4>\n",
    "\n",
    "1. There will be an issue of data-leakage if you vectorize the entire data and then split it into train/cv/test.\n",
    "2. To avoid the issue of data-leakag, make sure to split your data first and then vectorize it. \n",
    "3. While vectorizing your data, apply the method fit_transform() on you train data, and apply the method transform() on cv/test data.\n",
    "4. For more details please go through this <a href='https://soundcloud.com/applied-ai-course/leakage-bow-and-tfidf'>link.</a>"
   ]
  },
  {
   "cell_type": "markdown",
   "metadata": {
    "colab_type": "text",
    "id": "WEbTAOWHDYMu"
   },
   "source": [
    "## [5.1] Applying KNN brute force"
   ]
  },
  {
   "cell_type": "markdown",
   "metadata": {
    "colab_type": "text",
    "id": "ArO5fI7kDYMv"
   },
   "source": [
    "### [5.1.1] Applying KNN brute force on BOW,<font color='red'> SET 1</font>"
   ]
  },
  {
   "cell_type": "code",
   "execution_count": 19,
   "metadata": {
    "colab": {},
    "colab_type": "code",
    "id": "Rw_A_9pfDYMw"
   },
   "outputs": [
    {
     "name": "stderr",
     "output_type": "stream",
     "text": [
      "/Users/ravishankar/anaconda3/lib/python3.6/site-packages/sklearn/cross_validation.py:41: DeprecationWarning: This module was deprecated in version 0.18 in favor of the model_selection module into which all the refactored classes and functions are moved. Also note that the interface of the new CV iterators are different from that of this module. This module will be removed in 0.20.\n",
      "  \"This module will be removed in 0.20.\", DeprecationWarning)\n"
     ]
    },
    {
     "name": "stdout",
     "output_type": "stream",
     "text": [
      "1    6615\n",
      "0    5539\n",
      "Name: Score, dtype: int64\n",
      "After vectorizations\n",
      "(19851, 8378) (19851,)\n",
      "(8508, 8378) (8508,)\n",
      "(12154, 8378) (12154,)\n",
      "====================================================================================================\n"
     ]
    }
   ],
   "source": [
    "# Please write all the code with proper documentation\n",
    "from sklearn.cross_validation import train_test_split\n",
    "from sklearn.neighbors import KNeighborsClassifier\n",
    "from sklearn.metrics import roc_auc_score\n",
    "from sklearn.cross_validation import cross_val_score\n",
    "from sklearn import cross_validation\n",
    "\n",
    "X_1, X_test, y_1, y_test = cross_validation.train_test_split(preprocessed_reviews, final['Score'], test_size=0.3, random_state=0)\n",
    "X_tr, X_cv, y_tr, y_cv = cross_validation.train_test_split(X_1, y_1, test_size=0.3)\n",
    "\n",
    "\n",
    "print(y_test.value_counts())\n",
    "\n",
    "count_vect = CountVectorizer(min_df=5) \n",
    "count_vect.fit(X_tr)\n",
    "test_vect = count_vect.transform(X_test)\n",
    "cv_vect = count_vect.transform(X_cv)\n",
    "train_vect = count_vect.transform(X_tr)\n",
    "\n",
    "#from sklearn.preprocessing import StandardScaler\n",
    "#scaler = StandardScaler(with_mean=False)\n",
    "#scaler.fit(test_vect)  \n",
    "#train_vect = scaler.transform(train_vect)\n",
    "#test_vect = scaler.transform(test_vect)\n",
    "#cv_vect = scaler.transform(cv_vect)\n",
    "\n",
    "\n",
    "print(\"After vectorizations\")\n",
    "print(train_vect.shape, y_tr.shape)\n",
    "print(cv_vect.shape, y_cv.shape)\n",
    "print(test_vect.shape, y_test.shape)\n",
    "print(\"=\"*100)"
   ]
  },
  {
   "cell_type": "code",
   "execution_count": 20,
   "metadata": {},
   "outputs": [],
   "source": [
    "def find_best_threshold(threshould, fpr, tpr):\n",
    "    t = threshould[np.argmax(tpr*(1-fpr))]\n",
    "    # (tpr*(1-fpr)) will be maximum if your fpr is very low and tpr is very high\n",
    "    print(\"the maximum value of tpr*(1-fpr)\", max(tpr*(1-fpr)), \"for threshold\", np.round(t,3))\n",
    "    return t\n",
    "\n",
    "def predict_with_best_t(proba, threshould):\n",
    "    predictions = []\n",
    "    for i in proba:\n",
    "        if i>=threshould:\n",
    "            predictions.append(1)\n",
    "        else:\n",
    "            predictions.append(0)\n",
    "    return predictions"
   ]
  },
  {
   "cell_type": "code",
   "execution_count": 21,
   "metadata": {},
   "outputs": [
    {
     "name": "stderr",
     "output_type": "stream",
     "text": [
      "100%|██████████| 10/10 [03:08<00:00, 19.39s/it]\n"
     ]
    }
   ],
   "source": [
    "train_auc = []\n",
    "cv_auc = []\n",
    "K_values = list(range(1,100,10))\n",
    "#K_values = [1].append(K_values)\n",
    "for i in tqdm(K_values):\n",
    "    knn = KNeighborsClassifier(n_neighbors=i,algorithm='brute')\n",
    "    knn.fit(train_vect, y_tr)\n",
    "    #https://scikit-learn.org/stable/modules/generated/sklearn.neighbors.KNeighborsClassifier.html\n",
    "    cv_pred = knn.predict_proba(cv_vect)\n",
    "    cv_pred = cv_pred[:,1]\n",
    "    train_pred = knn.predict_proba(train_vect)\n",
    "    #train_pred = train_pred[:].max(axis=1)\n",
    "    train_pred = train_pred[:,1]\n",
    "    #print(train_pred,\"------\",cv_pred)\n",
    "    #https://scikit-learn.org/stable/modules/generated/sklearn.metrics.roc_auc_score.html#sklearn.metrics.roc_auc_score\n",
    "    train_auc.append(roc_auc_score(y_tr,train_pred))\n",
    "    cv_auc.append(roc_auc_score(y_cv,cv_pred))\n",
    "    "
   ]
  },
  {
   "cell_type": "code",
   "execution_count": 22,
   "metadata": {
    "scrolled": true
   },
   "outputs": [
    {
     "data": {
      "image/png": "[encoded data removed]",
      "text/plain": [
       "<Figure size 432x288 with 1 Axes>"
      ]
     },
     "metadata": {},
     "output_type": "display_data"
    }
   ],
   "source": [
    "plt.plot(K_values, train_auc, label='Train AUC')\n",
    "plt.plot(K_values, cv_auc, label='CV AUC')\n",
    "plt.xlabel('K-value')\n",
    "plt.ylabel('ROC_AUC_SCORE')\n",
    "plt.legend()\n",
    "plt.show()  \n",
    "#print(\"Best K-Value\", K_values[cv_auc.index(max(cv_auc))])"
   ]
  },
  {
   "cell_type": "code",
   "execution_count": 25,
   "metadata": {},
   "outputs": [
    {
     "name": "stdout",
     "output_type": "stream",
     "text": [
      "test_auc 0.7701948950730318\n"
     ]
    },
    {
     "data": {
      "image/png": "[encoded data removed]",
      "text/plain": [
       "<Figure size 432x288 with 1 Axes>"
      ]
     },
     "metadata": {},
     "output_type": "display_data"
    }
   ],
   "source": [
    "best_knn = KNeighborsClassifier(n_neighbors=K_values[cv_auc.index(max(cv_auc))],algorithm='brute')\n",
    "best_knn.fit(train_vect, y_tr)\n",
    "\n",
    "#https://scikit-learn.org/stable/modules/generated/sklearn.metrics.roc_curve.html\n",
    "train_pred = best_knn.predict_proba(train_vect)\n",
    "train_pred = train_pred[:,1]\n",
    "#print(np.unique(train_pred))\n",
    "tr_fpr, tr_tpr, tr_thresh = roc_curve(y_tr, train_pred)\n",
    "\n",
    "#https://scikit-learn.org/stable/modules/generated/sklearn.metrics.roc_curve.html\n",
    "test_pred = best_knn.predict_proba(test_vect)\n",
    "test_pred = test_pred[:,1]\n",
    "#print(np.unique(test_pred))\n",
    "test_fpr, test_tpr, test_thresh = roc_curve(y_test, test_pred)\n",
    "\n",
    "auc_bow = auc(test_fpr,test_tpr)\n",
    "print(\"test_auc\",auc_bow)\n",
    "plt.plot(tr_fpr, tr_tpr, label=\"Train ROC\")\n",
    "plt.plot(test_fpr, test_tpr, label=\"Test ROC\")\n",
    "plt.plot(tr_fpr, tr_tpr, label=\"train AUC =\"+str(auc(tr_fpr, tr_tpr)))\n",
    "plt.plot(test_fpr, test_tpr, label=\"test AUC =\"+str(auc(test_fpr, test_tpr)))\n",
    "plt.xlabel(\"FPR\")\n",
    "plt.ylabel(\"TPR\")\n",
    "plt.title(\"ROC CURVE\")\n",
    "plt.legend()\n",
    "plt.show()"
   ]
  },
  {
   "cell_type": "code",
   "execution_count": 26,
   "metadata": {},
   "outputs": [
    {
     "name": "stdout",
     "output_type": "stream",
     "text": [
      "the maximum value of tpr*(1-fpr) 0.5390467511497563 for threshold 0.615\n",
      "Train confusion matrix\n",
      "[[7115 1930]\n",
      " [3401 7405]]\n",
      "Test confusion matrix\n",
      "[[4212 1327]\n",
      " [2214 4401]]\n",
      "Test accuracy :  0.6436564094125391\n"
     ]
    }
   ],
   "source": [
    "from sklearn.metrics import confusion_matrix\n",
    "best_t = find_best_threshold(tr_thresh, tr_fpr, tr_tpr)\n",
    "print(\"Train confusion matrix\")\n",
    "print(confusion_matrix(y_tr, predict_with_best_t(train_pred, best_t)))\n",
    "print(\"Test confusion matrix\")\n",
    "print(confusion_matrix(y_test, predict_with_best_t(test_pred, best_t)))\n",
    "\n",
    "accuracy_bow = best_knn.score(test_vect, y_test)\n",
    "print(\"Test accuracy : \",accuracy_bow)"
   ]
  },
  {
   "cell_type": "markdown",
   "metadata": {
    "colab_type": "text",
    "id": "m0UxvEKBDYM8"
   },
   "source": [
    "### [5.1.2] Applying KNN brute force on TFIDF,<font color='red'> SET 2</font>"
   ]
  },
  {
   "cell_type": "code",
   "execution_count": 27,
   "metadata": {
    "colab": {},
    "colab_type": "code",
    "id": "5ffXQxa7DYM9"
   },
   "outputs": [
    {
     "name": "stdout",
     "output_type": "stream",
     "text": [
      "(18185, 7983)\n"
     ]
    }
   ],
   "source": [
    "# Please write all the code with proper documentation\n",
    "from sklearn import preprocessing\n",
    "from sklearn.preprocessing import Normalizer\n",
    "\n",
    "X_1, X_test, y_1, y_test = cross_validation.train_test_split(preprocessed_reviews, final['Score'], test_size=0.33)\n",
    "X_tr, X_cv, y_tr, y_cv = cross_validation.train_test_split(X_1, y_1, test_size=0.33)\n",
    "\n",
    "count_vect = TfidfVectorizer(min_df=5)#ngram_range=(1,2), min_df=5,max_features=1000) \n",
    "\n",
    "count_vect.fit(X_tr)\n",
    "test_vect = count_vect.transform(X_test)\n",
    "cv_vect = count_vect.transform(X_cv)\n",
    "train_vect = count_vect.transform(X_tr)\n",
    "\n",
    "#print(train_vect.shape)\n",
    "test_vect=preprocessing.normalize(test_vect)\n",
    "cv_vect=preprocessing.normalize(cv_vect)\n",
    "train_vect=preprocessing.normalize(train_vect)\n",
    "print(train_vect.shape)"
   ]
  },
  {
   "cell_type": "code",
   "execution_count": 28,
   "metadata": {},
   "outputs": [
    {
     "name": "stderr",
     "output_type": "stream",
     "text": [
      "100%|██████████| 10/10 [04:26<00:00, 26.98s/it]\n"
     ]
    }
   ],
   "source": [
    "train_auc = []\n",
    "cv_auc = []\n",
    "K_values = list(range(1,100,10))\n",
    "#K_values = [1].append(K_values)\n",
    "\n",
    "for i in tqdm(K_values):\n",
    "    knn = KNeighborsClassifier(n_neighbors=i,algorithm='brute',n_jobs=-1)\n",
    "    knn.fit(train_vect, y_tr)\n",
    "\n",
    "    #https://scikit-learn.org/stable/modules/generated/sklearn.neighbors.KNeighborsClassifier.html\n",
    "    cv_pred = knn.predict_proba(cv_vect)\n",
    "    #cv_pred = cv_pred[:].max(axis=1)\n",
    "    cv_pred = cv_pred[:,1]\n",
    "    train_pred = knn.predict_proba(train_vect)\n",
    "    train_pred = train_pred[:,1]\n",
    "    #https://scikit-learn.org/stable/modules/generated/sklearn.metrics.roc_auc_score.html#sklearn.metrics.roc_auc_score\n",
    "    train_auc.append(roc_auc_score(y_tr,train_pred))\n",
    "    cv_auc.append(roc_auc_score(y_cv,cv_pred))"
   ]
  },
  {
   "cell_type": "code",
   "execution_count": 29,
   "metadata": {},
   "outputs": [
    {
     "data": {
      "image/png": "[encoded data removed]",
      "text/plain": [
       "<Figure size 432x288 with 1 Axes>"
      ]
     },
     "metadata": {},
     "output_type": "display_data"
    },
    {
     "name": "stdout",
     "output_type": "stream",
     "text": [
      "Best K-Value 91\n"
     ]
    }
   ],
   "source": [
    "plt.plot(K_values, train_auc, label='Train AUC')\n",
    "plt.plot(K_values, cv_auc, label='CV AUC')\n",
    "plt.legend()\n",
    "plt.show()  \n",
    "print(\"Best K-Value\", K_values[cv_auc.index(max(cv_auc))])"
   ]
  },
  {
   "cell_type": "code",
   "execution_count": 30,
   "metadata": {},
   "outputs": [
    {
     "name": "stdout",
     "output_type": "stream",
     "text": [
      "test_auc 0.847763353667609\n"
     ]
    },
    {
     "data": {
      "image/png": "[encoded data removed]",
      "text/plain": [
       "<Figure size 432x288 with 1 Axes>"
      ]
     },
     "metadata": {},
     "output_type": "display_data"
    }
   ],
   "source": [
    "best_knn = KNeighborsClassifier(n_neighbors=K_values[cv_auc.index(max(cv_auc))],algorithm='brute')\n",
    "best_knn.fit(train_vect, y_tr)\n",
    "\n",
    "#https://scikit-learn.org/stable/modules/generated/sklearn.metrics.roc_curve.html\n",
    "train_pred = best_knn.predict_proba(train_vect)\n",
    "train_pred = train_pred[:,1]\n",
    "tr_fpr, tr_tpr, tr_thresh = roc_curve(y_tr, train_pred)\n",
    "\n",
    "#https://scikit-learn.org/stable/modules/generated/sklearn.metrics.roc_curve.html\n",
    "test_pred = best_knn.predict_proba(test_vect)\n",
    "test_pred = test_pred[:,1]\n",
    "test_fpr, test_tpr, test_thresh = roc_curve(y_test, test_pred)\n",
    "\n",
    "auc_tfid = auc(test_fpr,test_tpr)\n",
    "print(\"test_auc\",auc_tfid)\n",
    "\n",
    "plt.plot(tr_fpr, tr_tpr, label=\"Train ROC\")\n",
    "plt.plot(test_fpr, test_tpr, label=\"Test ROC\")\n",
    "plt.plot(tr_fpr, tr_tpr, label=\"train AUC =\"+str(auc(tr_fpr, tr_tpr)))\n",
    "plt.plot(test_fpr, test_tpr, label=\"test AUC =\"+str(auc(test_fpr, test_tpr)))\n",
    "plt.xlabel(\"FPR\")\n",
    "plt.ylabel(\"TPR\")\n",
    "plt.title(\"ROC CURVE\")\n",
    "plt.legend()\n",
    "plt.show()"
   ]
  },
  {
   "cell_type": "code",
   "execution_count": 31,
   "metadata": {},
   "outputs": [
    {
     "name": "stdout",
     "output_type": "stream",
     "text": [
      "the maximum value of tpr*(1-fpr) 0.6213020070406121 for threshold 0.582\n",
      "Train confusion matrix\n",
      "[[6447 1816]\n",
      " [2021 7901]]\n",
      "Test confusion matrix\n",
      "[[4643 1467]\n",
      " [1664 5596]]\n",
      "Test accuracy :  0.6954375467464473\n"
     ]
    }
   ],
   "source": [
    "from sklearn.metrics import confusion_matrix\n",
    "best_t = find_best_threshold(tr_thresh, tr_fpr, tr_tpr)\n",
    "print(\"Train confusion matrix\")\n",
    "print(confusion_matrix(y_tr, predict_with_best_t(train_pred, best_t)))\n",
    "print(\"Test confusion matrix\")\n",
    "print(confusion_matrix(y_test, predict_with_best_t(test_pred, best_t)))\n",
    "\n",
    "accuracy_tfid = best_knn.score(test_vect, y_test)\n",
    "print(\"Test accuracy : \",accuracy_tfid)"
   ]
  },
  {
   "cell_type": "markdown",
   "metadata": {
    "colab_type": "text",
    "id": "sgcPCRG8DYNC"
   },
   "source": [
    "### [5.1.3] Applying KNN brute force on AVG W2V,<font color='red'> SET 3</font>"
   ]
  },
  {
   "cell_type": "code",
   "execution_count": 32,
   "metadata": {},
   "outputs": [],
   "source": [
    "def w2v_fit(preprocessed_reviews):\n",
    "    i=0\n",
    "    list_of_sentance=[]\n",
    "    for sentance in preprocessed_reviews:\n",
    "        list_of_sentance.append(sentance.split())\n",
    "\n",
    "    is_your_ram_gt_16g=False\n",
    "    want_to_use_google_w2v = False\n",
    "    want_to_train_w2v = True\n",
    "\n",
    "    if want_to_train_w2v:\n",
    "        # min_count = 5 considers only words that occured atleast 5 times\n",
    "        w2v_model=Word2Vec(list_of_sentance,min_count=5,size=50, workers=4)\n",
    "        print(w2v_model.wv.most_similar('great'))\n",
    "        print('='*50)\n",
    "        print(w2v_model.wv.most_similar('worst'))\n",
    "\n",
    "    elif want_to_use_google_w2v and is_your_ram_gt_16g:\n",
    "        if os.path.isfile('GoogleNews-vectors-negative300.bin'):\n",
    "            w2v_model=KeyedVectors.load_word2vec_format('GoogleNews-vectors-negative300.bin', binary=True)\n",
    "            print(w2v_model.wv.most_similar('great'))\n",
    "            print(w2v_model.wv.most_similar('worst'))\n",
    "        else:\n",
    "            print(\"you don't have gogole's word2vec file, keep want_to_train_w2v = True, to train your own w2v \")\n",
    "    return w2v_model"
   ]
  },
  {
   "cell_type": "code",
   "execution_count": 33,
   "metadata": {
    "colab": {},
    "colab_type": "code",
    "id": "bT4Dm8fiDYNL"
   },
   "outputs": [],
   "source": [
    "# average Word2Vec\n",
    "# compute average word2vec for each review.\n",
    "def avg_w2v_transform(w2v_model,list_of_sentence):\n",
    "    sent_vectors = []; # the avg-w2v for each sentence/review is stored in this list\n",
    "    #w2v_model = word2Vec(list_of_sentence)\n",
    "    w2v_words = list(w2v_model.wv.vocab)\n",
    "    for sent in tqdm(list_of_sentence): # for each review/sentence\n",
    "        sent_vec = np.zeros(50) # as word vectors are of zero length 50, you might need to change this to 300 if you use google's w2v\n",
    "        cnt_words =0; # num of words with a valid vector in the sentence/review\n",
    "        word_len = 0;\n",
    "        for word in sent.split(): # for each word in a review/sentence\n",
    "            if word in w2v_words:\n",
    "                word_len += 1\n",
    "                vec = w2v_model.wv[word]\n",
    "                sent_vec += vec\n",
    "                cnt_words += 1\n",
    "        if cnt_words != 0:\n",
    "            sent_vec /= cnt_words\n",
    "        sent_vec = sent_vec.tolist()\n",
    "        sent_vec.append(word_len) \n",
    "        sent_vectors.append(sent_vec)\n",
    "    return np.array(sent_vectors)"
   ]
  },
  {
   "cell_type": "code",
   "execution_count": 34,
   "metadata": {
    "colab": {},
    "colab_type": "code",
    "id": "5ffXQxa7DYM9"
   },
   "outputs": [
    {
     "name": "stderr",
     "output_type": "stream",
     "text": [
      "  1%|          | 97/13370 [00:00<00:13, 958.59it/s]"
     ]
    },
    {
     "name": "stdout",
     "output_type": "stream",
     "text": [
      "[('good', 0.8088615536689758), ('wonderful', 0.7763307094573975), ('awesome', 0.7579760551452637), ('amazing', 0.7490124702453613), ('excellent', 0.7411847114562988), ('perfect', 0.7396558523178101), ('decent', 0.6937140226364136), ('well', 0.6838428974151611), ('delicious', 0.6804043650627136), ('nice', 0.6703143119812012)]\n",
      "==================================================\n",
      "[('ever', 0.8460726141929626), ('best', 0.7738516330718994), ('nastiest', 0.7470898628234863), ('eaten', 0.7273821234703064), ('toughest', 0.726611852645874), ('smoothest', 0.7164272665977478), ('superior', 0.703944206237793), ('american', 0.7011862993240356), ('tried', 0.7002617716789246), ('far', 0.6950114369392395)]\n"
     ]
    },
    {
     "name": "stderr",
     "output_type": "stream",
     "text": [
      "100%|██████████| 13370/13370 [00:13<00:00, 1004.19it/s]\n",
      "100%|██████████| 8958/8958 [00:08<00:00, 1102.59it/s]\n",
      "100%|██████████| 18185/18185 [00:16<00:00, 1122.63it/s]\n"
     ]
    }
   ],
   "source": [
    "\n",
    "X_1, X_test, y_1, y_test = cross_validation.train_test_split(preprocessed_reviews, final['Score'], test_size=0.33, random_state=0)\n",
    "X_tr, X_cv, y_tr, y_cv = cross_validation.train_test_split(X_1, y_1, test_size=0.33)\n",
    "\n",
    "list_of_sentance=[]\n",
    "for sentance in X_tr:\n",
    "    list_of_sentance.append(sentance.split())\n",
    "\n",
    "w2v_model=w2v_fit(X_tr)\n",
    "#w2v_words = list(w2v_model.wv.vocab)\n",
    "\n",
    "test_vect = avg_w2v_transform(w2v_model,X_test)\n",
    "cv_vect = avg_w2v_transform(w2v_model,X_cv)\n",
    "train_vect = avg_w2v_transform(w2v_model,X_tr)"
   ]
  },
  {
   "cell_type": "code",
   "execution_count": 35,
   "metadata": {},
   "outputs": [],
   "source": [
    "from sklearn import preprocessing\n",
    "\n",
    "\n",
    "test_vect=preprocessing.normalize(test_vect)\n",
    "cv_vect=preprocessing.normalize(cv_vect)\n",
    "train_vect=preprocessing.normalize(train_vect)"
   ]
  },
  {
   "cell_type": "code",
   "execution_count": 36,
   "metadata": {},
   "outputs": [
    {
     "name": "stderr",
     "output_type": "stream",
     "text": [
      "100%|██████████| 10/10 [01:44<00:00, 10.82s/it]\n"
     ]
    }
   ],
   "source": [
    "train_auc = []\n",
    "cv_auc = []\n",
    "K_values = list(range(1,100,10))\n",
    "#K_values = [1].append(K_values)\n",
    "for i in tqdm(K_values):\n",
    "    knn = KNeighborsClassifier(n_neighbors=i,algorithm='brute')\n",
    "    knn.fit(train_vect, y_tr)\n",
    "    #https://scikit-learn.org/stable/modules/generated/sklearn.neighbors.KNeighborsClassifier.html\n",
    "    cv_pred = knn.predict_proba(cv_vect)\n",
    "    cv_pred = cv_pred[:,1]\n",
    "    train_pred = knn.predict_proba(train_vect)\n",
    "    train_pred = train_pred[:,1]\n",
    "    #https://scikit-learn.org/stable/modules/generated/sklearn.metrics.roc_auc_score.html#sklearn.metrics.roc_auc_score\n",
    "    train_auc.append(roc_auc_score(y_tr,train_pred))\n",
    "    cv_auc.append(roc_auc_score(y_cv,cv_pred))"
   ]
  },
  {
   "cell_type": "code",
   "execution_count": 37,
   "metadata": {},
   "outputs": [
    {
     "data": {
      "image/png": "[encoded data removed]",
      "text/plain": [
       "<Figure size 432x288 with 1 Axes>"
      ]
     },
     "metadata": {},
     "output_type": "display_data"
    },
    {
     "name": "stdout",
     "output_type": "stream",
     "text": [
      "Best K-Value 51\n"
     ]
    }
   ],
   "source": [
    "plt.plot(K_values, train_auc, label='Train AUC')\n",
    "plt.plot(K_values, cv_auc, label='CV AUC')\n",
    "plt.legend()\n",
    "plt.show()  \n",
    "print(\"Best K-Value\", K_values[cv_auc.index(max(cv_auc))])"
   ]
  },
  {
   "cell_type": "code",
   "execution_count": 38,
   "metadata": {},
   "outputs": [
    {
     "name": "stdout",
     "output_type": "stream",
     "text": [
      "test_auc 0.861814012356442\n"
     ]
    },
    {
     "data": {
      "image/png": "[encoded data removed]",
      "text/plain": [
       "<Figure size 432x288 with 1 Axes>"
      ]
     },
     "metadata": {},
     "output_type": "display_data"
    }
   ],
   "source": [
    "best_knn = KNeighborsClassifier(n_neighbors=K_values[cv_auc.index(max(cv_auc))],algorithm='brute')\n",
    "best_knn.fit(train_vect, y_tr)\n",
    "\n",
    "#https://scikit-learn.org/stable/modules/generated/sklearn.metrics.roc_curve.html\n",
    "train_pred = best_knn.predict_proba(train_vect)\n",
    "train_pred = train_pred[:,1]\n",
    "tr_fpr, tr_tpr, tr_thresh = roc_curve(y_tr, train_pred)\n",
    "\n",
    "#https://scikit-learn.org/stable/modules/generated/sklearn.metrics.roc_curve.html\n",
    "test_pred = best_knn.predict_proba(test_vect)\n",
    "test_pred = test_pred[:,1]\n",
    "test_fpr, test_tpr, test_thresh = roc_curve(y_test, test_pred)\n",
    "\n",
    "auc_w2v = auc(test_fpr,test_tpr)\n",
    "print(\"test_auc\",auc_w2v)\n",
    "plt.plot(tr_fpr, tr_tpr, label=\"train AUC =\"+str(auc(tr_fpr, tr_tpr)))\n",
    "plt.plot(test_fpr, test_tpr, label=\"test AUC =\"+str(auc(test_fpr, test_tpr)))\n",
    "plt.xlabel(\"FPR\")\n",
    "plt.ylabel(\"TPR\")\n",
    "plt.title(\"ROC CURVE\")\n",
    "plt.legend()\n",
    "plt.show()"
   ]
  },
  {
   "cell_type": "code",
   "execution_count": 39,
   "metadata": {},
   "outputs": [
    {
     "name": "stdout",
     "output_type": "stream",
     "text": [
      "the maximum value of tpr*(1-fpr) 0.6336730070306479 for threshold 0.549\n",
      "Train confusion matrix\n",
      "[[6828 1498]\n",
      " [2241 7618]]\n",
      "Test confusion matrix\n",
      "[[4838 1227]\n",
      " [1779 5526]]\n",
      "Test accuracy :  0.7777860882572925\n"
     ]
    }
   ],
   "source": [
    "from sklearn.metrics import confusion_matrix\n",
    "best_t = find_best_threshold(tr_thresh, tr_fpr, tr_tpr)\n",
    "print(\"Train confusion matrix\")\n",
    "print(confusion_matrix(y_tr, predict_with_best_t(train_pred, best_t)))\n",
    "print(\"Test confusion matrix\")\n",
    "print(confusion_matrix(y_test, predict_with_best_t(test_pred, best_t)))\n",
    "\n",
    "\n",
    "accuracy_w2v = best_knn.score(test_vect, y_test)\n",
    "print(\"Test accuracy : \",accuracy_w2v)\n"
   ]
  },
  {
   "cell_type": "markdown",
   "metadata": {
    "colab_type": "text",
    "id": "L-xcoDmADYNP"
   },
   "source": [
    "### [5.1.4] Applying KNN brute force on TFIDF W2V,<font color='red'> SET 4</font>"
   ]
  },
  {
   "cell_type": "code",
   "execution_count": 40,
   "metadata": {},
   "outputs": [],
   "source": [
    "def tf_idf_transform(model,w_model,list_of_sentence):\n",
    "    # TF-IDF weighted Word2Vec\n",
    "    dictionary = dict(zip(model.get_feature_names(), list(model.idf_)))\n",
    "    tfidf_feat = model.get_feature_names() # tfidf words/col-names\n",
    "    # final_tf_idf is the sparse matrix with row= sentence, col=word and cell_val = tfidf\n",
    "    w2v_words = list(w_model.wv.vocab)\n",
    "    tfidf_sent_vectors = []; # the tfidf-w2v for each sentence/review is stored in this list\n",
    "    row=0;\n",
    "    #print(list_of_sentence)\n",
    "    for sent in tqdm(list_of_sentence): # for each review/sentence \n",
    "        sent_vec = np.zeros(50) # as word vectors are of zero length\n",
    "        weight_sum =0; # num of words with a valid vector in the sentence/review\n",
    "        #print(sent)\n",
    "        #print(\"+++++++\")\n",
    "        for word in sent.split():\n",
    "            #print(word)# for each word in a review/sentence\n",
    "            if word in w2v_words and word in tfidf_feat:\n",
    "                vec = w2v_model.wv[word]\n",
    "    #             tf_idf = tf_idf_matrix[row, tfidf_feat.index(word)]\n",
    "                # to reduce the computation we are \n",
    "                # dictionary[word] = idf value of word in whole courpus\n",
    "                # sent.count(word) = tf valeus of word in this review\n",
    "                tf_idf = dictionary[word]*(sent.count(word)/len(sent))\n",
    "                sent_vec += (vec * tf_idf)\n",
    "                weight_sum += tf_idf\n",
    "                #print(sent_vec)\n",
    "        if weight_sum != 0:\n",
    "            sent_vec /= weight_sum\n",
    "        tfidf_sent_vectors.append(sent_vec)\n",
    "        row += 1\n",
    "    return tfidf_sent_vectors"
   ]
  },
  {
   "cell_type": "code",
   "execution_count": 41,
   "metadata": {
    "colab": {},
    "colab_type": "code",
    "id": "5ffXQxa7DYM9"
   },
   "outputs": [
    {
     "name": "stderr",
     "output_type": "stream",
     "text": [
      "  0%|          | 33/13370 [00:00<01:23, 159.38it/s]"
     ]
    },
    {
     "name": "stdout",
     "output_type": "stream",
     "text": [
      "[('awesome', 0.7998536825180054), ('good', 0.7981560826301575), ('wonderful', 0.7602270245552063), ('excellent', 0.754985511302948), ('fantastic', 0.73101407289505), ('perfect', 0.7148163318634033), ('amazing', 0.6979557275772095), ('delicious', 0.6664267778396606), ('decent', 0.6476465463638306), ('nice', 0.6433314085006714)]\n",
      "==================================================\n",
      "[('ever', 0.8407456278800964), ('best', 0.8003098964691162), ('hottest', 0.776080310344696), ('superior', 0.732591986656189), ('smoothest', 0.7137599587440491), ('experienced', 0.7077652215957642), ('world', 0.704701840877533), ('far', 0.7000476717948914), ('remember', 0.6902618408203125), ('nastiest', 0.6887807846069336)]\n"
     ]
    },
    {
     "name": "stderr",
     "output_type": "stream",
     "text": [
      "100%|██████████| 13370/13370 [01:38<00:00, 136.10it/s]\n",
      "100%|██████████| 8958/8958 [01:03<00:00, 141.21it/s]\n",
      "100%|██████████| 18185/18185 [02:09<00:00, 140.44it/s]\n"
     ]
    }
   ],
   "source": [
    "# Please write all the code with proper documentation\n",
    "X_1, X_test, y_1, y_test = cross_validation.train_test_split(preprocessed_reviews, final['Score'], test_size=0.33, random_state=0)\n",
    "X_tr, X_cv, y_tr, y_cv = cross_validation.train_test_split(X_1, y_1, test_size=0.33)\n",
    "\n",
    "\n",
    "model = TfidfVectorizer()\n",
    "model.fit(X_tr)\n",
    "w2v_model = w2v_fit(X_tr)\n",
    "\n",
    "#count_vect = CountVectorizer(ngram_range=(1,2)) \n",
    "tfidf_feat = model.get_feature_names() # tfidf words/col-names\n",
    "#print(tfidf_feat)\n",
    "    # final_tf_idf is the sparse matrix with row= sentence, col=word and cell_val = tfidf\n",
    "w2v_words = list(w2v_model.wv.vocab)\n",
    "#print(w2v_words)\n",
    "##--- new feature - Corresponding Review length was added to the test, train and cv vectors seperately\n",
    "test_vect = tf_idf_transform(model,w2v_model,X_test)\n",
    "#https://stackoverflow.com/questions/41937786/add-column-to-a-sparse-matrix\n",
    "#test_vect = sparse.hstack((test_vect,len_arr[:,None])).A\n",
    "\n",
    "cv_vect = tf_idf_transform(model,w2v_model,X_cv)\n",
    "#https://stackoverflow.com/questions/41937786/add-column-to-a-sparse-matrix\n",
    "#cv_vect = sparse.hstack((cv_vect,len_arr[:,None])).A\n",
    "\n",
    "train_vect = tf_idf_transform(model,w2v_model,X_tr)\n"
   ]
  },
  {
   "cell_type": "code",
   "execution_count": 42,
   "metadata": {},
   "outputs": [],
   "source": [
    "from sklearn import preprocessing\n",
    "\n",
    "\n",
    "test_vect=preprocessing.normalize(test_vect)\n",
    "cv_vect=preprocessing.normalize(cv_vect)\n",
    "train_vect=preprocessing.normalize(train_vect)\n"
   ]
  },
  {
   "cell_type": "code",
   "execution_count": 43,
   "metadata": {},
   "outputs": [],
   "source": [
    "train_auc = []\n",
    "cv_auc = []\n",
    "K_values = list(range(1,110,10))\n",
    "#K_values = [1].append(K_values)\n",
    "for i in K_values:\n",
    "    knn = KNeighborsClassifier(n_neighbors=i,algorithm='brute')\n",
    "    knn.fit(train_vect, y_tr)\n",
    "\n",
    "    # predict the response on the crossvalidation train\n",
    "    #https://scikit-learn.org/stable/modules/generated/sklearn.neighbors.KNeighborsClassifier.html\n",
    "    cv_pred = knn.predict_proba(cv_vect)\n",
    "    cv_pred = cv_pred[:,1]\n",
    "    train_pred = knn.predict_proba(train_vect)\n",
    "    train_pred = train_pred[:,1]\n",
    "    #print(train_pred,\"------\",cv_pred)\n",
    "    #https://scikit-learn.org/stable/modules/generated/sklearn.metrics.roc_auc_score.html#sklearn.metrics.roc_auc_score\n",
    "    train_auc.append(roc_auc_score(y_tr,train_pred))\n",
    "    cv_auc.append(roc_auc_score(y_cv,cv_pred))"
   ]
  },
  {
   "cell_type": "code",
   "execution_count": 44,
   "metadata": {},
   "outputs": [
    {
     "data": {
      "image/png": "[encoded data removed]",
      "text/plain": [
       "<Figure size 432x288 with 1 Axes>"
      ]
     },
     "metadata": {},
     "output_type": "display_data"
    },
    {
     "name": "stdout",
     "output_type": "stream",
     "text": [
      "Best K-Value 41\n"
     ]
    }
   ],
   "source": [
    "plt.plot(K_values, train_auc, label='Train AUC')\n",
    "plt.plot(K_values, cv_auc, label='CV AUC')\n",
    "plt.legend()\n",
    "plt.show()  \n",
    "print(\"Best K-Value\", K_values[cv_auc.index(max(cv_auc))])"
   ]
  },
  {
   "cell_type": "code",
   "execution_count": 45,
   "metadata": {
    "scrolled": true
   },
   "outputs": [
    {
     "name": "stdout",
     "output_type": "stream",
     "text": [
      "test_auc 0.847806226522732\n"
     ]
    },
    {
     "data": {
      "image/png": "[encoded data removed]",
      "text/plain": [
       "<Figure size 432x288 with 1 Axes>"
      ]
     },
     "metadata": {},
     "output_type": "display_data"
    }
   ],
   "source": [
    "best_knn = KNeighborsClassifier(n_neighbors=K_values[cv_auc.index(max(cv_auc))],algorithm='brute')\n",
    "best_knn.fit(train_vect, y_tr)\n",
    "\n",
    "#https://scikit-learn.org/stable/modules/generated/sklearn.metrics.roc_curve.html\n",
    "train_pred = best_knn.predict_proba(train_vect)\n",
    "train_pred = train_pred[:,1]\n",
    "tr_fpr, tr_tpr, tr_thresh = roc_curve(y_tr, train_pred)\n",
    "\n",
    "#https://scikit-learn.org/stable/modules/generated/sklearn.metrics.roc_curve.html\n",
    "test_pred = best_knn.predict_proba(test_vect)\n",
    "test_pred = test_pred[:,1]\n",
    "test_fpr, test_tpr, test_thresh = roc_curve(y_test, test_pred)\n",
    "\n",
    "auc_tfid_w2v = auc(test_fpr,test_tpr)\n",
    "print(\"test_auc\",auc_tfid_w2v)\n",
    "plt.plot(tr_fpr, tr_tpr, label=\"Train ROC\")\n",
    "plt.plot(test_fpr, test_tpr, label=\"Test ROC\")\n",
    "plt.xlabel(\"FPR\")\n",
    "plt.ylabel(\"TPR\")\n",
    "plt.title(\"ROC CURVE\")\n",
    "plt.legend()\n",
    "plt.show()"
   ]
  },
  {
   "cell_type": "code",
   "execution_count": 46,
   "metadata": {},
   "outputs": [
    {
     "name": "stdout",
     "output_type": "stream",
     "text": [
      "the maximum value of tpr*(1-fpr) 0.6099928221703884 for threshold 0.561\n",
      "Train confusion matrix\n",
      "[[6570 1649]\n",
      " [2361 7605]]\n",
      "Test confusion matrix\n",
      "[[4661 1404]\n",
      " [1760 5545]]\n",
      "Test accuracy :  0.7670157068062827\n"
     ]
    }
   ],
   "source": [
    "from sklearn.metrics import confusion_matrix\n",
    "best_t = find_best_threshold(tr_thresh, tr_fpr, tr_tpr)\n",
    "print(\"Train confusion matrix\")\n",
    "print(confusion_matrix(y_tr, predict_with_best_t(train_pred, best_t)))\n",
    "print(\"Test confusion matrix\")\n",
    "print(confusion_matrix(y_test, predict_with_best_t(test_pred, best_t)))\n",
    "\n",
    "accuracy_tfid_w2v = best_knn.score(test_vect, y_test)\n",
    "print(\"Test accuracy : \",accuracy_tfid_w2v)\n"
   ]
  },
  {
   "cell_type": "markdown",
   "metadata": {
    "colab_type": "text",
    "id": "v2x7vWX-DYNT"
   },
   "source": [
    "## [5.2] Applying KNN kd-tree"
   ]
  },
  {
   "cell_type": "markdown",
   "metadata": {
    "colab_type": "text",
    "id": "jfY8wT02DYNU"
   },
   "source": [
    "### [5.2.1] Applying KNN kd-tree on BOW,<font color='red'> SET 5</font>"
   ]
  },
  {
   "cell_type": "code",
   "execution_count": 47,
   "metadata": {
    "colab": {},
    "colab_type": "code",
    "id": "kiIQYuA2DYNV"
   },
   "outputs": [
    {
     "name": "stdout",
     "output_type": "stream",
     "text": [
      "1    6615\n",
      "0    5539\n",
      "Name: Score, dtype: int64\n",
      "After vectorizations\n",
      "(19851, 100) (19851,)\n",
      "(8508, 100) (8508,)\n",
      "(12154, 100) (12154,)\n",
      "====================================================================================================\n"
     ]
    }
   ],
   "source": [
    "# Please write all the code with proper documentation\n",
    "\n",
    "# Please write all the code with proper documentation\n",
    "from sklearn.cross_validation import train_test_split\n",
    "from sklearn.neighbors import KNeighborsClassifier\n",
    "from sklearn.metrics import roc_auc_score\n",
    "from sklearn.cross_validation import cross_val_score\n",
    "from sklearn import cross_validation\n",
    "\n",
    "X_1, X_test, y_1, y_test = cross_validation.train_test_split(preprocessed_reviews, final['Score'], test_size=0.3, random_state=0)\n",
    "X_tr, X_cv, y_tr, y_cv = cross_validation.train_test_split(X_1, y_1, test_size=0.3)\n",
    "\n",
    "\n",
    "print(y_test.value_counts())\n",
    "\n",
    "count_vect = CountVectorizer(min_df=5,max_features=100)#min_df=5, max_features=1000) \n",
    "count_vect.fit(X_tr)\n",
    "test_vect = count_vect.transform(X_test)\n",
    "cv_vect = count_vect.transform(X_cv)\n",
    "train_vect = count_vect.transform(X_tr)\n",
    "\n",
    "train_vect_dense = train_vect.todense()\n",
    "cv_vect_dense = cv_vect.todense()\n",
    "test_vect_dense = test_vect.todense()\n",
    "\n",
    "print(\"After vectorizations\")\n",
    "print(train_vect.shape, y_tr.shape)\n",
    "print(cv_vect.shape, y_cv.shape)\n",
    "print(test_vect.shape, y_test.shape)\n",
    "print(\"=\"*100)"
   ]
  },
  {
   "cell_type": "code",
   "execution_count": 48,
   "metadata": {},
   "outputs": [
    {
     "name": "stderr",
     "output_type": "stream",
     "text": [
      "100%|██████████| 10/10 [02:35<00:00, 16.14s/it]\n"
     ]
    }
   ],
   "source": [
    "train_auc = []\n",
    "cv_auc = []\n",
    "K_values = list(range(1,100,10))\n",
    "#K_values = [1].append(K_values)\n",
    "for i in tqdm(K_values):\n",
    "    knn = KNeighborsClassifier(n_neighbors=i,algorithm='kd_tree',n_jobs = -1)\n",
    "    knn.fit(train_vect_dense, y_tr)\n",
    "    #https://scikit-learn.org/stable/modules/generated/sklearn.neighbors.KNeighborsClassifier.html\n",
    "    cv_pred = knn.predict_proba(cv_vect_dense)\n",
    "    cv_pred = cv_pred[:,1]\n",
    "    train_pred = knn.predict_proba(train_vect_dense)\n",
    "    train_pred = train_pred[:,1]\n",
    "    #print(train_pred,\"------\",cv_pred)\n",
    "    #https://scikit-learn.org/stable/modules/generated/sklearn.metrics.roc_auc_score.html#sklearn.metrics.roc_auc_score\n",
    "    train_auc.append(roc_auc_score(y_tr,train_pred))\n",
    "    cv_auc.append(roc_auc_score(y_cv,cv_pred))\n",
    "    "
   ]
  },
  {
   "cell_type": "code",
   "execution_count": 49,
   "metadata": {},
   "outputs": [
    {
     "data": {
      "image/png": "[encoded data removed]",
      "text/plain": [
       "<Figure size 432x288 with 1 Axes>"
      ]
     },
     "metadata": {},
     "output_type": "display_data"
    },
    {
     "name": "stdout",
     "output_type": "stream",
     "text": [
      "Best K-Value 41\n"
     ]
    }
   ],
   "source": [
    "plt.plot(K_values, train_auc, label='Train AUC')\n",
    "plt.plot(K_values, cv_auc, label='CV AUC')\n",
    "plt.xlabel('K-value')\n",
    "plt.ylabel('ROC_AUC_SCORE')\n",
    "plt.legend()\n",
    "plt.show()  \n",
    "print(\"Best K-Value\", K_values[cv_auc.index(max(cv_auc))])"
   ]
  },
  {
   "cell_type": "code",
   "execution_count": 50,
   "metadata": {},
   "outputs": [
    {
     "name": "stdout",
     "output_type": "stream",
     "text": [
      "test_auc 0.7692477869766189\n"
     ]
    },
    {
     "data": {
      "image/png": "[encoded data removed]",
      "text/plain": [
       "<Figure size 432x288 with 1 Axes>"
      ]
     },
     "metadata": {},
     "output_type": "display_data"
    }
   ],
   "source": [
    "best_knn = KNeighborsClassifier(n_neighbors=K_values[cv_auc.index(max(cv_auc))],algorithm='kd_tree')\n",
    "best_knn.fit(train_vect_dense, y_tr)\n",
    "\n",
    "#https://scikit-learn.org/stable/modules/generated/sklearn.metrics.roc_curve.html\n",
    "train_pred = best_knn.predict_proba(train_vect_dense)\n",
    "train_pred = train_pred[:,1]\n",
    "#print(np.unique(train_pred))\n",
    "\n",
    "#https://scikit-learn.org/stable/modules/generated/sklearn.metrics.roc_curve.html\n",
    "test_pred = best_knn.predict_proba(test_vect_dense)\n",
    "test_pred = test_pred[:,1]\n",
    "#print(np.unique(test_pred))\n",
    "test_fpr, test_tpr, test_thresh = roc_curve(y_test, test_pred)\n",
    "train_fpr, train_tpr, train_thresh = roc_curve(y_tr, train_pred)\n",
    "\n",
    "auc_bow_k = auc(test_fpr,test_tpr)\n",
    "print(\"test_auc\",auc_bow_k)\n",
    "\n",
    "plt.plot(tr_fpr, tr_tpr, label=\"train AUC =\"+str(auc(tr_fpr, tr_tpr)))\n",
    "plt.plot(test_fpr, test_tpr, label=\"train AUC =\"+str(auc(test_fpr, test_tpr)))\n",
    "\n",
    "plt.xlabel(\"FPR\")\n",
    "plt.ylabel(\"TPR\")\n",
    "plt.title(\"ROC CURVE\")\n",
    "plt.legend()\n",
    "plt.show()"
   ]
  },
  {
   "cell_type": "code",
   "execution_count": 51,
   "metadata": {},
   "outputs": [
    {
     "name": "stdout",
     "output_type": "stream",
     "text": [
      "the maximum value of tpr*(1-fpr) 0.6099928221703884 for threshold 0.561\n",
      "Train confusion matrix\n",
      "[[7709 1339]\n",
      " [4573 6230]]\n",
      "Test confusion matrix\n",
      "[[4598  941]\n",
      " [2978 3637]]\n",
      "Test accuracy :  0.6922823761724535\n"
     ]
    }
   ],
   "source": [
    "from sklearn.metrics import confusion_matrix\n",
    "best_t = find_best_threshold(tr_thresh, tr_fpr, tr_tpr)\n",
    "print(\"Train confusion matrix\")\n",
    "print(confusion_matrix(y_tr, predict_with_best_t(train_pred, best_t)))\n",
    "print(\"Test confusion matrix\")\n",
    "print(confusion_matrix(y_test, predict_with_best_t(test_pred, best_t)))\n",
    "\n",
    "accuracy_bow_k = best_knn.score(test_vect_dense, y_test)\n",
    "print(\"Test accuracy : \",accuracy_bow_k)\n"
   ]
  },
  {
   "cell_type": "markdown",
   "metadata": {
    "colab_type": "text",
    "id": "kG-xYnK7DYNt"
   },
   "source": [
    "### [5.2.2] Applying KNN kd-tree on TFIDF,<font color='red'> SET 6</font>"
   ]
  },
  {
   "cell_type": "code",
   "execution_count": 52,
   "metadata": {
    "colab": {},
    "colab_type": "code",
    "id": "5ffXQxa7DYM9"
   },
   "outputs": [
    {
     "name": "stdout",
     "output_type": "stream",
     "text": [
      "(18185, 500)\n"
     ]
    }
   ],
   "source": [
    "# Please write all the code with proper documentation\n",
    "from sklearn import preprocessing\n",
    "from sklearn.preprocessing import Normalizer\n",
    "\n",
    "X_1, X_test, y_1, y_test = cross_validation.train_test_split(preprocessed_reviews, final['Score'], test_size=0.33)\n",
    "X_tr, X_cv, y_tr, y_cv = cross_validation.train_test_split(X_1, y_1, test_size=0.33)\n",
    "\n",
    "count_vect = TfidfVectorizer(min_df=5,max_features=500)#ngram_range=(1,2), min_df=5,max_features=1000) \n",
    "\n",
    "count_vect.fit(X_tr)\n",
    "test_vect = count_vect.transform(X_test)\n",
    "cv_vect = count_vect.transform(X_cv)\n",
    "train_vect = count_vect.transform(X_tr)\n",
    "\n",
    "\n",
    "train_vect_dense = train_vect.todense()\n",
    "cv_vect_dense = cv_vect.todense()\n",
    "test_vect_dense = test_vect.todense()\n",
    "\n",
    "#print(train_vect.shape)\n",
    "test_vect=preprocessing.normalize(test_vect)\n",
    "cv_vect=preprocessing.normalize(cv_vect)\n",
    "train_vect=preprocessing.normalize(train_vect)\n",
    "print(train_vect.shape)"
   ]
  },
  {
   "cell_type": "code",
   "execution_count": 53,
   "metadata": {},
   "outputs": [
    {
     "name": "stderr",
     "output_type": "stream",
     "text": [
      "100%|██████████| 10/10 [12:15<00:00, 75.54s/it]\n"
     ]
    }
   ],
   "source": [
    "from scipy.sparse import csr_matrix \n",
    "train_auc = []\n",
    "cv_auc = []\n",
    "K_values = list(range(1,100,10))\n",
    "#K_values = [1].append(K_values)\n",
    "\n",
    "for i in tqdm(K_values):\n",
    "    knn = KNeighborsClassifier(n_neighbors=i,algorithm='kd_tree',n_jobs=-1)\n",
    "    knn.fit(train_vect_dense, y_tr)\n",
    "\n",
    "    #https://scikit-learn.org/stable/modules/generated/sklearn.neighbors.KNeighborsClassifier.html\n",
    "    cv_pred = knn.predict_proba(cv_vect_dense)\n",
    "    #cv_pred = cv_pred[:].max(axis=1)\n",
    "    cv_pred = cv_pred[:,1]\n",
    "    train_pred = knn.predict_proba(train_vect_dense)\n",
    "    train_pred = train_pred[:,1]\n",
    "    #https://scikit-learn.org/stable/modules/generated/sklearn.metrics.roc_auc_score.html#sklearn.metrics.roc_auc_score\n",
    "    train_auc.append(roc_auc_score(y_tr,train_pred))\n",
    "    cv_auc.append(roc_auc_score(y_cv,cv_pred))"
   ]
  },
  {
   "cell_type": "code",
   "execution_count": 54,
   "metadata": {},
   "outputs": [
    {
     "data": {
      "image/png": "[encoded data removed]",
      "text/plain": [
       "<Figure size 432x288 with 1 Axes>"
      ]
     },
     "metadata": {},
     "output_type": "display_data"
    },
    {
     "name": "stdout",
     "output_type": "stream",
     "text": [
      "Best K-Value 91\n"
     ]
    }
   ],
   "source": [
    "plt.plot(K_values, train_auc, label='Train AUC')\n",
    "plt.plot(K_values, cv_auc, label='CV AUC')\n",
    "plt.legend()\n",
    "plt.show()  \n",
    "print(\"Best K-Value\", K_values[cv_auc.index(max(cv_auc))])"
   ]
  },
  {
   "cell_type": "code",
   "execution_count": 55,
   "metadata": {},
   "outputs": [
    {
     "name": "stdout",
     "output_type": "stream",
     "text": [
      "test_auc 0.8289482460293632\n"
     ]
    },
    {
     "data": {
      "image/png": "[encoded data removed]",
      "text/plain": [
       "<Figure size 432x288 with 1 Axes>"
      ]
     },
     "metadata": {},
     "output_type": "display_data"
    }
   ],
   "source": [
    "best_knn = KNeighborsClassifier(n_neighbors=K_values[cv_auc.index(max(cv_auc))],algorithm='kd_tree')\n",
    "best_knn.fit(train_vect_dense, y_tr)\n",
    "\n",
    "#https://scikit-learn.org/stable/modules/generated/sklearn.metrics.roc_curve.html\n",
    "train_pred = best_knn.predict_proba(train_vect_dense)\n",
    "train_pred = train_pred[:,1]\n",
    "tr_fpr, tr_tpr, tr_thresh = roc_curve(y_tr, train_pred)\n",
    "\n",
    "#https://scikit-learn.org/stable/modules/generated/sklearn.metrics.roc_curve.html\n",
    "test_pred = best_knn.predict_proba(test_vect_dense)\n",
    "test_pred = test_pred[:,1]\n",
    "test_fpr, test_tpr, test_thresh = roc_curve(y_test, test_pred)\n",
    "\n",
    "auc_tfid_k = auc(test_fpr,test_tpr)\n",
    "print(\"test_auc\",auc_tfid_k)\n",
    "plt.plot(tr_fpr, tr_tpr, label=\"Train ROC\")\n",
    "plt.plot(test_fpr, test_tpr, label=\"Test ROC\")\n",
    "plt.plot(tr_fpr, tr_tpr, label=\"train AUC =\"+str(auc(tr_fpr, tr_tpr)))\n",
    "plt.plot(test_fpr, test_tpr, label=\"test AUC =\"+str(auc(test_fpr, test_tpr)))\n",
    "plt.xlabel(\"FPR\")\n",
    "plt.ylabel(\"TPR\")\n",
    "plt.title(\"ROC CURVE\")\n",
    "plt.legend()\n",
    "plt.show()"
   ]
  },
  {
   "cell_type": "code",
   "execution_count": 56,
   "metadata": {},
   "outputs": [
    {
     "name": "stdout",
     "output_type": "stream",
     "text": [
      "the maximum value of tpr*(1-fpr) 0.5871500331283056 for threshold 0.626\n",
      "Train confusion matrix\n",
      "[[6471 1819]\n",
      " [2452 7443]]\n",
      "Test confusion matrix\n",
      "[[4647 1442]\n",
      " [1912 5369]]\n",
      "Test accuracy :  0.600074794315632\n"
     ]
    }
   ],
   "source": [
    "from sklearn.metrics import confusion_matrix\n",
    "best_t = find_best_threshold(tr_thresh, tr_fpr, tr_tpr)\n",
    "print(\"Train confusion matrix\")\n",
    "print(confusion_matrix(y_tr, predict_with_best_t(train_pred, best_t)))\n",
    "print(\"Test confusion matrix\")\n",
    "print(confusion_matrix(y_test, predict_with_best_t(test_pred, best_t)))\n",
    "\n",
    "accuracy_tfid_k = best_knn.score(test_vect_dense, y_test)\n",
    "print(\"Test accuracy : \",accuracy_tfid_k)\n"
   ]
  },
  {
   "cell_type": "markdown",
   "metadata": {
    "colab_type": "text",
    "id": "ddU0dZI0DYNx"
   },
   "source": [
    "### [5.2.3] Applying KNN kd-tree on AVG W2V,<font color='red'> SET 3</font>"
   ]
  },
  {
   "cell_type": "code",
   "execution_count": 57,
   "metadata": {},
   "outputs": [],
   "source": [
    "def w2v_fit(preprocessed_reviews):\n",
    "    i=0\n",
    "    list_of_sentance=[]\n",
    "    for sentance in preprocessed_reviews:\n",
    "        list_of_sentance.append(sentance.split())\n",
    "\n",
    "    is_your_ram_gt_16g=False\n",
    "    want_to_use_google_w2v = False\n",
    "    want_to_train_w2v = True\n",
    "\n",
    "    if want_to_train_w2v:\n",
    "        # min_count = 5 considers only words that occured atleast 5 times\n",
    "        w2v_model=Word2Vec(list_of_sentance,min_count=5,size=50, workers=4)\n",
    "        print(w2v_model.wv.most_similar('great'))\n",
    "        print('='*50)\n",
    "        print(w2v_model.wv.most_similar('worst'))\n",
    "\n",
    "    elif want_to_use_google_w2v and is_your_ram_gt_16g:\n",
    "        if os.path.isfile('GoogleNews-vectors-negative300.bin'):\n",
    "            w2v_model=KeyedVectors.load_word2vec_format('GoogleNews-vectors-negative300.bin', binary=True)\n",
    "            print(w2v_model.wv.most_similar('great'))\n",
    "            print(w2v_model.wv.most_similar('worst'))\n",
    "        else:\n",
    "            print(\"you don't have gogole's word2vec file, keep want_to_train_w2v = True, to train your own w2v \")\n",
    "    return w2v_model"
   ]
  },
  {
   "cell_type": "code",
   "execution_count": 58,
   "metadata": {
    "colab": {},
    "colab_type": "code",
    "id": "bT4Dm8fiDYNL"
   },
   "outputs": [],
   "source": [
    "# average Word2Vec\n",
    "# compute average word2vec for each review.\n",
    "def avg_w2v_transform(w2v_model,list_of_sentence):\n",
    "    sent_vectors = []; # the avg-w2v for each sentence/review is stored in this list\n",
    "    #w2v_model = word2Vec(list_of_sentence)\n",
    "    w2v_words = list(w2v_model.wv.vocab)\n",
    "    for sent in tqdm(list_of_sentence): # for each review/sentence\n",
    "        sent_vec = np.zeros(50) # as word vectors are of zero length 50, you might need to change this to 300 if you use google's w2v\n",
    "        cnt_words =0; # num of words with a valid vector in the sentence/review\n",
    "        word_len = 0;\n",
    "        for word in sent.split(): # for each word in a review/sentence\n",
    "            if word in w2v_words:\n",
    "                word_len += 1\n",
    "                vec = w2v_model.wv[word]\n",
    "                sent_vec += vec\n",
    "                cnt_words += 1\n",
    "        if cnt_words != 0:\n",
    "            sent_vec /= cnt_words\n",
    "        sent_vec = sent_vec.tolist()\n",
    "        sent_vec.append(word_len) \n",
    "        sent_vectors.append(sent_vec)\n",
    "    return np.array(sent_vectors)"
   ]
  },
  {
   "cell_type": "code",
   "execution_count": 59,
   "metadata": {
    "colab": {},
    "colab_type": "code",
    "id": "5ffXQxa7DYM9"
   },
   "outputs": [
    {
     "name": "stderr",
     "output_type": "stream",
     "text": [
      "  1%|          | 102/13370 [00:00<00:13, 1014.06it/s]"
     ]
    },
    {
     "name": "stdout",
     "output_type": "stream",
     "text": [
      "[('excellent', 0.8033679723739624), ('awesome', 0.7895879745483398), ('good', 0.784648597240448), ('wonderful', 0.7775641679763794), ('perfect', 0.7547731399536133), ('amazing', 0.7472608089447021), ('nice', 0.6775152683258057), ('fantastic', 0.6692057847976685), ('quick', 0.663090169429779), ('delicious', 0.6627322435379028)]\n",
      "==================================================\n",
      "[('ever', 0.8510439991950989), ('nastiest', 0.8210798501968384), ('best', 0.7804007530212402), ('far', 0.7680622935295105), ('hottest', 0.747269332408905), ('tried', 0.7431512475013733), ('eaten', 0.727228045463562), ('world', 0.7026196718215942), ('fluff', 0.6960117816925049), ('lover', 0.6857409477233887)]\n"
     ]
    },
    {
     "name": "stderr",
     "output_type": "stream",
     "text": [
      "100%|██████████| 13370/13370 [00:12<00:00, 1034.86it/s]\n",
      "100%|██████████| 8958/8958 [00:09<00:00, 951.57it/s] \n",
      "100%|██████████| 18185/18185 [00:16<00:00, 1092.86it/s]\n"
     ]
    }
   ],
   "source": [
    "\n",
    "X_1, X_test, y_1, y_test = cross_validation.train_test_split(preprocessed_reviews, final['Score'], test_size=0.33, random_state=0)\n",
    "X_tr, X_cv, y_tr, y_cv = cross_validation.train_test_split(X_1, y_1, test_size=0.33)\n",
    "\n",
    "list_of_sentance=[]\n",
    "for sentance in X_tr:\n",
    "    list_of_sentance.append(sentance.split())\n",
    "\n",
    "w2v_model=w2v_fit(X_tr)\n",
    "#w2v_words = list(w2v_model.wv.vocab)\n",
    "\n",
    "test_vect = avg_w2v_transform(w2v_model,X_test)\n",
    "cv_vect = avg_w2v_transform(w2v_model,X_cv)\n",
    "train_vect = avg_w2v_transform(w2v_model,X_tr)"
   ]
  },
  {
   "cell_type": "code",
   "execution_count": 60,
   "metadata": {},
   "outputs": [],
   "source": [
    "from sklearn import preprocessing\n",
    "\n",
    "\n",
    "test_vect=preprocessing.normalize(test_vect)\n",
    "cv_vect=preprocessing.normalize(cv_vect)\n",
    "train_vect=preprocessing.normalize(train_vect)"
   ]
  },
  {
   "cell_type": "code",
   "execution_count": 61,
   "metadata": {},
   "outputs": [
    {
     "name": "stderr",
     "output_type": "stream",
     "text": [
      "100%|██████████| 10/10 [04:19<00:00, 28.45s/it]\n"
     ]
    }
   ],
   "source": [
    "train_auc = []\n",
    "cv_auc = []\n",
    "K_values = list(range(1,100,10))\n",
    "#K_values = [1].append(K_values)\n",
    "for i in tqdm(K_values):\n",
    "    knn = KNeighborsClassifier(n_neighbors=i,algorithm='kd_tree')\n",
    "    knn.fit(train_vect, y_tr)\n",
    "    #https://scikit-learn.org/stable/modules/generated/sklearn.neighbors.KNeighborsClassifier.html\n",
    "    cv_pred = knn.predict_proba(cv_vect)\n",
    "    cv_pred = cv_pred[:,1]\n",
    "    train_pred = knn.predict_proba(train_vect)\n",
    "    train_pred = train_pred[:,1]\n",
    "    #https://scikit-learn.org/stable/modules/generated/sklearn.metrics.roc_auc_score.html#sklearn.metrics.roc_auc_score\n",
    "    train_auc.append(roc_auc_score(y_tr,train_pred))\n",
    "    cv_auc.append(roc_auc_score(y_cv,cv_pred))"
   ]
  },
  {
   "cell_type": "code",
   "execution_count": 62,
   "metadata": {},
   "outputs": [
    {
     "data": {
      "image/png": "[encoded data removed]",
      "text/plain": [
       "<Figure size 432x288 with 1 Axes>"
      ]
     },
     "metadata": {},
     "output_type": "display_data"
    },
    {
     "name": "stdout",
     "output_type": "stream",
     "text": [
      "Best K-Value 71\n"
     ]
    }
   ],
   "source": [
    "plt.plot(K_values, train_auc, label='Train AUC')\n",
    "plt.plot(K_values, cv_auc, label='CV AUC')\n",
    "plt.legend()\n",
    "plt.show()  \n",
    "print(\"Best K-Value\", K_values[cv_auc.index(max(cv_auc))])"
   ]
  },
  {
   "cell_type": "code",
   "execution_count": 63,
   "metadata": {},
   "outputs": [
    {
     "name": "stdout",
     "output_type": "stream",
     "text": [
      "test_auc 0.8658140958687908\n"
     ]
    },
    {
     "data": {
      "image/png": "[encoded data removed]",
      "text/plain": [
       "<Figure size 432x288 with 1 Axes>"
      ]
     },
     "metadata": {},
     "output_type": "display_data"
    }
   ],
   "source": [
    "best_knn = KNeighborsClassifier(n_neighbors=K_values[cv_auc.index(max(cv_auc))],algorithm='kd_tree')\n",
    "best_knn.fit(train_vect, y_tr)\n",
    "\n",
    "#https://scikit-learn.org/stable/modules/generated/sklearn.metrics.roc_curve.html\n",
    "train_pred = best_knn.predict_proba(train_vect)\n",
    "train_pred = train_pred[:,1]\n",
    "tr_fpr, tr_tpr, tr_thresh = roc_curve(y_tr, train_pred)\n",
    "\n",
    "#https://scikit-learn.org/stable/modules/generated/sklearn.metrics.roc_curve.html\n",
    "test_pred = best_knn.predict_proba(test_vect)\n",
    "test_pred = test_pred[:,1]\n",
    "test_fpr, test_tpr, test_thresh = roc_curve(y_test, test_pred)\n",
    "auc_w2v_k = auc(test_fpr,test_tpr)\n",
    "print(\"test_auc\",auc_w2v_k)\n",
    "plt.plot(tr_fpr, tr_tpr, label=\"train AUC =\"+str(auc(tr_fpr, tr_tpr)))\n",
    "plt.plot(test_fpr, test_tpr, label=\"test AUC =\"+str(auc(test_fpr, test_tpr)))\n",
    "plt.xlabel(\"FPR\")\n",
    "plt.ylabel(\"TPR\")\n",
    "plt.title(\"ROC CURVE\")\n",
    "plt.legend()\n",
    "plt.show()"
   ]
  },
  {
   "cell_type": "code",
   "execution_count": 64,
   "metadata": {
    "scrolled": false
   },
   "outputs": [
    {
     "name": "stdout",
     "output_type": "stream",
     "text": [
      "the maximum value of tpr*(1-fpr) 0.634502607813893 for threshold 0.535\n",
      "Train confusion matrix\n",
      "[[6650 1597]\n",
      " [2118 7820]]\n",
      "Test confusion matrix\n",
      "[[4754 1311]\n",
      " [1651 5654]]\n",
      "Test accuracy :  0.7817501869857891\n"
     ]
    }
   ],
   "source": [
    "from sklearn.metrics import confusion_matrix\n",
    "best_t = find_best_threshold(tr_thresh, tr_fpr, tr_tpr)\n",
    "print(\"Train confusion matrix\")\n",
    "print(confusion_matrix(y_tr, predict_with_best_t(train_pred, best_t)))\n",
    "print(\"Test confusion matrix\")\n",
    "print(confusion_matrix(y_test, predict_with_best_t(test_pred, best_t)))\n",
    "\n",
    "accuracy_w2v_k = best_knn.score(test_vect, y_test)\n",
    "print(\"Test accuracy : \",accuracy_w2v_k)\n"
   ]
  },
  {
   "cell_type": "markdown",
   "metadata": {
    "colab_type": "text",
    "id": "IQUILTzFDYN0"
   },
   "source": [
    "### [5.2.4] Applying KNN kd-tree on TFIDF W2V,<font color='red'> SET 4</font>"
   ]
  },
  {
   "cell_type": "code",
   "execution_count": 65,
   "metadata": {
    "colab": {},
    "colab_type": "code",
    "id": "5ffXQxa7DYM9"
   },
   "outputs": [
    {
     "name": "stderr",
     "output_type": "stream",
     "text": [
      "  0%|          | 17/13370 [00:00<01:19, 167.62it/s]"
     ]
    },
    {
     "name": "stdout",
     "output_type": "stream",
     "text": [
      "[('good', 0.8192682266235352), ('excellent', 0.7996620535850525), ('wonderful', 0.7894243001937866), ('awesome', 0.782963216304779), ('perfect', 0.7347865700721741), ('amazing', 0.6983234882354736), ('decent', 0.6900320649147034), ('quick', 0.6896303296089172), ('especially', 0.68128502368927), ('well', 0.6744953393936157)]\n",
      "==================================================\n",
      "[('ever', 0.7872928380966187), ('best', 0.7799702882766724), ('disliked', 0.7574388980865479), ('nastiest', 0.7386596202850342), ('hottest', 0.7321525812149048), ('horrible', 0.7024319171905518), ('world', 0.6821147203445435), ('smoothest', 0.6815444231033325), ('experienced', 0.6774165630340576), ('eaten', 0.6764891147613525)]\n"
     ]
    },
    {
     "name": "stderr",
     "output_type": "stream",
     "text": [
      "100%|██████████| 13370/13370 [01:38<00:00, 135.09it/s]\n",
      "100%|██████████| 8958/8958 [01:06<00:00, 133.95it/s]\n",
      "100%|██████████| 18185/18185 [02:13<00:00, 136.00it/s]\n"
     ]
    }
   ],
   "source": [
    "# Please write all the code with proper documentation\n",
    "X_1, X_test, y_1, y_test = cross_validation.train_test_split(preprocessed_reviews, final['Score'], test_size=0.33, random_state=0)\n",
    "X_tr, X_cv, y_tr, y_cv = cross_validation.train_test_split(X_1, y_1, test_size=0.33)\n",
    "\n",
    "\n",
    "model = TfidfVectorizer()\n",
    "model.fit(X_tr)\n",
    "w2v_model = w2v_fit(X_tr)\n",
    "\n",
    "#count_vect = CountVectorizer(ngram_range=(1,2)) \n",
    "tfidf_feat = model.get_feature_names() # tfidf words/col-names\n",
    "#print(tfidf_feat)\n",
    "    # final_tf_idf is the sparse matrix with row= sentence, col=word and cell_val = tfidf\n",
    "w2v_words = list(w2v_model.wv.vocab)\n",
    "#print(w2v_words)\n",
    "##--- new feature - Corresponding Review length was added to the test, train and cv vectors seperately\n",
    "test_vect = tf_idf_transform(model,w2v_model,X_test)\n",
    "#https://stackoverflow.com/questions/41937786/add-column-to-a-sparse-matrix\n",
    "#test_vect = sparse.hstack((test_vect,len_arr[:,None])).A\n",
    "\n",
    "cv_vect = tf_idf_transform(model,w2v_model,X_cv)\n",
    "#https://stackoverflow.com/questions/41937786/add-column-to-a-sparse-matrix\n",
    "#cv_vect = sparse.hstack((cv_vect,len_arr[:,None])).A\n",
    "\n",
    "train_vect = tf_idf_transform(model,w2v_model,X_tr)\n"
   ]
  },
  {
   "cell_type": "code",
   "execution_count": 66,
   "metadata": {},
   "outputs": [],
   "source": [
    "from sklearn import preprocessing\n",
    "\n",
    "\n",
    "test_vect=preprocessing.normalize(test_vect)\n",
    "cv_vect=preprocessing.normalize(cv_vect)\n",
    "train_vect=preprocessing.normalize(train_vect)\n"
   ]
  },
  {
   "cell_type": "code",
   "execution_count": 67,
   "metadata": {},
   "outputs": [
    {
     "name": "stdout",
     "output_type": "stream",
     "text": [
      "[ 0.11087772 -0.23936488 -0.25637915  0.11381015 -0.06732539 -0.03469526\n",
      " -0.00758352 -0.1057861   0.02491225 -0.05842095  0.0240777   0.00923636\n",
      " -0.02959191 -0.26146931  0.16085796 -0.16457531  0.11780185 -0.04816162\n",
      " -0.17065313 -0.10104775  0.40738853  0.00745566  0.19023979 -0.0348534\n",
      " -0.12079089 -0.02708758 -0.12987058  0.17917065 -0.04314873 -0.04638817\n",
      " -0.0810758  -0.23763364 -0.18652523 -0.0410039   0.07728023 -0.01137522\n",
      "  0.0196215   0.29566153  0.07537057  0.09995291 -0.11259662 -0.15813216\n",
      "  0.22013837 -0.03311653 -0.10149643  0.07846037 -0.11993394  0.11342481\n",
      "  0.19936003  0.02822038]\n"
     ]
    }
   ],
   "source": [
    "print(test_vect[0])"
   ]
  },
  {
   "cell_type": "code",
   "execution_count": 68,
   "metadata": {},
   "outputs": [],
   "source": [
    "train_auc = []\n",
    "cv_auc = []\n",
    "K_values = list(range(1,110,10))\n",
    "#K_values = [1].append(K_values)\n",
    "for i in K_values:\n",
    "    knn = KNeighborsClassifier(n_neighbors=i,algorithm='kd_tree')\n",
    "    knn.fit(train_vect, y_tr)\n",
    "\n",
    "    # predict the response on the crossvalidation train\n",
    "    #https://scikit-learn.org/stable/modules/generated/sklearn.neighbors.KNeighborsClassifier.html\n",
    "    cv_pred = knn.predict_proba(cv_vect)\n",
    "    cv_pred = cv_pred[:,1]\n",
    "    train_pred = knn.predict_proba(train_vect)\n",
    "    train_pred = train_pred[:,1]\n",
    "    #print(train_pred,\"------\",cv_pred)\n",
    "    #https://scikit-learn.org/stable/modules/generated/sklearn.metrics.roc_auc_score.html#sklearn.metrics.roc_auc_score\n",
    "    train_auc.append(roc_auc_score(y_tr,train_pred))\n",
    "    cv_auc.append(roc_auc_score(y_cv,cv_pred))"
   ]
  },
  {
   "cell_type": "code",
   "execution_count": 69,
   "metadata": {},
   "outputs": [
    {
     "data": {
      "image/png": "[encoded data removed]",
      "text/plain": [
       "<Figure size 432x288 with 1 Axes>"
      ]
     },
     "metadata": {},
     "output_type": "display_data"
    },
    {
     "name": "stdout",
     "output_type": "stream",
     "text": [
      "Best K-Value 41\n"
     ]
    }
   ],
   "source": [
    "plt.plot(K_values, train_auc, label='Train AUC')\n",
    "plt.plot(K_values, cv_auc, label='CV AUC')\n",
    "plt.legend()\n",
    "plt.show()  \n",
    "print(\"Best K-Value\", K_values[cv_auc.index(max(cv_auc))])"
   ]
  },
  {
   "cell_type": "code",
   "execution_count": 70,
   "metadata": {
    "scrolled": true
   },
   "outputs": [
    {
     "name": "stdout",
     "output_type": "stream",
     "text": [
      "test_auc 0.8517108463920127\n"
     ]
    },
    {
     "data": {
      "image/png": "[encoded data removed]",
      "text/plain": [
       "<Figure size 432x288 with 1 Axes>"
      ]
     },
     "metadata": {},
     "output_type": "display_data"
    }
   ],
   "source": [
    "best_knn = KNeighborsClassifier(n_neighbors=K_values[cv_auc.index(max(cv_auc))],algorithm='kd_tree')\n",
    "best_knn.fit(train_vect, y_tr)\n",
    "\n",
    "#https://scikit-learn.org/stable/modules/generated/sklearn.metrics.roc_curve.html\n",
    "train_pred = best_knn.predict_proba(train_vect)\n",
    "train_pred = train_pred[:,1]\n",
    "tr_fpr, tr_tpr, tr_thresh = roc_curve(y_tr, train_pred)\n",
    "\n",
    "#https://scikit-learn.org/stable/modules/generated/sklearn.metrics.roc_curve.html\n",
    "test_pred = best_knn.predict_proba(test_vect)\n",
    "test_pred = test_pred[:,1]\n",
    "test_fpr, test_tpr, test_thresh = roc_curve(y_test, test_pred)\n",
    "\n",
    "auc_tfid_w2v_k = auc(test_fpr,test_tpr)\n",
    "print(\"test_auc\",auc_tfid_w2v_k)\n",
    "\n",
    "plt.plot(tr_fpr, tr_tpr, label=\"Train ROC\")\n",
    "plt.plot(test_fpr, test_tpr, label=\"Test ROC\")\n",
    "plt.xlabel(\"FPR\")\n",
    "plt.ylabel(\"TPR\")\n",
    "plt.title(\"ROC CURVE\")\n",
    "plt.legend()\n",
    "plt.show()"
   ]
  },
  {
   "cell_type": "code",
   "execution_count": 71,
   "metadata": {},
   "outputs": [
    {
     "name": "stdout",
     "output_type": "stream",
     "text": [
      "the maximum value of tpr*(1-fpr) 0.6102558759463205 for threshold 0.561\n",
      "Train confusion matrix\n",
      "[[6670 1640]\n",
      " [2367 7508]]\n",
      "Test confusion matrix\n",
      "[[4725 1340]\n",
      " [1712 5593]]\n",
      "Test accuracy :  0.7680628272251309\n"
     ]
    }
   ],
   "source": [
    "from sklearn.metrics import confusion_matrix\n",
    "best_t = find_best_threshold(tr_thresh, tr_fpr, tr_tpr)\n",
    "print(\"Train confusion matrix\")\n",
    "print(confusion_matrix(y_tr, predict_with_best_t(train_pred, best_t)))\n",
    "print(\"Test confusion matrix\")\n",
    "print(confusion_matrix(y_test, predict_with_best_t(test_pred, best_t)))\n",
    "\n",
    "accuracy_tfid_w2v_k = best_knn.score(test_vect, y_test)\n",
    "print(\"Test accuracy : \",accuracy_tfid_w2v_k)\n"
   ]
  },
  {
   "cell_type": "markdown",
   "metadata": {
    "colab_type": "text",
    "id": "crZ4qBCyDYN7"
   },
   "source": [
    "# [6] Conclusions"
   ]
  },
  {
   "cell_type": "code",
   "execution_count": 73,
   "metadata": {
    "colab": {},
    "colab_type": "code",
    "id": "9OacHxi1DYN8"
   },
   "outputs": [
    {
     "name": "stdout",
     "output_type": "stream",
     "text": [
      "+--------+------------+----------------+--------------------+\n",
      "| Model  | Vectoriser | Hyperparameter |        AUC         |\n",
      "+--------+------------+----------------+--------------------+\n",
      "|  KNN   |    BOW     |       91       | 0.7701948950730318 |\n",
      "|  KNN   |   TFIDF    |       91       | 0.847763353667609  |\n",
      "|  KNN   |   AVGW2V   |       41       | 0.861814012356442  |\n",
      "|  KNN   | TFIDF W2V  |       51       | 0.847806226522732  |\n",
      "| KNN-kd |    BOW     |       41       | 0.7692477869766189 |\n",
      "| KNN-kd |   TFIDF    |       91       | 0.8289482460293632 |\n",
      "| KNN-kd |   AVGW2V   |       71       | 0.8658140958687908 |\n",
      "| KNN-kd | TFIDF W2V  |       41       | 0.8517108463920127 |\n",
      "+--------+------------+----------------+--------------------+\n"
     ]
    }
   ],
   "source": [
    "# Please compare all your models using Prettytable library\n",
    "\n",
    "from prettytable import PrettyTable\n",
    "\n",
    "## Prettytable reference: http://zetcode.com/python/prettytable/\n",
    "x = PrettyTable([\"Model\", \"Vectoriser\", \"Hyperparameter\", \"AUC\"])\n",
    "\n",
    "x.add_row([\"KNN\",\"BOW\", 91 ,auc_bow])\n",
    "x.add_row([\"KNN\",\"TFIDF\",  91,auc_tfid])\n",
    "x.add_row([\"KNN\",\"AVGW2V\", 41,auc_w2v])\n",
    "x.add_row([\"KNN\",\"TFIDF W2V\",51, auc_tfid_w2v])\n",
    "\n",
    "x.add_row([\"KNN-kd\",\"BOW\", 41,auc_bow_k])\n",
    "x.add_row([\"KNN-kd\",\"TFIDF\",91 ,auc_tfid_k])\n",
    "x.add_row([\"KNN-kd\",\"AVGW2V\", 71,auc_w2v_k])\n",
    "x.add_row([\"KNN-kd\",\"TFIDF W2V\",41 ,auc_tfid_w2v_k])\n",
    "print(x.get_string())"
   ]
  },
  {
   "cell_type": "markdown",
   "metadata": {},
   "source": [
    "Summary:\n",
    "\n",
    "Amazon food review classification was done with KNN classifier with BOW, TFIDF, AVGW2V and TFIDFW2V vectorizers.\n",
    "\n",
    "1. Text preprocessing was done on the reviews column of the dataset.\n",
    "2. For KNN-kd model, incase of BOW and TFIDF vectorizers the input vectors were turned to dense and then model was run.\n",
    "2. The AUC of the model in different cases were tabulated. \n",
    "   i. It is found that the model AUC value of TFIDF, AVGW2V and TFIDFW2V are better than its corresponding BOW model.\n"
   ]
  }
 ],
 "metadata": {
  "colab": {
   "name": "03 Amazon Fine Food Reviews Analysis_KNN.ipynb",
   "provenance": [],
   "version": "0.3.2"
  },
  "kernelspec": {
   "display_name": "Python 3",
   "language": "python",
   "name": "python3"
  },
  "language_info": {
   "codemirror_mode": {
    "name": "ipython",
    "version": 3
   },
   "file_extension": ".py",
   "mimetype": "text/x-python",
   "name": "python",
   "nbconvert_exporter": "python",
   "pygments_lexer": "ipython3",
   "version": "3.6.5"
  }
 },
 "nbformat": 4,
 "nbformat_minor": 1
}
